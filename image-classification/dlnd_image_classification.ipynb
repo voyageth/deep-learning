{
 "cells": [
  {
   "cell_type": "markdown",
   "metadata": {
    "collapsed": true
   },
   "source": [
    "# Image Classification\n",
    "In this project, you'll classify images from the [CIFAR-10 dataset](https://www.cs.toronto.edu/~kriz/cifar.html).  The dataset consists of airplanes, dogs, cats, and other objects. You'll preprocess the images, then train a convolutional neural network on all the samples. The images need to be normalized and the labels need to be one-hot encoded.  You'll get to apply what you learned and build a convolutional, max pooling, dropout, and fully connected layers.  At the end, you'll get to see your neural network's predictions on the sample images.\n",
    "## Get the Data\n",
    "Run the following cell to download the [CIFAR-10 dataset for python](https://www.cs.toronto.edu/~kriz/cifar-10-python.tar.gz)."
   ]
  },
  {
   "cell_type": "code",
   "execution_count": 4,
   "metadata": {
    "collapsed": false
   },
   "outputs": [
    {
     "name": "stdout",
     "output_type": "stream",
     "text": [
      "All files found!\n"
     ]
    }
   ],
   "source": [
    "\"\"\"\n",
    "DON'T MODIFY ANYTHING IN THIS CELL THAT IS BELOW THIS LINE\n",
    "\"\"\"\n",
    "from urllib.request import urlretrieve\n",
    "from os.path import isfile, isdir\n",
    "from tqdm import tqdm\n",
    "import problem_unittests as tests\n",
    "import tarfile\n",
    "\n",
    "cifar10_dataset_folder_path = 'cifar-10-batches-py'\n",
    "\n",
    "# Use Floyd's cifar-10 dataset if present\n",
    "floyd_cifar10_location = '/input/cifar-10/python.tar.gz'\n",
    "if isfile(floyd_cifar10_location):\n",
    "    tar_gz_path = floyd_cifar10_location\n",
    "else:\n",
    "    tar_gz_path = 'cifar-10-python.tar.gz'\n",
    "\n",
    "class DLProgress(tqdm):\n",
    "    last_block = 0\n",
    "\n",
    "    def hook(self, block_num=1, block_size=1, total_size=None):\n",
    "        self.total = total_size\n",
    "        self.update((block_num - self.last_block) * block_size)\n",
    "        self.last_block = block_num\n",
    "\n",
    "if not isfile(tar_gz_path):\n",
    "    with DLProgress(unit='B', unit_scale=True, miniters=1, desc='CIFAR-10 Dataset') as pbar:\n",
    "        urlretrieve(\n",
    "            'https://www.cs.toronto.edu/~kriz/cifar-10-python.tar.gz',\n",
    "            tar_gz_path,\n",
    "            pbar.hook)\n",
    "\n",
    "if not isdir(cifar10_dataset_folder_path):\n",
    "    with tarfile.open(tar_gz_path) as tar:\n",
    "        tar.extractall()\n",
    "        tar.close()\n",
    "\n",
    "\n",
    "tests.test_folder_path(cifar10_dataset_folder_path)"
   ]
  },
  {
   "cell_type": "markdown",
   "metadata": {},
   "source": [
    "## Explore the Data\n",
    "The dataset is broken into batches to prevent your machine from running out of memory.  The CIFAR-10 dataset consists of 5 batches, named `data_batch_1`, `data_batch_2`, etc.. Each batch contains the labels and images that are one of the following:\n",
    "* airplane\n",
    "* automobile\n",
    "* bird\n",
    "* cat\n",
    "* deer\n",
    "* dog\n",
    "* frog\n",
    "* horse\n",
    "* ship\n",
    "* truck\n",
    "\n",
    "Understanding a dataset is part of making predictions on the data.  Play around with the code cell below by changing the `batch_id` and `sample_id`. The `batch_id` is the id for a batch (1-5). The `sample_id` is the id for a image and label pair in the batch.\n",
    "\n",
    "Ask yourself \"What are all possible labels?\", \"What is the range of values for the image data?\", \"Are the labels in order or random?\".  Answers to questions like these will help you preprocess the data and end up with better predictions."
   ]
  },
  {
   "cell_type": "code",
   "execution_count": 5,
   "metadata": {
    "collapsed": false,
    "scrolled": false
   },
   "outputs": [
    {
     "name": "stdout",
     "output_type": "stream",
     "text": [
      "\n",
      "Stats of batch 1:\n",
      "Samples: 10000\n",
      "Label Counts: {0: 1005, 1: 974, 2: 1032, 3: 1016, 4: 999, 5: 937, 6: 1030, 7: 1001, 8: 1025, 9: 981}\n",
      "First 20 Labels: [6, 9, 9, 4, 1, 1, 2, 7, 8, 3, 4, 7, 7, 2, 9, 9, 9, 3, 2, 6]\n",
      "\n",
      "Example of Image 5:\n",
      "Image - Min Value: 0 Max Value: 252\n",
      "Image - Shape: (32, 32, 3)\n",
      "Label - Label Id: 1 Name: automobile\n",
      "\n",
      "Stats of batch 1:\n",
      "Samples: 10000\n",
      "Label Counts: {0: 1005, 1: 974, 2: 1032, 3: 1016, 4: 999, 5: 937, 6: 1030, 7: 1001, 8: 1025, 9: 981}\n",
      "First 20 Labels: [6, 9, 9, 4, 1, 1, 2, 7, 8, 3, 4, 7, 7, 2, 9, 9, 9, 3, 2, 6]\n",
      "\n",
      "Example of Image 2:\n",
      "Image - Min Value: 20 Max Value: 255\n",
      "Image - Shape: (32, 32, 3)\n",
      "Label - Label Id: 9 Name: truck\n",
      "\n",
      "Stats of batch 3:\n",
      "Samples: 10000\n",
      "Label Counts: {0: 994, 1: 1042, 2: 965, 3: 997, 4: 990, 5: 1029, 6: 978, 7: 1015, 8: 961, 9: 1029}\n",
      "First 20 Labels: [8, 5, 0, 6, 9, 2, 8, 3, 6, 2, 7, 4, 6, 9, 0, 0, 7, 3, 7, 2]\n",
      "\n",
      "Example of Image 1:\n",
      "Image - Min Value: 15 Max Value: 249\n",
      "Image - Shape: (32, 32, 3)\n",
      "Label - Label Id: 5 Name: dog\n"
     ]
    },
    {
     "data": {
      "image/png": "[encoded data removed]",
      "text/plain": [
       "<matplotlib.figure.Figure at 0x7f26892810f0>"
      ]
     },
     "metadata": {
      "image/png": {
       "height": 250,
       "width": 253
      }
     },
     "output_type": "display_data"
    }
   ],
   "source": [
    "%matplotlib inline\n",
    "%config InlineBackend.figure_format = 'retina'\n",
    "\n",
    "import helper\n",
    "import numpy as np\n",
    "\n",
    "# Explore the dataset\n",
    "batch_id = 1\n",
    "sample_id = 5\n",
    "helper.display_stats(cifar10_dataset_folder_path, batch_id, sample_id)\n",
    "helper.display_stats(cifar10_dataset_folder_path, 1, 2)\n",
    "helper.display_stats(cifar10_dataset_folder_path, 3, 1)"
   ]
  },
  {
   "cell_type": "markdown",
   "metadata": {},
   "source": [
    "## Implement Preprocess Functions\n",
    "### Normalize\n",
    "In the cell below, implement the `normalize` function to take in image data, `x`, and return it as a normalized Numpy array. The values should be in the range of 0 to 1, inclusive.  The return object should be the same shape as `x`."
   ]
  },
  {
   "cell_type": "code",
   "execution_count": 6,
   "metadata": {
    "collapsed": false
   },
   "outputs": [
    {
     "name": "stdout",
     "output_type": "stream",
     "text": [
      "Tests Passed\n"
     ]
    }
   ],
   "source": [
    "def normalize(x):\n",
    "    \"\"\"\n",
    "    Normalize a list of sample image data in the range of 0 to 1\n",
    "    : x: List of image data.  The image shape is (32, 32, 3)\n",
    "    : return: Numpy array of normalize data\n",
    "    \"\"\"\n",
    "    # TODO: Implement Function\n",
    "    return x / float(255)\n",
    "\n",
    "\n",
    "\"\"\"\n",
    "DON'T MODIFY ANYTHING IN THIS CELL THAT IS BELOW THIS LINE\n",
    "\"\"\"\n",
    "tests.test_normalize(normalize)"
   ]
  },
  {
   "cell_type": "markdown",
   "metadata": {},
   "source": [
    "### One-hot encode\n",
    "Just like the previous code cell, you'll be implementing a function for preprocessing.  This time, you'll implement the `one_hot_encode` function. The input, `x`, are a list of labels.  Implement the function to return the list of labels as One-Hot encoded Numpy array.  The possible values for labels are 0 to 9. The one-hot encoding function should return the same encoding for each value between each call to `one_hot_encode`.  Make sure to save the map of encodings outside the function.\n",
    "\n",
    "Hint: Don't reinvent the wheel."
   ]
  },
  {
   "cell_type": "code",
   "execution_count": 7,
   "metadata": {
    "collapsed": false
   },
   "outputs": [
    {
     "name": "stdout",
     "output_type": "stream",
     "text": [
      "Tests Passed\n"
     ]
    }
   ],
   "source": [
    "def one_hot_encode(x):\n",
    "    \"\"\"\n",
    "    One hot encode a list of sample labels. Return a one-hot encoded vector for each label.\n",
    "    : x: List of sample Labels\n",
    "    : return: Numpy array of one-hot encoded labels\n",
    "    \"\"\"\n",
    "    # TODO: Implement Function\n",
    "    result = np.zeros((len(x),10))\n",
    "    result[np.arange(len(x)), x] = 1\n",
    "    return result\n",
    "\n",
    "\n",
    "\"\"\"\n",
    "DON'T MODIFY ANYTHING IN THIS CELL THAT IS BELOW THIS LINE\n",
    "\"\"\"\n",
    "tests.test_one_hot_encode(one_hot_encode)"
   ]
  },
  {
   "cell_type": "markdown",
   "metadata": {},
   "source": [
    "### Randomize Data\n",
    "As you saw from exploring the data above, the order of the samples are randomized.  It doesn't hurt to randomize it again, but you don't need to for this dataset."
   ]
  },
  {
   "cell_type": "markdown",
   "metadata": {},
   "source": [
    "## Preprocess all the data and save it\n",
    "Running the code cell below will preprocess all the CIFAR-10 data and save it to file. The code below also uses 10% of the training data for validation."
   ]
  },
  {
   "cell_type": "code",
   "execution_count": 8,
   "metadata": {
    "collapsed": false
   },
   "outputs": [],
   "source": [
    "\"\"\"\n",
    "DON'T MODIFY ANYTHING IN THIS CELL\n",
    "\"\"\"\n",
    "# Preprocess Training, Validation, and Testing Data\n",
    "helper.preprocess_and_save_data(cifar10_dataset_folder_path, normalize, one_hot_encode)"
   ]
  },
  {
   "cell_type": "markdown",
   "metadata": {},
   "source": [
    "# Check Point\n",
    "This is your first checkpoint.  If you ever decide to come back to this notebook or have to restart the notebook, you can start from here.  The preprocessed data has been saved to disk."
   ]
  },
  {
   "cell_type": "code",
   "execution_count": 9,
   "metadata": {
    "collapsed": true
   },
   "outputs": [],
   "source": [
    "\"\"\"\n",
    "DON'T MODIFY ANYTHING IN THIS CELL\n",
    "\"\"\"\n",
    "import pickle\n",
    "import problem_unittests as tests\n",
    "import helper\n",
    "\n",
    "# Load the Preprocessed Validation data\n",
    "valid_features, valid_labels = pickle.load(open('preprocess_validation.p', mode='rb'))"
   ]
  },
  {
   "cell_type": "markdown",
   "metadata": {},
   "source": [
    "## Build the network\n",
    "For the neural network, you'll build each layer into a function.  Most of the code you've seen has been outside of functions. To test your code more thoroughly, we require that you put each layer in a function.  This allows us to give you better feedback and test for simple mistakes using our unittests before you submit your project.\n",
    "\n",
    ">**Note:** If you're finding it hard to dedicate enough time for this course each week, we've provided a small shortcut to this part of the project. In the next couple of problems, you'll have the option to use classes from the [TensorFlow Layers](https://www.tensorflow.org/api_docs/python/tf/layers) or [TensorFlow Layers (contrib)](https://www.tensorflow.org/api_guides/python/contrib.layers) packages to build each layer, except the layers you build in the \"Convolutional and Max Pooling Layer\" section.  TF Layers is similar to Keras's and TFLearn's abstraction to layers, so it's easy to pickup.\n",
    "\n",
    ">However, if you would like to get the most out of this course, try to solve all the problems _without_ using anything from the TF Layers packages. You **can** still use classes from other packages that happen to have the same name as ones you find in TF Layers! For example, instead of using the TF Layers version of the `conv2d` class, [tf.layers.conv2d](https://www.tensorflow.org/api_docs/python/tf/layers/conv2d), you would want to use the TF Neural Network version of `conv2d`, [tf.nn.conv2d](https://www.tensorflow.org/api_docs/python/tf/nn/conv2d). \n",
    "\n",
    "Let's begin!\n",
    "\n",
    "### Input\n",
    "The neural network needs to read the image data, one-hot encoded labels, and dropout keep probability. Implement the following functions\n",
    "* Implement `neural_net_image_input`\n",
    " * Return a [TF Placeholder](https://www.tensorflow.org/api_docs/python/tf/placeholder)\n",
    " * Set the shape using `image_shape` with batch size set to `None`.\n",
    " * Name the TensorFlow placeholder \"x\" using the TensorFlow `name` parameter in the [TF Placeholder](https://www.tensorflow.org/api_docs/python/tf/placeholder).\n",
    "* Implement `neural_net_label_input`\n",
    " * Return a [TF Placeholder](https://www.tensorflow.org/api_docs/python/tf/placeholder)\n",
    " * Set the shape using `n_classes` with batch size set to `None`.\n",
    " * Name the TensorFlow placeholder \"y\" using the TensorFlow `name` parameter in the [TF Placeholder](https://www.tensorflow.org/api_docs/python/tf/placeholder).\n",
    "* Implement `neural_net_keep_prob_input`\n",
    " * Return a [TF Placeholder](https://www.tensorflow.org/api_docs/python/tf/placeholder) for dropout keep probability.\n",
    " * Name the TensorFlow placeholder \"keep_prob\" using the TensorFlow `name` parameter in the [TF Placeholder](https://www.tensorflow.org/api_docs/python/tf/placeholder).\n",
    "\n",
    "These names will be used at the end of the project to load your saved model.\n",
    "\n",
    "Note: `None` for shapes in TensorFlow allow for a dynamic size."
   ]
  },
  {
   "cell_type": "code",
   "execution_count": 10,
   "metadata": {
    "collapsed": false
   },
   "outputs": [
    {
     "name": "stdout",
     "output_type": "stream",
     "text": [
      "Image Input Tests Passed.\n",
      "Label Input Tests Passed.\n",
      "Keep Prob Tests Passed.\n"
     ]
    }
   ],
   "source": [
    "import tensorflow as tf\n",
    "\n",
    "def neural_net_image_input(image_shape):\n",
    "    \"\"\"\n",
    "    Return a Tensor for a batch of image input\n",
    "    : image_shape: Shape of the images\n",
    "    : return: Tensor for image input.\n",
    "    \"\"\"\n",
    "    # TODO: Implement Function\n",
    "    return tf.placeholder(dtype=tf.float32, shape=[None, image_shape[0], image_shape[1], image_shape[2]], name='x')\n",
    "\n",
    "\n",
    "def neural_net_label_input(n_classes):\n",
    "    \"\"\"\n",
    "    Return a Tensor for a batch of label input\n",
    "    : n_classes: Number of classes\n",
    "    : return: Tensor for label input.\n",
    "    \"\"\"\n",
    "    # TODO: Implement Function\n",
    "    return tf.placeholder(dtype=tf.float32, shape=[None, n_classes], name='y')\n",
    "\n",
    "\n",
    "def neural_net_keep_prob_input():\n",
    "    \"\"\"\n",
    "    Return a Tensor for keep probability\n",
    "    : return: Tensor for keep probability.\n",
    "    \"\"\"\n",
    "    # TODO: Implement Function\n",
    "    return tf.placeholder(dtype=tf.float32, name='keep_prob')\n",
    "\n",
    "\n",
    "\"\"\"\n",
    "DON'T MODIFY ANYTHING IN THIS CELL THAT IS BELOW THIS LINE\n",
    "\"\"\"\n",
    "tf.reset_default_graph()\n",
    "tests.test_nn_image_inputs(neural_net_image_input)\n",
    "tests.test_nn_label_inputs(neural_net_label_input)\n",
    "tests.test_nn_keep_prob_inputs(neural_net_keep_prob_input)"
   ]
  },
  {
   "cell_type": "markdown",
   "metadata": {},
   "source": [
    "### Convolution and Max Pooling Layer\n",
    "Convolution layers have a lot of success with images. For this code cell, you should implement the function `conv2d_maxpool` to apply convolution then max pooling:\n",
    "* Create the weight and bias using `conv_ksize`, `conv_num_outputs` and the shape of `x_tensor`.\n",
    "* Apply a convolution to `x_tensor` using weight and `conv_strides`.\n",
    " * We recommend you use same padding, but you're welcome to use any padding.\n",
    "* Add bias\n",
    "* Add a nonlinear activation to the convolution.\n",
    "* Apply Max Pooling using `pool_ksize` and `pool_strides`.\n",
    " * We recommend you use same padding, but you're welcome to use any padding.\n",
    "\n",
    "**Note:** You **can't** use [TensorFlow Layers](https://www.tensorflow.org/api_docs/python/tf/layers) or [TensorFlow Layers (contrib)](https://www.tensorflow.org/api_guides/python/contrib.layers) for **this** layer, but you can still use TensorFlow's [Neural Network](https://www.tensorflow.org/api_docs/python/tf/nn) package. You may still use the shortcut option for all the **other** layers."
   ]
  },
  {
   "cell_type": "code",
   "execution_count": 11,
   "metadata": {
    "collapsed": false
   },
   "outputs": [
    {
     "name": "stdout",
     "output_type": "stream",
     "text": [
      "Tests Passed\n"
     ]
    }
   ],
   "source": [
    "def conv2d_maxpool(x_tensor, conv_num_outputs, conv_ksize, conv_strides, pool_ksize, pool_strides):\n",
    "    \"\"\"\n",
    "    Apply convolution then max pooling to x_tensor\n",
    "    :param x_tensor: TensorFlow Tensor\n",
    "    :param conv_num_outputs: Number of outputs for the convolutional layer\n",
    "    :param conv_ksize: kernal size 2-D Tuple for the convolutional layer\n",
    "    :param conv_strides: Stride 2-D Tuple for convolution\n",
    "    :param pool_ksize: kernal size 2-D Tuple for pool\n",
    "    :param pool_strides: Stride 2-D Tuple for pool\n",
    "    : return: A tensor that represents convolution and max pooling of x_tensor\n",
    "    \"\"\"\n",
    "    # TODO: Implement Function\n",
    "    input_class_count = x_tensor.shape.as_list()[-1]\n",
    "    weights = tf.Variable(tf.truncated_normal([conv_ksize[0], conv_ksize[1], input_class_count, conv_num_outputs], stddev=0.1))\n",
    "    bias = tf.Variable(tf.zeros(conv_num_outputs))\n",
    "    \n",
    "    conv = tf.nn.conv2d(x_tensor, weights, strides=[1, conv_strides[0], conv_strides[1], 1], padding='SAME')\n",
    "    conv = tf.nn.bias_add(conv, bias)\n",
    "    conv = tf.nn.relu(conv)\n",
    "    max_pool = tf.nn.max_pool(conv, ksize=[1, pool_ksize[0], pool_ksize[1], 1], strides=[1, pool_strides[0], pool_strides[1], 1], padding=\"SAME\")\n",
    "    return max_pool\n",
    "\n",
    "\n",
    "\"\"\"\n",
    "DON'T MODIFY ANYTHING IN THIS CELL THAT IS BELOW THIS LINE\n",
    "\"\"\"\n",
    "tests.test_con_pool(conv2d_maxpool)"
   ]
  },
  {
   "cell_type": "markdown",
   "metadata": {},
   "source": [
    "### Flatten Layer\n",
    "Implement the `flatten` function to change the dimension of `x_tensor` from a 4-D tensor to a 2-D tensor.  The output should be the shape (*Batch Size*, *Flattened Image Size*). Shortcut option: you can use classes from the [TensorFlow Layers](https://www.tensorflow.org/api_docs/python/tf/layers) or [TensorFlow Layers (contrib)](https://www.tensorflow.org/api_guides/python/contrib.layers) packages for this layer. For more of a challenge, only use other TensorFlow packages."
   ]
  },
  {
   "cell_type": "code",
   "execution_count": 12,
   "metadata": {
    "collapsed": false
   },
   "outputs": [
    {
     "name": "stdout",
     "output_type": "stream",
     "text": [
      "Tests Passed\n"
     ]
    }
   ],
   "source": [
    "def flatten(x_tensor):\n",
    "    \"\"\"\n",
    "    Flatten x_tensor to (Batch Size, Flattened Image Size)\n",
    "    : x_tensor: A tensor of size (Batch Size, ...), where ... are the image dimensions.\n",
    "    : return: A tensor of size (Batch Size, Flattened Image Size).\n",
    "    \"\"\"\n",
    "    # TODO: Implement Function\n",
    "    shape = x_tensor.shape.as_list()\n",
    "    new_size = shape[1] * shape[2] * shape[3]\n",
    "    return tf.reshape(x_tensor, [-1, new_size])\n",
    "\n",
    "\n",
    "\"\"\"\n",
    "DON'T MODIFY ANYTHING IN THIS CELL THAT IS BELOW THIS LINE\n",
    "\"\"\"\n",
    "tests.test_flatten(flatten)"
   ]
  },
  {
   "cell_type": "markdown",
   "metadata": {},
   "source": [
    "### Fully-Connected Layer\n",
    "Implement the `fully_conn` function to apply a fully connected layer to `x_tensor` with the shape (*Batch Size*, *num_outputs*). Shortcut option: you can use classes from the [TensorFlow Layers](https://www.tensorflow.org/api_docs/python/tf/layers) or [TensorFlow Layers (contrib)](https://www.tensorflow.org/api_guides/python/contrib.layers) packages for this layer. For more of a challenge, only use other TensorFlow packages."
   ]
  },
  {
   "cell_type": "code",
   "execution_count": 13,
   "metadata": {
    "collapsed": false
   },
   "outputs": [
    {
     "name": "stdout",
     "output_type": "stream",
     "text": [
      "Tests Passed\n"
     ]
    }
   ],
   "source": [
    "def fully_conn(x_tensor, num_outputs):\n",
    "    \"\"\"\n",
    "    Apply a fully connected layer to x_tensor using weight and bias\n",
    "    : x_tensor: A 2-D tensor where the first dimension is batch size.\n",
    "    : num_outputs: The number of output that the new tensor should be.\n",
    "    : return: A 2-D tensor where the second dimension is num_outputs.\n",
    "    \"\"\"\n",
    "    # TODO: Implement Function\n",
    "    shape = x_tensor.shape.as_list()\n",
    "    weights = tf.Variable(tf.truncated_normal([shape[1], num_outputs], stddev=0.1))\n",
    "    bias = tf.Variable(np.ones(num_outputs), dtype=tf.float32)\n",
    "    result = tf.add(tf.matmul(x_tensor, weights), bias)\n",
    "    return tf.nn.relu(result)\n",
    "\n",
    "\n",
    "\"\"\"\n",
    "DON'T MODIFY ANYTHING IN THIS CELL THAT IS BELOW THIS LINE\n",
    "\"\"\"\n",
    "tests.test_fully_conn(fully_conn)"
   ]
  },
  {
   "cell_type": "markdown",
   "metadata": {},
   "source": [
    "### Output Layer\n",
    "Implement the `output` function to apply a fully connected layer to `x_tensor` with the shape (*Batch Size*, *num_outputs*). Shortcut option: you can use classes from the [TensorFlow Layers](https://www.tensorflow.org/api_docs/python/tf/layers) or [TensorFlow Layers (contrib)](https://www.tensorflow.org/api_guides/python/contrib.layers) packages for this layer. For more of a challenge, only use other TensorFlow packages.\n",
    "\n",
    "**Note:** Activation, softmax, or cross entropy should **not** be applied to this."
   ]
  },
  {
   "cell_type": "code",
   "execution_count": 14,
   "metadata": {
    "collapsed": false
   },
   "outputs": [
    {
     "name": "stdout",
     "output_type": "stream",
     "text": [
      "Tests Passed\n"
     ]
    }
   ],
   "source": [
    "def output(x_tensor, num_outputs):\n",
    "    \"\"\"\n",
    "    Apply a output layer to x_tensor using weight and bias\n",
    "    : x_tensor: A 2-D tensor where the first dimension is batch size.\n",
    "    : num_outputs: The number of output that the new tensor should be.\n",
    "    : return: A 2-D tensor where the second dimension is num_outputs.\n",
    "    \"\"\"\n",
    "    # TODO: Implement Function\n",
    "#     shape = x_tensor.shape.as_list()\n",
    "#     weights = tf.Variable(tf.truncated_normal([shape[1], num_outputs]))\n",
    "#     bias = tf.Variable(np.ones(num_outputs), dtype=tf.float32)\n",
    "#     result = tf.matmul(x_tensor, weights) + bias\n",
    "#     return result\n",
    "\n",
    "    shape = x_tensor.shape.as_list()\n",
    "    weights = tf.Variable(tf.truncated_normal([shape[1], num_outputs], stddev=0.1))\n",
    "    bias = tf.Variable(np.ones(num_outputs), dtype=tf.float32)\n",
    "    result = tf.add(tf.matmul(x_tensor, weights), bias)\n",
    "    return result\n",
    "\n",
    "\n",
    "\"\"\"\n",
    "DON'T MODIFY ANYTHING IN THIS CELL THAT IS BELOW THIS LINE\n",
    "\"\"\"\n",
    "tests.test_output(output)"
   ]
  },
  {
   "cell_type": "markdown",
   "metadata": {},
   "source": [
    "### Create Convolutional Model\n",
    "Implement the function `conv_net` to create a convolutional neural network model. The function takes in a batch of images, `x`, and outputs logits.  Use the layers you created above to create this model:\n",
    "\n",
    "* Apply 1, 2, or 3 Convolution and Max Pool layers\n",
    "* Apply a Flatten Layer\n",
    "* Apply 1, 2, or 3 Fully Connected Layers\n",
    "* Apply an Output Layer\n",
    "* Return the output\n",
    "* Apply [TensorFlow's Dropout](https://www.tensorflow.org/api_docs/python/tf/nn/dropout) to one or more layers in the model using `keep_prob`. "
   ]
  },
  {
   "cell_type": "code",
   "execution_count": 15,
   "metadata": {
    "collapsed": false
   },
   "outputs": [
    {
     "name": "stdout",
     "output_type": "stream",
     "text": [
      "Tensor(\"x:0\", shape=(?, 32, 32, 3), dtype=float32)\n",
      "Tensor(\"dropout/mul:0\", shape=(?, 16, 16, 32), dtype=float32)\n",
      "Tensor(\"dropout_1/mul:0\", shape=(?, 8, 8, 64), dtype=float32)\n",
      "Tensor(\"dropout_2/mul:0\", shape=(?, 4, 4, 128), dtype=float32)\n",
      "Tensor(\"Reshape:0\", shape=(?, 2048), dtype=float32)\n",
      "Tensor(\"dropout_3/mul:0\", shape=(?, 64), dtype=float32)\n",
      "Tensor(\"Placeholder:0\", shape=(?, 32, 32, 3), dtype=float32)\n",
      "Tensor(\"dropout_4/mul:0\", shape=(?, 16, 16, 32), dtype=float32)\n",
      "Tensor(\"dropout_5/mul:0\", shape=(?, 8, 8, 64), dtype=float32)\n",
      "Tensor(\"dropout_6/mul:0\", shape=(?, 4, 4, 128), dtype=float32)\n",
      "Tensor(\"Reshape_4:0\", shape=(?, 2048), dtype=float32)\n",
      "Tensor(\"dropout_7/mul:0\", shape=(?, 64), dtype=float32)\n",
      "Neural Network Built!\n"
     ]
    }
   ],
   "source": [
    "def conv_net(x, keep_prob):\n",
    "    \"\"\"\n",
    "    Create a convolutional neural network model\n",
    "    : x: Placeholder tensor that holds image data.\n",
    "    : keep_prob: Placeholder tensor that hold dropout keep probability.\n",
    "    : return: Tensor that represents logits\n",
    "    \"\"\"\n",
    "    # TODO: Apply 1, 2, or 3 Convolution and Max Pool layers\n",
    "    #    Play around with different number of outputs, kernel size and stride\n",
    "    # Function Definition from Above:\n",
    "    #    conv2d_maxpool(x_tensor, conv_num_outputs, conv_ksize, conv_strides, pool_ksize, pool_strides)\n",
    "    print(x)\n",
    "    conv_num_outputs = 32\n",
    "    conv_ksize = [3,3]\n",
    "    conv_strides = [1,1]\n",
    "    pool_ksize = [2,2]\n",
    "    pool_strides = [2,2]\n",
    "    conv = conv2d_maxpool(x, conv_num_outputs, conv_ksize, conv_strides, pool_ksize, pool_strides)\n",
    "    conv = tf.nn.dropout(conv, keep_prob)\n",
    "    print(conv)\n",
    "    conv_num_outputs = 64\n",
    "    conv = conv2d_maxpool(conv, conv_num_outputs, conv_ksize, conv_strides, pool_ksize, pool_strides)\n",
    "    conv = tf.nn.dropout(conv, keep_prob)\n",
    "    print(conv)\n",
    "    conv_num_outputs = 128\n",
    "    conv = conv2d_maxpool(conv, conv_num_outputs, conv_ksize, conv_strides, pool_ksize, pool_strides)\n",
    "    conv = tf.nn.dropout(conv, keep_prob)\n",
    "    print(conv)\n",
    "    \n",
    "    # TODO: Apply a Flatten Layer\n",
    "    # Function Definition from Above:\n",
    "    #   flatten(x_tensor)\n",
    "    flatten_layer = flatten(conv)\n",
    "    print(flatten_layer)\n",
    "    \n",
    "\n",
    "    # TODO: Apply 1, 2, or 3 Fully Connected Layers\n",
    "    #    Play around with different number of outputs\n",
    "    # Function Definition from Above:\n",
    "    #   fully_conn(x_tensor, num_outputs)\n",
    "    fc = fully_conn(flatten_layer, 64)\n",
    "    fc = tf.nn.dropout(fc, keep_prob)\n",
    "    print(fc)\n",
    "#     fc = fully_conn(fc, 40)\n",
    "#     print(fc)\n",
    "#     fc = fully_conn(fc, 20)\n",
    "#     print(fc)\n",
    "    \n",
    "    # TODO: Apply an Output Layer\n",
    "    #    Set this to the number of classes\n",
    "    # Function Definition from Above:\n",
    "    #   output(x_tensor, num_outputs)\n",
    "    result = output(fc, 10)\n",
    "    \n",
    "    # TODO: return output\n",
    "    return result\n",
    "\n",
    "\n",
    "\"\"\"\n",
    "DON'T MODIFY ANYTHING IN THIS CELL THAT IS BELOW THIS LINE\n",
    "\"\"\"\n",
    "\n",
    "##############################\n",
    "## Build the Neural Network ##\n",
    "##############################\n",
    "\n",
    "# Remove previous weights, bias, inputs, etc..\n",
    "tf.reset_default_graph()\n",
    "\n",
    "# Inputs\n",
    "x = neural_net_image_input((32, 32, 3))\n",
    "y = neural_net_label_input(10)\n",
    "keep_prob = neural_net_keep_prob_input()\n",
    "\n",
    "# Model\n",
    "logits = conv_net(x, keep_prob)\n",
    "\n",
    "# Name logits Tensor, so that is can be loaded from disk after training\n",
    "logits = tf.identity(logits, name='logits')\n",
    "\n",
    "# Loss and Optimizer\n",
    "cost = tf.reduce_mean(tf.nn.softmax_cross_entropy_with_logits(logits=logits, labels=y))\n",
    "optimizer = tf.train.AdamOptimizer().minimize(cost)\n",
    "\n",
    "# Accuracy\n",
    "correct_pred = tf.equal(tf.argmax(logits, 1), tf.argmax(y, 1))\n",
    "accuracy = tf.reduce_mean(tf.cast(correct_pred, tf.float32), name='accuracy')\n",
    "\n",
    "tests.test_conv_net(conv_net)"
   ]
  },
  {
   "cell_type": "markdown",
   "metadata": {},
   "source": [
    "## Train the Neural Network\n",
    "### Single Optimization\n",
    "Implement the function `train_neural_network` to do a single optimization.  The optimization should use `optimizer` to optimize in `session` with a `feed_dict` of the following:\n",
    "* `x` for image input\n",
    "* `y` for labels\n",
    "* `keep_prob` for keep probability for dropout\n",
    "\n",
    "This function will be called for each batch, so `tf.global_variables_initializer()` has already been called.\n",
    "\n",
    "Note: Nothing needs to be returned. This function is only optimizing the neural network."
   ]
  },
  {
   "cell_type": "code",
   "execution_count": 16,
   "metadata": {
    "collapsed": false
   },
   "outputs": [
    {
     "name": "stdout",
     "output_type": "stream",
     "text": [
      "Tests Passed\n"
     ]
    }
   ],
   "source": [
    "def train_neural_network(session, optimizer, keep_probability, feature_batch, label_batch):\n",
    "    \"\"\"\n",
    "    Optimize the session on a batch of images and labels\n",
    "    : session: Current TensorFlow session\n",
    "    : optimizer: TensorFlow optimizer function\n",
    "    : keep_probability: keep probability\n",
    "    : feature_batch: Batch of Numpy image data\n",
    "    : label_batch: Batch of Numpy label data\n",
    "    \"\"\"\n",
    "    # TODO: Implement Function\n",
    "    session.run(optimizer, feed_dict={keep_prob:keep_probability, x:feature_batch, y:label_batch})\n",
    "\n",
    "\n",
    "\"\"\"\n",
    "DON'T MODIFY ANYTHING IN THIS CELL THAT IS BELOW THIS LINE\n",
    "\"\"\"\n",
    "tests.test_train_nn(train_neural_network)"
   ]
  },
  {
   "cell_type": "markdown",
   "metadata": {},
   "source": [
    "### Show Stats\n",
    "Implement the function `print_stats` to print loss and validation accuracy.  Use the global variables `valid_features` and `valid_labels` to calculate validation accuracy.  Use a keep probability of `1.0` to calculate the loss and validation accuracy."
   ]
  },
  {
   "cell_type": "code",
   "execution_count": 40,
   "metadata": {
    "collapsed": false
   },
   "outputs": [],
   "source": [
    "def print_stats(session, feature_batch, label_batch, cost, accuracy):\n",
    "    \"\"\"\n",
    "    Print information about loss and validation accuracy\n",
    "    : session: Current TensorFlow session\n",
    "    : feature_batch: Batch of Numpy image data\n",
    "    : label_batch: Batch of Numpy label data\n",
    "    : cost: TensorFlow cost function\n",
    "    : accuracy: TensorFlow accuracy function\n",
    "    \"\"\"\n",
    "    # TODO: Implement Function\n",
    "    batch_cost = session.run(cost, feed_dict={x:feature_batch, y:label_batch, keep_prob:1.0})\n",
    "    batch_acc = session.run(accuracy, feed_dict={x:feature_batch, y:label_batch, keep_prob:1.0})\n",
    "    validation_cost = session.run(cost, feed_dict={x:valid_features, y:valid_labels, keep_prob:1.0})\n",
    "    validation_acc = session.run(accuracy, feed_dict={x:valid_features, y:valid_labels, keep_prob:1.0})\n",
    "    print(\"[Batch] cost : {0:0.4f}, accuracy : {1:0.4f} [Validation] cost : {2:0.4f}, accuracy : {3:0.4f}\".format(batch_cost, batch_acc, validation_cost, validation_acc))\n",
    "    pass\n"
   ]
  },
  {
   "cell_type": "markdown",
   "metadata": {},
   "source": [
    "### Hyperparameters\n",
    "Tune the following parameters:\n",
    "* Set `epochs` to the number of iterations until the network stops learning or start overfitting\n",
    "* Set `batch_size` to the highest number that your machine has memory for.  Most people set them to common sizes of memory:\n",
    " * 64\n",
    " * 128\n",
    " * 256\n",
    " * ...\n",
    "* Set `keep_probability` to the probability of keeping a node using dropout"
   ]
  },
  {
   "cell_type": "code",
   "execution_count": 41,
   "metadata": {
    "collapsed": true
   },
   "outputs": [],
   "source": [
    "# TODO: Tune Parameters\n",
    "epochs = 20\n",
    "batch_size = 256\n",
    "keep_probability = 0.8"
   ]
  },
  {
   "cell_type": "markdown",
   "metadata": {},
   "source": [
    "### Train on a Single CIFAR-10 Batch\n",
    "Instead of training the neural network on all the CIFAR-10 batches of data, let's use a single batch. This should save time while you iterate on the model to get a better accuracy.  Once the final validation accuracy is 50% or greater, run the model on all the data in the next section."
   ]
  },
  {
   "cell_type": "code",
   "execution_count": 42,
   "metadata": {
    "collapsed": false,
    "scrolled": false
   },
   "outputs": [
    {
     "name": "stdout",
     "output_type": "stream",
     "text": [
      "Checking the Training on a Single Batch...\n",
      "Epoch  1, CIFAR-10 Batch 1:  [Batch] cost : 2.2517, accuracy : 0.1000 [Validation] cost : 2.2200, accuracy : 0.1422\n",
      "Epoch  2, CIFAR-10 Batch 1:  [Batch] cost : 2.1068, accuracy : 0.2250 [Validation] cost : 2.0139, accuracy : 0.2554\n",
      "Epoch  3, CIFAR-10 Batch 1:  [Batch] cost : 1.9213, accuracy : 0.4000 [Validation] cost : 1.8519, accuracy : 0.3406\n",
      "Epoch  4, CIFAR-10 Batch 1:  [Batch] cost : 1.7678, accuracy : 0.3750 [Validation] cost : 1.6740, accuracy : 0.4024\n",
      "Epoch  5, CIFAR-10 Batch 1:  [Batch] cost : 1.7094, accuracy : 0.4250 [Validation] cost : 1.5854, accuracy : 0.4300\n",
      "Epoch  6, CIFAR-10 Batch 1:  [Batch] cost : 1.5743, accuracy : 0.5000 [Validation] cost : 1.4833, accuracy : 0.4582\n",
      "Epoch  7, CIFAR-10 Batch 1:  [Batch] cost : 1.4873, accuracy : 0.5000 [Validation] cost : 1.4477, accuracy : 0.4766\n",
      "Epoch  8, CIFAR-10 Batch 1:  [Batch] cost : 1.4422, accuracy : 0.5000 [Validation] cost : 1.4035, accuracy : 0.4926\n",
      "Epoch  9, CIFAR-10 Batch 1:  [Batch] cost : 1.3251, accuracy : 0.5250 [Validation] cost : 1.3727, accuracy : 0.5064\n",
      "Epoch 10, CIFAR-10 Batch 1:  [Batch] cost : 1.2319, accuracy : 0.5750 [Validation] cost : 1.3545, accuracy : 0.5152\n",
      "Epoch 11, CIFAR-10 Batch 1:  [Batch] cost : 1.1594, accuracy : 0.6250 [Validation] cost : 1.3149, accuracy : 0.5278\n",
      "Epoch 12, CIFAR-10 Batch 1:  [Batch] cost : 1.1162, accuracy : 0.6250 [Validation] cost : 1.2912, accuracy : 0.5386\n",
      "Epoch 13, CIFAR-10 Batch 1:  [Batch] cost : 1.0116, accuracy : 0.6750 [Validation] cost : 1.2793, accuracy : 0.5452\n",
      "Epoch 14, CIFAR-10 Batch 1:  [Batch] cost : 0.9277, accuracy : 0.6750 [Validation] cost : 1.2313, accuracy : 0.5604\n",
      "Epoch 15, CIFAR-10 Batch 1:  [Batch] cost : 0.8878, accuracy : 0.7000 [Validation] cost : 1.2144, accuracy : 0.5668\n",
      "Epoch 16, CIFAR-10 Batch 1:  [Batch] cost : 0.8378, accuracy : 0.7250 [Validation] cost : 1.2281, accuracy : 0.5618\n",
      "Epoch 17, CIFAR-10 Batch 1:  [Batch] cost : 0.7746, accuracy : 0.7750 [Validation] cost : 1.1873, accuracy : 0.5808\n",
      "Epoch 18, CIFAR-10 Batch 1:  [Batch] cost : 0.7357, accuracy : 0.7250 [Validation] cost : 1.1582, accuracy : 0.5862\n",
      "Epoch 19, CIFAR-10 Batch 1:  [Batch] cost : 0.6591, accuracy : 0.8000 [Validation] cost : 1.1519, accuracy : 0.5850\n",
      "Epoch 20, CIFAR-10 Batch 1:  [Batch] cost : 0.6079, accuracy : 0.8500 [Validation] cost : 1.1238, accuracy : 0.6026\n"
     ]
    }
   ],
   "source": [
    "\"\"\"\n",
    "DON'T MODIFY ANYTHING IN THIS CELL\n",
    "\"\"\"\n",
    "print('Checking the Training on a Single Batch...')\n",
    "with tf.Session() as sess:\n",
    "    # Initializing the variables\n",
    "    sess.run(tf.global_variables_initializer())\n",
    "    \n",
    "    # Training cycle\n",
    "    for epoch in range(epochs):\n",
    "        batch_i = 1\n",
    "        for batch_features, batch_labels in helper.load_preprocess_training_batch(batch_i, batch_size):\n",
    "            train_neural_network(sess, optimizer, keep_probability, batch_features, batch_labels)\n",
    "        print('Epoch {:>2}, CIFAR-10 Batch {}:  '.format(epoch + 1, batch_i), end='')\n",
    "        print_stats(sess, batch_features, batch_labels, cost, accuracy)"
   ]
  },
  {
   "cell_type": "markdown",
   "metadata": {},
   "source": [
    "### Fully Train the Model\n",
    "Now that you got a good accuracy with a single CIFAR-10 batch, try it with all five batches."
   ]
  },
  {
   "cell_type": "code",
   "execution_count": 43,
   "metadata": {
    "collapsed": false,
    "scrolled": false
   },
   "outputs": [
    {
     "name": "stdout",
     "output_type": "stream",
     "text": [
      "Training...\n",
      "Epoch  1, CIFAR-10 Batch 1:  [Batch] cost : 2.1574, accuracy : 0.1750 [Validation] cost : 2.1445, accuracy : 0.2326\n",
      "Epoch  1, CIFAR-10 Batch 2:  [Batch] cost : 2.0657, accuracy : 0.2250 [Validation] cost : 1.9411, accuracy : 0.2748\n",
      "Epoch  1, CIFAR-10 Batch 3:  [Batch] cost : 1.8039, accuracy : 0.2750 [Validation] cost : 1.8488, accuracy : 0.2968\n",
      "Epoch  1, CIFAR-10 Batch 4:  [Batch] cost : 1.6966, accuracy : 0.3750 [Validation] cost : 1.6687, accuracy : 0.3938\n",
      "Epoch  1, CIFAR-10 Batch 5:  [Batch] cost : 1.6216, accuracy : 0.4000 [Validation] cost : 1.5864, accuracy : 0.4158\n",
      "Epoch  2, CIFAR-10 Batch 1:  [Batch] cost : 1.7302, accuracy : 0.4250 [Validation] cost : 1.5251, accuracy : 0.4372\n",
      "Epoch  2, CIFAR-10 Batch 2:  [Batch] cost : 1.4689, accuracy : 0.4500 [Validation] cost : 1.4493, accuracy : 0.4756\n",
      "Epoch  2, CIFAR-10 Batch 3:  [Batch] cost : 1.2563, accuracy : 0.5750 [Validation] cost : 1.4535, accuracy : 0.4702\n",
      "Epoch  2, CIFAR-10 Batch 4:  [Batch] cost : 1.4028, accuracy : 0.5000 [Validation] cost : 1.4267, accuracy : 0.4858\n",
      "Epoch  2, CIFAR-10 Batch 5:  [Batch] cost : 1.4166, accuracy : 0.5000 [Validation] cost : 1.3699, accuracy : 0.5044\n",
      "Epoch  3, CIFAR-10 Batch 1:  [Batch] cost : 1.4521, accuracy : 0.5250 [Validation] cost : 1.3067, accuracy : 0.5264\n",
      "Epoch  3, CIFAR-10 Batch 2:  [Batch] cost : 1.2385, accuracy : 0.5000 [Validation] cost : 1.2835, accuracy : 0.5374\n",
      "Epoch  3, CIFAR-10 Batch 3:  [Batch] cost : 1.0358, accuracy : 0.7000 [Validation] cost : 1.2927, accuracy : 0.5344\n",
      "Epoch  3, CIFAR-10 Batch 4:  [Batch] cost : 1.1621, accuracy : 0.6250 [Validation] cost : 1.2853, accuracy : 0.5448\n",
      "Epoch  3, CIFAR-10 Batch 5:  [Batch] cost : 1.2678, accuracy : 0.5250 [Validation] cost : 1.3023, accuracy : 0.5324\n",
      "Epoch  4, CIFAR-10 Batch 1:  [Batch] cost : 1.1900, accuracy : 0.5750 [Validation] cost : 1.2193, accuracy : 0.5622\n",
      "Epoch  4, CIFAR-10 Batch 2:  [Batch] cost : 1.0140, accuracy : 0.6250 [Validation] cost : 1.1842, accuracy : 0.5766\n",
      "Epoch  4, CIFAR-10 Batch 3:  [Batch] cost : 0.9159, accuracy : 0.7000 [Validation] cost : 1.2355, accuracy : 0.5560\n",
      "Epoch  4, CIFAR-10 Batch 4:  [Batch] cost : 0.9959, accuracy : 0.7500 [Validation] cost : 1.1512, accuracy : 0.5786\n",
      "Epoch  4, CIFAR-10 Batch 5:  [Batch] cost : 1.1156, accuracy : 0.6000 [Validation] cost : 1.1436, accuracy : 0.5932\n",
      "Epoch  5, CIFAR-10 Batch 1:  [Batch] cost : 1.0454, accuracy : 0.6500 [Validation] cost : 1.1246, accuracy : 0.5974\n",
      "Epoch  5, CIFAR-10 Batch 2:  [Batch] cost : 0.8465, accuracy : 0.7000 [Validation] cost : 1.0996, accuracy : 0.6062\n",
      "Epoch  5, CIFAR-10 Batch 3:  [Batch] cost : 0.7659, accuracy : 0.8000 [Validation] cost : 1.0995, accuracy : 0.6056\n",
      "Epoch  5, CIFAR-10 Batch 4:  [Batch] cost : 0.8770, accuracy : 0.7500 [Validation] cost : 1.0842, accuracy : 0.6180\n",
      "Epoch  5, CIFAR-10 Batch 5:  [Batch] cost : 0.9472, accuracy : 0.6750 [Validation] cost : 1.0809, accuracy : 0.6146\n",
      "Epoch  6, CIFAR-10 Batch 1:  [Batch] cost : 0.9608, accuracy : 0.7000 [Validation] cost : 1.0328, accuracy : 0.6310\n",
      "Epoch  6, CIFAR-10 Batch 2:  [Batch] cost : 0.7604, accuracy : 0.7000 [Validation] cost : 1.0580, accuracy : 0.6286\n",
      "Epoch  6, CIFAR-10 Batch 3:  [Batch] cost : 0.6843, accuracy : 0.8000 [Validation] cost : 1.0434, accuracy : 0.6214\n",
      "Epoch  6, CIFAR-10 Batch 4:  [Batch] cost : 0.8532, accuracy : 0.7500 [Validation] cost : 1.0534, accuracy : 0.6240\n",
      "Epoch  6, CIFAR-10 Batch 5:  [Batch] cost : 0.7927, accuracy : 0.7750 [Validation] cost : 1.0047, accuracy : 0.6462\n",
      "Epoch  7, CIFAR-10 Batch 1:  [Batch] cost : 0.8128, accuracy : 0.7250 [Validation] cost : 1.0034, accuracy : 0.6492\n",
      "Epoch  7, CIFAR-10 Batch 2:  [Batch] cost : 0.6755, accuracy : 0.7750 [Validation] cost : 1.0107, accuracy : 0.6428\n",
      "Epoch  7, CIFAR-10 Batch 3:  [Batch] cost : 0.5879, accuracy : 0.8000 [Validation] cost : 1.0137, accuracy : 0.6424\n",
      "Epoch  7, CIFAR-10 Batch 4:  [Batch] cost : 0.7166, accuracy : 0.7250 [Validation] cost : 0.9790, accuracy : 0.6570\n",
      "Epoch  7, CIFAR-10 Batch 5:  [Batch] cost : 0.6774, accuracy : 0.8250 [Validation] cost : 0.9602, accuracy : 0.6550\n",
      "Epoch  8, CIFAR-10 Batch 1:  [Batch] cost : 0.7213, accuracy : 0.7250 [Validation] cost : 0.9539, accuracy : 0.6604\n",
      "Epoch  8, CIFAR-10 Batch 2:  [Batch] cost : 0.5999, accuracy : 0.7750 [Validation] cost : 0.9310, accuracy : 0.6722\n",
      "Epoch  8, CIFAR-10 Batch 3:  [Batch] cost : 0.5108, accuracy : 0.9000 [Validation] cost : 0.9458, accuracy : 0.6702\n",
      "Epoch  8, CIFAR-10 Batch 4:  [Batch] cost : 0.6245, accuracy : 0.8250 [Validation] cost : 0.9462, accuracy : 0.6702\n",
      "Epoch  8, CIFAR-10 Batch 5:  [Batch] cost : 0.5889, accuracy : 0.8500 [Validation] cost : 0.9000, accuracy : 0.6844\n",
      "Epoch  9, CIFAR-10 Batch 1:  [Batch] cost : 0.6911, accuracy : 0.7500 [Validation] cost : 0.9150, accuracy : 0.6774\n",
      "Epoch  9, CIFAR-10 Batch 2:  [Batch] cost : 0.5268, accuracy : 0.8500 [Validation] cost : 0.9203, accuracy : 0.6764\n",
      "Epoch  9, CIFAR-10 Batch 3:  [Batch] cost : 0.4552, accuracy : 0.9000 [Validation] cost : 0.9023, accuracy : 0.6806\n",
      "Epoch  9, CIFAR-10 Batch 4:  [Batch] cost : 0.5940, accuracy : 0.7750 [Validation] cost : 0.9168, accuracy : 0.6780\n",
      "Epoch  9, CIFAR-10 Batch 5:  [Batch] cost : 0.5254, accuracy : 0.8500 [Validation] cost : 0.8641, accuracy : 0.6944\n",
      "Epoch 10, CIFAR-10 Batch 1:  [Batch] cost : 0.6285, accuracy : 0.7500 [Validation] cost : 0.9139, accuracy : 0.6786\n",
      "Epoch 10, CIFAR-10 Batch 2:  [Batch] cost : 0.4404, accuracy : 0.8500 [Validation] cost : 0.8859, accuracy : 0.6854\n",
      "Epoch 10, CIFAR-10 Batch 3:  [Batch] cost : 0.3958, accuracy : 0.8750 [Validation] cost : 0.8670, accuracy : 0.6924\n",
      "Epoch 10, CIFAR-10 Batch 4:  [Batch] cost : 0.4836, accuracy : 0.8500 [Validation] cost : 0.8508, accuracy : 0.7002\n",
      "Epoch 10, CIFAR-10 Batch 5:  [Batch] cost : 0.4541, accuracy : 0.8750 [Validation] cost : 0.8492, accuracy : 0.7000\n",
      "Epoch 11, CIFAR-10 Batch 1:  [Batch] cost : 0.5431, accuracy : 0.7750 [Validation] cost : 0.8663, accuracy : 0.6946\n",
      "Epoch 11, CIFAR-10 Batch 2:  [Batch] cost : 0.4175, accuracy : 0.8500 [Validation] cost : 0.8488, accuracy : 0.7052\n",
      "Epoch 11, CIFAR-10 Batch 3:  [Batch] cost : 0.3214, accuracy : 0.9250 [Validation] cost : 0.8470, accuracy : 0.7044\n",
      "Epoch 11, CIFAR-10 Batch 4:  [Batch] cost : 0.4838, accuracy : 0.8250 [Validation] cost : 0.8533, accuracy : 0.6986\n",
      "Epoch 11, CIFAR-10 Batch 5:  [Batch] cost : 0.4292, accuracy : 0.9250 [Validation] cost : 0.8239, accuracy : 0.7112\n",
      "Epoch 12, CIFAR-10 Batch 1:  [Batch] cost : 0.4607, accuracy : 0.8250 [Validation] cost : 0.8151, accuracy : 0.7172\n",
      "Epoch 12, CIFAR-10 Batch 2:  [Batch] cost : 0.3969, accuracy : 0.9000 [Validation] cost : 0.8492, accuracy : 0.7088\n",
      "Epoch 12, CIFAR-10 Batch 3:  [Batch] cost : 0.3222, accuracy : 0.9250 [Validation] cost : 0.8318, accuracy : 0.7064\n",
      "Epoch 12, CIFAR-10 Batch 4:  [Batch] cost : 0.4489, accuracy : 0.8500 [Validation] cost : 0.8199, accuracy : 0.7072\n",
      "Epoch 12, CIFAR-10 Batch 5:  [Batch] cost : 0.3610, accuracy : 0.9500 [Validation] cost : 0.7924, accuracy : 0.7206\n",
      "Epoch 13, CIFAR-10 Batch 1:  [Batch] cost : 0.4330, accuracy : 0.8500 [Validation] cost : 0.7975, accuracy : 0.7254\n",
      "Epoch 13, CIFAR-10 Batch 2:  [Batch] cost : 0.3463, accuracy : 0.8750 [Validation] cost : 0.7930, accuracy : 0.7230\n",
      "Epoch 13, CIFAR-10 Batch 3:  [Batch] cost : 0.2738, accuracy : 0.9750 [Validation] cost : 0.8007, accuracy : 0.7224\n",
      "Epoch 13, CIFAR-10 Batch 4:  [Batch] cost : 0.4004, accuracy : 0.8750 [Validation] cost : 0.8026, accuracy : 0.7192\n",
      "Epoch 13, CIFAR-10 Batch 5:  [Batch] cost : 0.3465, accuracy : 0.9250 [Validation] cost : 0.7668, accuracy : 0.7292\n",
      "Epoch 14, CIFAR-10 Batch 1:  [Batch] cost : 0.3780, accuracy : 0.8750 [Validation] cost : 0.7748, accuracy : 0.7328\n",
      "Epoch 14, CIFAR-10 Batch 2:  [Batch] cost : 0.2916, accuracy : 0.9000 [Validation] cost : 0.8015, accuracy : 0.7172\n",
      "Epoch 14, CIFAR-10 Batch 3:  [Batch] cost : 0.2234, accuracy : 0.9750 [Validation] cost : 0.7743, accuracy : 0.7340\n",
      "Epoch 14, CIFAR-10 Batch 4:  [Batch] cost : 0.3290, accuracy : 0.9000 [Validation] cost : 0.7703, accuracy : 0.7320\n",
      "Epoch 14, CIFAR-10 Batch 5:  [Batch] cost : 0.3125, accuracy : 0.9250 [Validation] cost : 0.7598, accuracy : 0.7346\n",
      "Epoch 15, CIFAR-10 Batch 1:  [Batch] cost : 0.3830, accuracy : 0.8250 [Validation] cost : 0.7664, accuracy : 0.7316\n",
      "Epoch 15, CIFAR-10 Batch 2:  [Batch] cost : 0.2626, accuracy : 0.9250 [Validation] cost : 0.7881, accuracy : 0.7266\n",
      "Epoch 15, CIFAR-10 Batch 3:  [Batch] cost : 0.2066, accuracy : 0.9500 [Validation] cost : 0.7693, accuracy : 0.7332\n",
      "Epoch 15, CIFAR-10 Batch 4:  [Batch] cost : 0.3098, accuracy : 0.8750 [Validation] cost : 0.7678, accuracy : 0.7330\n",
      "Epoch 15, CIFAR-10 Batch 5:  [Batch] cost : 0.2720, accuracy : 0.9750 [Validation] cost : 0.7441, accuracy : 0.7376\n",
      "Epoch 16, CIFAR-10 Batch 1:  [Batch] cost : 0.3090, accuracy : 0.8750 [Validation] cost : 0.7540, accuracy : 0.7374\n",
      "Epoch 16, CIFAR-10 Batch 2:  [Batch] cost : 0.2293, accuracy : 0.9250 [Validation] cost : 0.7569, accuracy : 0.7370\n",
      "Epoch 16, CIFAR-10 Batch 3:  [Batch] cost : 0.2024, accuracy : 0.9500 [Validation] cost : 0.7486, accuracy : 0.7400\n",
      "Epoch 16, CIFAR-10 Batch 4:  [Batch] cost : 0.2599, accuracy : 0.9250 [Validation] cost : 0.7383, accuracy : 0.7418\n",
      "Epoch 16, CIFAR-10 Batch 5:  [Batch] cost : 0.2721, accuracy : 0.9250 [Validation] cost : 0.7594, accuracy : 0.7376\n",
      "Epoch 17, CIFAR-10 Batch 1:  [Batch] cost : 0.2919, accuracy : 0.9000 [Validation] cost : 0.7394, accuracy : 0.7430\n",
      "Epoch 17, CIFAR-10 Batch 2:  [Batch] cost : 0.2089, accuracy : 0.9500 [Validation] cost : 0.7469, accuracy : 0.7426\n",
      "Epoch 17, CIFAR-10 Batch 3:  [Batch] cost : 0.1843, accuracy : 0.9750 [Validation] cost : 0.7379, accuracy : 0.7474\n",
      "Epoch 17, CIFAR-10 Batch 4:  [Batch] cost : 0.2443, accuracy : 0.9500 [Validation] cost : 0.7317, accuracy : 0.7458\n",
      "Epoch 17, CIFAR-10 Batch 5:  [Batch] cost : 0.2182, accuracy : 0.9750 [Validation] cost : 0.7092, accuracy : 0.7464\n",
      "Epoch 18, CIFAR-10 Batch 1:  [Batch] cost : 0.2947, accuracy : 0.9250 [Validation] cost : 0.7473, accuracy : 0.7404\n",
      "Epoch 18, CIFAR-10 Batch 2:  [Batch] cost : 0.2111, accuracy : 0.9750 [Validation] cost : 0.7413, accuracy : 0.7438\n",
      "Epoch 18, CIFAR-10 Batch 3:  [Batch] cost : 0.1811, accuracy : 0.9750 [Validation] cost : 0.7230, accuracy : 0.7466\n",
      "Epoch 18, CIFAR-10 Batch 4:  [Batch] cost : 0.2556, accuracy : 0.9000 [Validation] cost : 0.7271, accuracy : 0.7490\n",
      "Epoch 18, CIFAR-10 Batch 5:  [Batch] cost : 0.1962, accuracy : 0.9750 [Validation] cost : 0.7057, accuracy : 0.7476\n",
      "Epoch 19, CIFAR-10 Batch 1:  [Batch] cost : 0.2499, accuracy : 0.9750 [Validation] cost : 0.7081, accuracy : 0.7514\n",
      "Epoch 19, CIFAR-10 Batch 2:  [Batch] cost : 0.1718, accuracy : 0.9750 [Validation] cost : 0.7133, accuracy : 0.7530\n",
      "Epoch 19, CIFAR-10 Batch 3:  [Batch] cost : 0.1497, accuracy : 0.9750 [Validation] cost : 0.7100, accuracy : 0.7576\n",
      "Epoch 19, CIFAR-10 Batch 4:  [Batch] cost : 0.2034, accuracy : 0.9500 [Validation] cost : 0.7083, accuracy : 0.7544\n",
      "Epoch 19, CIFAR-10 Batch 5:  [Batch] cost : 0.1871, accuracy : 0.9750 [Validation] cost : 0.7018, accuracy : 0.7558\n",
      "Epoch 20, CIFAR-10 Batch 1:  [Batch] cost : 0.2236, accuracy : 0.9250 [Validation] cost : 0.7087, accuracy : 0.7494\n",
      "Epoch 20, CIFAR-10 Batch 2:  [Batch] cost : 0.1525, accuracy : 0.9750 [Validation] cost : 0.7339, accuracy : 0.7478\n",
      "Epoch 20, CIFAR-10 Batch 3:  [Batch] cost : 0.1338, accuracy : 1.0000 [Validation] cost : 0.7214, accuracy : 0.7516\n",
      "Epoch 20, CIFAR-10 Batch 4:  [Batch] cost : 0.1791, accuracy : 1.0000 [Validation] cost : 0.6882, accuracy : 0.7596\n",
      "Epoch 20, CIFAR-10 Batch 5:  [Batch] cost : 0.1899, accuracy : 0.9750 [Validation] cost : 0.6888, accuracy : 0.7566\n"
     ]
    }
   ],
   "source": [
    "\"\"\"\n",
    "DON'T MODIFY ANYTHING IN THIS CELL\n",
    "\"\"\"\n",
    "save_model_path = './image_classification'\n",
    "\n",
    "print('Training...')\n",
    "with tf.Session() as sess:\n",
    "    # Initializing the variables\n",
    "    sess.run(tf.global_variables_initializer())\n",
    "    \n",
    "    # Training cycle\n",
    "    for epoch in range(epochs):\n",
    "        # Loop over all batches\n",
    "        n_batches = 5\n",
    "        for batch_i in range(1, n_batches + 1):\n",
    "            for batch_features, batch_labels in helper.load_preprocess_training_batch(batch_i, batch_size):\n",
    "                train_neural_network(sess, optimizer, keep_probability, batch_features, batch_labels)\n",
    "            print('Epoch {:>2}, CIFAR-10 Batch {}:  '.format(epoch + 1, batch_i), end='')\n",
    "            print_stats(sess, batch_features, batch_labels, cost, accuracy)\n",
    "            \n",
    "    # Save Model\n",
    "    saver = tf.train.Saver()\n",
    "    save_path = saver.save(sess, save_model_path)"
   ]
  },
  {
   "cell_type": "markdown",
   "metadata": {},
   "source": [
    "# Checkpoint\n",
    "The model has been saved to disk.\n",
    "## Test Model\n",
    "Test your model against the test dataset.  This will be your final accuracy. You should have an accuracy greater than 50%. If you don't, keep tweaking the model architecture and parameters."
   ]
  },
  {
   "cell_type": "code",
   "execution_count": 44,
   "metadata": {
    "collapsed": false,
    "scrolled": false
   },
   "outputs": [
    {
     "name": "stdout",
     "output_type": "stream",
     "text": [
      "Testing Accuracy: 0.75693359375\n",
      "\n"
     ]
    },
    {
     "data": {
      "image/png": "[encoded data removed]",
      "text/plain": [
       "<matplotlib.figure.Figure at 0x7f26bb22f4a8>"
      ]
     },
     "metadata": {
      "image/png": {
       "height": 319,
       "width": 355
      }
     },
     "output_type": "display_data"
    }
   ],
   "source": [
    "\"\"\"\n",
    "DON'T MODIFY ANYTHING IN THIS CELL\n",
    "\"\"\"\n",
    "%matplotlib inline\n",
    "%config InlineBackend.figure_format = 'retina'\n",
    "\n",
    "import tensorflow as tf\n",
    "import pickle\n",
    "import helper\n",
    "import random\n",
    "\n",
    "# Set batch size if not already set\n",
    "try:\n",
    "    if batch_size:\n",
    "        pass\n",
    "except NameError:\n",
    "    batch_size = 64\n",
    "\n",
    "save_model_path = './image_classification'\n",
    "n_samples = 4\n",
    "top_n_predictions = 3\n",
    "\n",
    "def test_model():\n",
    "    \"\"\"\n",
    "    Test the saved model against the test dataset\n",
    "    \"\"\"\n",
    "\n",
    "    test_features, test_labels = pickle.load(open('preprocess_training.p', mode='rb'))\n",
    "    loaded_graph = tf.Graph()\n",
    "\n",
    "    with tf.Session(graph=loaded_graph) as sess:\n",
    "        # Load model\n",
    "        loader = tf.train.import_meta_graph(save_model_path + '.meta')\n",
    "        loader.restore(sess, save_model_path)\n",
    "\n",
    "        # Get Tensors from loaded model\n",
    "        loaded_x = loaded_graph.get_tensor_by_name('x:0')\n",
    "        loaded_y = loaded_graph.get_tensor_by_name('y:0')\n",
    "        loaded_keep_prob = loaded_graph.get_tensor_by_name('keep_prob:0')\n",
    "        loaded_logits = loaded_graph.get_tensor_by_name('logits:0')\n",
    "        loaded_acc = loaded_graph.get_tensor_by_name('accuracy:0')\n",
    "        \n",
    "        # Get accuracy in batches for memory limitations\n",
    "        test_batch_acc_total = 0\n",
    "        test_batch_count = 0\n",
    "        \n",
    "        for train_feature_batch, train_label_batch in helper.batch_features_labels(test_features, test_labels, batch_size):\n",
    "            test_batch_acc_total += sess.run(\n",
    "                loaded_acc,\n",
    "                feed_dict={loaded_x: train_feature_batch, loaded_y: train_label_batch, loaded_keep_prob: 1.0})\n",
    "            test_batch_count += 1\n",
    "\n",
    "        print('Testing Accuracy: {}\\n'.format(test_batch_acc_total/test_batch_count))\n",
    "\n",
    "        # Print Random Samples\n",
    "        random_test_features, random_test_labels = tuple(zip(*random.sample(list(zip(test_features, test_labels)), n_samples)))\n",
    "        random_test_predictions = sess.run(\n",
    "            tf.nn.top_k(tf.nn.softmax(loaded_logits), top_n_predictions),\n",
    "            feed_dict={loaded_x: random_test_features, loaded_y: random_test_labels, loaded_keep_prob: 1.0})\n",
    "        helper.display_image_predictions(random_test_features, random_test_labels, random_test_predictions)\n",
    "\n",
    "\n",
    "test_model()"
   ]
  },
  {
   "cell_type": "markdown",
   "metadata": {},
   "source": [
    "## Why 50-80% Accuracy?\n",
    "You might be wondering why you can't get an accuracy any higher. First things first, 50% isn't bad for a simple CNN.  Pure guessing would get you 10% accuracy. However, you might notice people are getting scores [well above 80%](http://rodrigob.github.io/are_we_there_yet/build/classification_datasets_results.html#43494641522d3130).  That's because we haven't taught you all there is to know about neural networks. We still need to cover a few more techniques.\n",
    "## Submitting This Project\n",
    "When submitting this project, make sure to run all the cells before saving the notebook.  Save the notebook file as \"dlnd_image_classification.ipynb\" and save it as a HTML file under \"File\" -> \"Download as\".  Include the \"helper.py\" and \"problem_unittests.py\" files in your submission."
   ]
  }
 ],
 "metadata": {
  "kernelspec": {
   "display_name": "Python 3",
   "language": "python",
   "name": "python3"
  },
  "language_info": {
   "codemirror_mode": {
    "name": "ipython",
    "version": 3
   },
   "file_extension": ".py",
   "mimetype": "text/x-python",
   "name": "python",
   "nbconvert_exporter": "python",
   "pygments_lexer": "ipython3",
   "version": "3.6.0"
  }
 },
 "nbformat": 4,
 "nbformat_minor": 0
}

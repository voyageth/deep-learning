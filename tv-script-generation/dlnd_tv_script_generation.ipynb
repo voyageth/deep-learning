{
 "cells": [
  {
   "cell_type": "markdown",
   "metadata": {
    "deletable": true,
    "editable": true
   },
   "source": [
    "# TV Script Generation\n",
    "In this project, you'll generate your own [Simpsons](https://en.wikipedia.org/wiki/The_Simpsons) TV scripts using RNNs.  You'll be using part of the [Simpsons dataset](https://www.kaggle.com/wcukierski/the-simpsons-by-the-data) of scripts from 27 seasons.  The Neural Network you'll build will generate a new TV script for a scene at [Moe's Tavern](https://simpsonswiki.com/wiki/Moe's_Tavern).\n",
    "## Get the Data\n",
    "The data is already provided for you.  You'll be using a subset of the original dataset.  It consists of only the scenes in Moe's Tavern.  This doesn't include other versions of the tavern, like \"Moe's Cavern\", \"Flaming Moe's\", \"Uncle Moe's Family Feed-Bag\", etc.."
   ]
  },
  {
   "cell_type": "code",
   "execution_count": 1,
   "metadata": {
    "collapsed": false,
    "deletable": true,
    "editable": true
   },
   "outputs": [],
   "source": [
    "\"\"\"\n",
    "DON'T MODIFY ANYTHING IN THIS CELL\n",
    "\"\"\"\n",
    "import helper\n",
    "\n",
    "data_dir = './data/simpsons/moes_tavern_lines.txt'\n",
    "text = helper.load_data(data_dir)\n",
    "# Ignore notice, since we don't use it for analysing the data\n",
    "text = text[81:]"
   ]
  },
  {
   "cell_type": "markdown",
   "metadata": {
    "deletable": true,
    "editable": true
   },
   "source": [
    "## Explore the Data\n",
    "Play around with `view_sentence_range` to view different parts of the data."
   ]
  },
  {
   "cell_type": "code",
   "execution_count": 2,
   "metadata": {
    "collapsed": false,
    "deletable": true,
    "editable": true
   },
   "outputs": [
    {
     "name": "stdout",
     "output_type": "stream",
     "text": [
      "Dataset Stats\n",
      "Roughly the number of unique words: 11492\n",
      "Number of scenes: 262\n",
      "Average number of sentences in each scene: 15.248091603053435\n",
      "Number of lines: 4257\n",
      "Average number of words in each line: 11.50434578341555\n",
      "\n",
      "The sentences 0 to 10:\n",
      "Moe_Szyslak: (INTO PHONE) Moe's Tavern. Where the elite meet to drink.\n",
      "Bart_Simpson: Eh, yeah, hello, is Mike there? Last name, Rotch.\n",
      "Moe_Szyslak: (INTO PHONE) Hold on, I'll check. (TO BARFLIES) Mike Rotch. Mike Rotch. Hey, has anybody seen Mike Rotch, lately?\n",
      "Moe_Szyslak: (INTO PHONE) Listen you little puke. One of these days I'm gonna catch you, and I'm gonna carve my name on your back with an ice pick.\n",
      "Moe_Szyslak: What's the matter Homer? You're not your normal effervescent self.\n",
      "Homer_Simpson: I got my problems, Moe. Give me another one.\n",
      "Moe_Szyslak: Homer, hey, you should not drink to forget your problems.\n",
      "Barney_Gumble: Yeah, you should only drink to enhance your social skills.\n",
      "\n",
      "\n"
     ]
    }
   ],
   "source": [
    "view_sentence_range = (0, 10)\n",
    "\n",
    "\"\"\"\n",
    "DON'T MODIFY ANYTHING IN THIS CELL\n",
    "\"\"\"\n",
    "import numpy as np\n",
    "\n",
    "print('Dataset Stats')\n",
    "print('Roughly the number of unique words: {}'.format(len({word: None for word in text.split()})))\n",
    "scenes = text.split('\\n\\n')\n",
    "print('Number of scenes: {}'.format(len(scenes)))\n",
    "sentence_count_scene = [scene.count('\\n') for scene in scenes]\n",
    "print('Average number of sentences in each scene: {}'.format(np.average(sentence_count_scene)))\n",
    "\n",
    "sentences = [sentence for scene in scenes for sentence in scene.split('\\n')]\n",
    "print('Number of lines: {}'.format(len(sentences)))\n",
    "word_count_sentence = [len(sentence.split()) for sentence in sentences]\n",
    "print('Average number of words in each line: {}'.format(np.average(word_count_sentence)))\n",
    "\n",
    "print()\n",
    "print('The sentences {} to {}:'.format(*view_sentence_range))\n",
    "print('\\n'.join(text.split('\\n')[view_sentence_range[0]:view_sentence_range[1]]))"
   ]
  },
  {
   "cell_type": "markdown",
   "metadata": {
    "deletable": true,
    "editable": true
   },
   "source": [
    "## Implement Preprocessing Functions\n",
    "The first thing to do to any dataset is preprocessing.  Implement the following preprocessing functions below:\n",
    "- Lookup Table\n",
    "- Tokenize Punctuation\n",
    "\n",
    "### Lookup Table\n",
    "To create a word embedding, you first need to transform the words to ids.  In this function, create two dictionaries:\n",
    "- Dictionary to go from the words to an id, we'll call `vocab_to_int`\n",
    "- Dictionary to go from the id to word, we'll call `int_to_vocab`\n",
    "\n",
    "Return these dictionaries in the following tuple `(vocab_to_int, int_to_vocab)`"
   ]
  },
  {
   "cell_type": "code",
   "execution_count": 3,
   "metadata": {
    "collapsed": false,
    "deletable": true,
    "editable": true
   },
   "outputs": [
    {
     "name": "stdout",
     "output_type": "stream",
     "text": [
      "{'little', 'hey', 'seen', 'my', 'the', 'there', 'matter', 'homer_simpson', 'and', 'homer', 'eh', 'hold', 'elite', \"you're\", 'whats', 'anybody', 'meet', 'these', 'moe_szyslak', 'your', 'pick', 'give', 'problems', 'self', 'mike', 'ice', 'to', 'puke', \"i'm\", 'effervescent', \"moe's\", 'yeah', 'rotch', 'lately', 'i', 'enhance', 'skills', 'bart_simpson', 'hello', 'one', 'has', 'normal', 'of', \"i'll\", 'where', 'another', 'tavern', 'catch', 'last', 'drink', 'not', 'social', 'me', 'should', 'is', 'an', 'check', 'gonna', 'barney_gumble', 'only', 'back', 'listen', 'carve', 'days', 'forget', 'you', 'got', 'on', 'with', 'moe', 'name'}\n",
      "Tests Passed\n"
     ]
    }
   ],
   "source": [
    "import numpy as np\n",
    "import problem_unittests as tests\n",
    "\n",
    "def create_lookup_tables(text):\n",
    "    \"\"\"\n",
    "    Create lookup tables for vocabulary\n",
    "    :param text: The text of tv scripts split into words\n",
    "    :return: A tuple of dicts (vocab_to_int, int_to_vocab)\n",
    "    \"\"\"\n",
    "    # TODO: Implement Function\n",
    "    word_set = set()\n",
    "    for word in text:\n",
    "        word_set.add(word)\n",
    "    print(word_set)\n",
    "    vocab_to_int = {word: i for i, word in enumerate(word_set)}\n",
    "    int_to_vocab = {i: word for word, i in vocab_to_int.items()}\n",
    "    \n",
    "    return vocab_to_int, int_to_vocab\n",
    "\n",
    "\n",
    "\"\"\"\n",
    "DON'T MODIFY ANYTHING IN THIS CELL THAT IS BELOW THIS LINE\n",
    "\"\"\"\n",
    "tests.test_create_lookup_tables(create_lookup_tables)"
   ]
  },
  {
   "cell_type": "markdown",
   "metadata": {
    "deletable": true,
    "editable": true
   },
   "source": [
    "### Tokenize Punctuation\n",
    "We'll be splitting the script into a word array using spaces as delimiters.  However, punctuations like periods and exclamation marks make it hard for the neural network to distinguish between the word \"bye\" and \"bye!\".\n",
    "\n",
    "Implement the function `token_lookup` to return a dict that will be used to tokenize symbols like \"!\" into \"||Exclamation_Mark||\".  Create a dictionary for the following symbols where the symbol is the key and value is the token:\n",
    "- Period ( . )\n",
    "- Comma ( , )\n",
    "- Quotation Mark ( \" )\n",
    "- Semicolon ( ; )\n",
    "- Exclamation mark ( ! )\n",
    "- Question mark ( ? )\n",
    "- Left Parentheses ( ( )\n",
    "- Right Parentheses ( ) )\n",
    "- Dash ( -- )\n",
    "- Return ( \\n )\n",
    "\n",
    "This dictionary will be used to token the symbols and add the delimiter (space) around it.  This separates the symbols as it's own word, making it easier for the neural network to predict on the next word. Make sure you don't use a token that could be confused as a word. Instead of using the token \"dash\", try using something like \"||dash||\"."
   ]
  },
  {
   "cell_type": "code",
   "execution_count": 4,
   "metadata": {
    "collapsed": false,
    "deletable": true,
    "editable": true
   },
   "outputs": [
    {
     "name": "stdout",
     "output_type": "stream",
     "text": [
      "Tests Passed\n"
     ]
    }
   ],
   "source": [
    "def token_lookup():\n",
    "    \"\"\"\n",
    "    Generate a dict to turn punctuation into a token.\n",
    "    :return: Tokenize dictionary where the key is the punctuation and the value is the token\n",
    "    \"\"\"\n",
    "    # TODO: Implement Function\n",
    "    punc_dict = {}\n",
    "    \n",
    "    punc_dict['.'] = \"||Period||\"\n",
    "    punc_dict[','] = \"||Comma||\"\n",
    "    punc_dict['\"'] = \"||Quotation_Mark||\"\n",
    "    punc_dict[';'] = \"||Semicolon||\"\n",
    "    punc_dict['!'] = \"||Exclamation_Mark||\"\n",
    "    punc_dict['?'] = \"||Question_Mark||\"\n",
    "    punc_dict['('] = \"||Left_Parentheses||\"\n",
    "    punc_dict[')'] = \"||Right_Parentheses||\"\n",
    "    punc_dict['--'] = \"||Dash||\"\n",
    "    punc_dict['\\n'] = \"||Return||\"\n",
    "    \n",
    "    return punc_dict\n",
    "\n",
    "\"\"\"\n",
    "DON'T MODIFY ANYTHING IN THIS CELL THAT IS BELOW THIS LINE\n",
    "\"\"\"\n",
    "tests.test_tokenize(token_lookup)"
   ]
  },
  {
   "cell_type": "markdown",
   "metadata": {
    "deletable": true,
    "editable": true
   },
   "source": [
    "## Preprocess all the data and save it\n",
    "Running the code cell below will preprocess all the data and save it to file."
   ]
  },
  {
   "cell_type": "code",
   "execution_count": 5,
   "metadata": {
    "collapsed": false,
    "deletable": true,
    "editable": true
   },
   "outputs": [
    {
     "name": "stdout",
     "output_type": "stream",
     "text": [
      "{\"bettin'\", 'bought', 'fruit', 'yee-ha', \"stabbin'\", 'supermodel', 'sniffles', 'manuel', 'reluctantly', 'allow', 'reading:', 'are', 'bow', 'mate', 'flack', 'disposal', 'junebug', 'priority', 'placed', 'groveling', 'buttons', 'something', 'gas', 'faded', 'phony', 'flag', 'crank', 'animals', 'ahhhh', 'middle', 'sacrifice', 'spare', 'crossed', 'white', 'co-sign', 'kisser', 'built', 'kidneys', 'parasol', 'i-i-i', 'rude', 'thing:', 'wire', \"summer's\", 'tries', 'yells', 'afternoon', 'tomato', 'toe', 'anger', 'across', 'chinua', 'morning-after', 'popped', 'heather', 'bob', 'accusing', 'marriage', 'darkness', 'slays', '3', 'trolls', \"washin'\", 'jazz', 'wikipedia', 'getup', 'magic', 'spamming', 'reader', 'dropping', 'fdic', 'trashed', \"you'll\", 'pronounce', 'domestic', 'afraid', 'watching', 'fourteen:', 'wild', 'reptile', 'merchants', 'presided', 'seamstress', 'eye-gouger', 'friend:', 'coyly', 'inches', 'snatch', 'ken:', \"larry's\", 'anyhow', 'bauer', 'chuck', 'served', 'adult_bart:', 'shorter', 'say', \"g'on\", 'sing', 'john', 'lonely', 'crayola', 'tigers', 'book', 'nuts', 'ebullient', 'chunky', 'successful', 'stripe', 'gasps', 'helps', 'broken', 'sun', 'telemarketing', 'seen', 'neighbor', 'pointedly', 'crapmore', 'disturbance', 'video', 'directions', 'oh-so-sophisticated', 'starve', \"'s\", 'pint', 'tooth', 'rationalizing', 'boozebag', 'wade_boggs:', 'beers', 'oughta', 'ahhh', 'perverted', 'terrorizing', 'nahasapeemapetilon', 'november', 'known', 'rasputin', 'referee', 'bugs', 'remaining', 'told', 'incriminating', \"tootin'\", \"man's\", 'meaningfully', 'jacks', 'à', 'windshield', 'bitter', 'employees', 'enveloped', 'drank', 'large', 'loves', 'nibble', 'developed', 'mediterranean', 'mexican', 'diet', 'elder', 'tolerance', 'rebuttal', 'strokkur', 'ehhhhhh', 'delicate', 'philosophical', 'panicky', 'perking', 'relationship', 'male_singers:', 'twenty-nine', 'mulder', 'fourth', 'tense', 'pretty', 'instantly', 'located', \"hasn't\", \"she'll\", 'thnord', 'cans', 'without:', 'gig', 'guess', 'be', 'blurbs', 'why', 'noble', 'carve', 'd', 'moon-bounce', 'africa', 'anderson', 'fixed', 'sturdy', 'top', 'clock', 'commit', 'pizza', \"he's\", 'neil_gaiman:', 'chain', 'cheers', 'dennis', 'simple', \"games'd\", 'los', 'sounded', 'booking', 'coming', 'cesss', 'shooting', 'sloe', 'terrified', \"cheerin'\", 'quality', 'load', 'composer', 'weather', 'ball-sized', 'lurks', 'rocks', 'handing', 'pyramid', 'must', 'mount', 'dignified', 'aisle', 'disappointed', 'jokes', 'gentle', 'all-all-all', 'bonfire', 'trouble', 'conclusions', 'amused', '_julius_hibbert:', 'prints', 'sweet', 'bold', 'nearly', 'following', 'lead', 'tavern', 'dilemma', 'kemi:', 'brace', 'blob', 'helicopter', \"comin'\", 'starters', 'villanova', 'powerful', 'ton', \"it's\", 'obvious', 'measurements', 'pulled', 'plow', 'writer:', 'crowd:', 'began', \"y'see\", 'ivory', '7g', 'irish', 'fondly', 'bartending', 'bedridden', 'repeated', 'is', 'children', 'earrings', 'skydiving', 'cushions', 'tornado', 'champion', 'oblivious', 'balls', 'funny', 'ura', 'aging', 'punching', 'managing', 'grand', 'snapping', 'injury', 'finale', 'santa', 'forbids', 'lighter', 'getcha', 'nailed', 'raggie', 'temper', 'maude', 'capuchin', 'bed', 'thomas', 'stunned', 'amid', 'broken:', 'names', 'springfield', 'turns', 'thousands', \"doesn't\", 'sweden', 'szyslak', 'crooks', 'unsourced', 'march', 'recall', 'stupid', 'pointed', 'ways', 'smitty:', 'deep', 'heading', 'throat', 'ironic', 'eliminate', 'hub', 'bounced', 'music', 'delicately', 'w', 'flashbacks', 'suits', 'absentminded', 'abolish', 'milhouses', 'eternity', 'program', 'spacey', 'tying', 'ever', 'nerve', 'mayan', 'instead', 'clothespins:', 'acting', 'dramatic', 'infiltrate', 'fwooof', 'noggin', 'salary', \"b-52's:\", 'vomit', 'size', 'finishing', 'beverage', 'good', 'van', 'feelings', 'kept', 'labor', 'modern', 'chew', 'obsessive-compulsive', 'compete', 'some', 'card', 'phase', \"readin'\", 'superpower', 'scornful', 'tom', 'plum', 'spit', 'kennedy', 'happens', 'albeit', 'jury', 'dizzy', 'marquee', 'b-day', 'coin', \"lefty's\", 'host', 'rugged', 'relieved', 'forty-nine', 'bunch', 'waltz', 'glum', 'terror', \"hawkin'\", 'food', 'coherent', 'pretending', 'sneaky', 'noticing', 'deer', 'gary:', 'politician', 'knock', 'plaintive', 'lennyy', 'repairman', 'percent', 'fatty', 'my', 'kind', \"today's\", 'carl', 'germs', 'naegle', 'patented', 'moolah-stealing', 'future', 'laughter', 'sustain', 'milhouse', 'lovejoy', \"callin'\", 'bedroom', 'oof', 'twenty-five', 'quimbys:', 'u2:', 'ordered', 'seem', 'jebediah', 'damage', 'in-in-in', 'tell', 'much', 'marvelous', 'jumps', 'fuss', 'issues', 'rewound', 'donuts', 'dump', 'dealer', 'bursts', 'drunk', \"who'll\", \"children's\", 'eu', 'lou', 'stay', 'court', 'reminds', 'understanding', 'suave', 'socratic', 'griffith', 'remains', 'assumed', 'taxes', 'pink', 'groans', 'bums', 'other_book_club_member:', 'cheered', 'hall', 'a-a-b-b-a', 'lofty', 'astronaut', 'pin', 'streetcorner', \"son's\", 'mugs', 'doctor', 'four-drink', \"cat's\", 'counter', 'english', 'designer', 'avalanche', 'treasure', 'stalin', 'quick', 'lend', 'present', 'gets', 'applesauce', 'society', 'ride', 'anonymous', 'racially-diverse', \"tony's\", 'promotion', 'about', 'novel', 'habit', 'planned', 'shout', 'bust', 'someone', 'boozer', 'dancing', 'nauseous', 'mindless', 'remembers', 'hair', \"there's\", 'neighbors', \"she'd\", 'grope', 'pronto', 'chic', 'sink', 'recipe', 'cheese', 'pal', 'join', 'north', 'man:', 'banquet', 'yee-haw', 'barter', 'gallon', 'lenny:', 'maybe', 'hate-hugs', 'boyfriend', 'listening', 'bucket', 'late', 'symphonies', 'watch', \"lady's\", 'microbrew', 'africanized', 'handle', 'renew', 'mmm-hmm', 'inning', 'sports_announcer:', 'umm', 'intimacy', 'sexton', 'inserted', '2nd_voice_on_transmitter:', 'oh', 'artie_ziff:', 'lips', 'brusque', 'oopsie', 'buds', 'shindig', 'whoops', 'hospital', 'stillwater:', 'nature', 'hoping', 'most:', 'depending', 'anymore', 'lewis', 'easy', 'nine', 'yoo', 'sue', 'stu', 'published', 'combine', 'bottom', 'argue', 'coins', 'massachusetts', 'missing', 'guy', 'confession', 'williams', 'stewart', 'nobel', 'so', 'inspire', 'edison', \"somethin':\", 'cuz', 'jay:', 'juan', \"patrick's\", 'blackjack', 'heavens', 'lurleen_lumpkin:', 'fit', '_babcock:', 'unforgettable', 'officials', 'ivy-covered', 'lovely', 'front', 'confidential', 'campaign', 'seriously', 'toms', 'choked', 'manipulation', 'screw', 'army', 'heart', \"handwriting's\", 'spied', 'gulps', 'gonna', 'tune', 'fica', 'crinkly', 'fires', 'stagehand:', 'hand', 'frescas', 'ugliest', 'ziff', 'nightmares', 'ali', \"father's\", 'delightfully', 'finding', 'freely', 'hustle', 'lobster-based', 'railroads', \"stayin'\", 'ruby-studded', 'dreams', 'jam', 'paramedic:', 'wonderful', 'finance', 'provide', 'sec_agent_#1:', \"pullin'\", 'thirteen', 'serve', 'comment', 'stamp', 'dennis_kucinich:', 'eye', 'socialize', 'mail', 'ad', 'thorough', 'show-off', 'ahh', 'park', 'krusty', \"narratin'\", 'almost', 'swooning', 'planet', 'very', 'bash', 'country-fried', 'laney', 'pee', 'and-and', 'finger', 'hollowed-out', 'stupidest', 'gold', 'amazing', 'customers-slash-only', 'luckiest', 'washouts', \"nixon's\", 'physical', 'example', 'wow', 'gimmick', 'disco_stu:', \"tap-pullin'\", 'gift', 'chum', 'poem', 'belly-aching', 'fantasy', 'degradation', 'a', 'sunk', 'stock', 'huhza', \"g'night\", 'marvin', 'ruuuule', 'rounds', 'braun:', \"spaghetti-o's\", 'mid-seventies', 'attraction', \"fun's\", 'knew', 'moonshine', 'owes', 'lessons', 'rabbits', \"wait'll\", 'voicemail', 'unavailable', 'ore', 'feedbag', 'red', 'frenchman', 'dime', 'duh', 'barney', 'hurt', 'susie-q', 'human', 'ehhhhhhhhh', 'bigger', 'bowled', 'high', 'wok', 'square', 'corporate', ':', 'whispers', \"'ere\", 'resigned', 'handshake', 'one-hour', 'passenger', 'lifts', 'rims', 'always', 'feet', 'chuckling', 'typed', 'manfred', \"can'tcha\", 'stagy', \"coffee'll\", 'disappear', 'hunting', 'farewell', 'chill', 'dank', 'sent', 'woman:', 'case', 'bus', 'freed', 'unjustly', 'professional', 'mistresses', 'guts', 'bowling', 'frontrunner', 'nitwit', 'squirrel', 'utensils', 'expect', 'blur', 'installed', 'law', \"what'll\", 'the_rich_texan:', 'life-sized', 'reserve', 'buttocks', 'generosity', 'focused', 'ago', 'graves', 'spitting', 'youuu', 'barely', 'closing', 'donation', 'addiction', 'cold', 'faiths', 'dropped', 'connor-politan', 'trivia', 'trying', 'haplessly', 'ga', 'professor_jonathan_frink:', 'east', 'bush', 'sixty-five', 'dumpster', 'slip', 'surprised', 'occupation', '1979', 'release', '35', 'muslim', 'fantastic', 'har', 'idioms', 'hans:', 'belts', 'renders', 'then', 'shaved', 'elmer', 'also', 'souped', 'heh-heh', 'mags', 'ecru', 'signed', 'missed', 'golf', 'gus', 'ees', 'rupert_murdoch:', 'per', 'pull', 'hidden', 'license', 'fever', 'chumbawamba', 'attend', 'tomahto', 'prices', 'somewhere', \"that'd\", 'part', 'actor', 'greedy', 'dry', 'bookie', 'inside', 'tradition', 'ninety-nine', 'rummy', 'refreshing', 'done:', 'backbone', 'pays', 'twelve-step', 'julienne', 'fbi_agent:', 'indignant', 'flayvin', 'dumbest', 'fraud', 'how', 'source', 'absentmindedly', 'considers', 'know', 'aggravazes', 'backgammon', \"c'mom\", \"usin'\", \"drivin'\", 'prime', 'hampstead-on-cecil-cecil', 'u', 'wounds', 'tinkle', 'proposing', 'buy', 'worldly', 'lance', 'awed', 'fonzie', 'malfeasance', 'forced', 'harrowing', 'puzzle', 'having', 'part-time', 'exit', 'thinks', 'young', 'mitts', 'remember', 'bible', 'men:', 'tender', 'theatah', 'snorts', 'cartoons', 'mmmmm', 'judgments', 'free', 'doug:', 'sorts', 'housing', 'giving', \"high-falutin'\", \"waitin'\", 'neon', 'boxing', 'crimes', 'focus', 'kent_brockman:', 'sips', 'side:', 'easygoing', 'luv', 'krusty_the_clown:', 'replaced', 'pipes', 'dude', 'ling', \"homer's_brain:\", 'lager', 'flat', 'strong', 'perplexed', 'homer', 'sweat', 'tang', 'harvey', \"i-i'll\", 'windex', 'soaked', 'carmichael', 'caricature', 'macgregor', 'virile', 'drift', 'can', 'should', 'excuses', 'he', \"ragin'\", \"soakin's\", 'espousing', 'improv', 'community', 'swelling', 'rumor', 'dammit', 'including', 'bugging', 'hawaii', 'channel', 'radiator', 'buddha', 'upbeat', 'highway', 'excited', 'end', 'sunny', 'startled', 'has', 'delighted', 'pigs', 'cell-ee', 'aer', 'sickened', 'othello', 'poet', 'counting', 'yogurt', 'chicks', 'bless', 'jar', 'aid', 'klown', 'shades', 'nbc', 'investment', 'maher', 'entrance', 'getting', 'clearing', 'since', 'birth', 'days', 'jacques:', \"wife's\", 'america', 'stand', 'creeps', 'crestfallen', 'mustard', \"stinkin'\", 'cab', 'hearts', \"who'da\", 'farthest', 'necessary', 'elocution', 'wage', 'determined', 'sweaty', 'shows', 'chapel', 'meanwhile', 'slurps', 'kissed', 'stern', 'upn', 'rom', 'such', 'sit', \"bar's\", 'jerk-ass', 'combines', 'pickle', 'detective', 'done', 'boxcar', 'bump', 'squeals', 'happiness', 'sells', 'academy', 'roach', \"o'clock\", 'twins', 'showed', 'perón', \"i'll\", 'r', 'behavior', 'dae', 'accent', 'broncos', 'offended', 'moe-clone:', 'lists', 'sleeps', 'jukebox', 'firmly', 'wigs', 'spotting', 'breaks', 'browns', 'unfamiliar', \"we'll\", 'image', 'harm', 'mimes', 'finish', 'cushion', 'century', 'corkscrew', 'marge_simpson:', 'grocery', 'reckless', 'important', 'grrrreetings', 'digging', 'desperately', 'guns', 'stiffening', 'helllp', 'sistine', \"choosin'\", 'street', 'jams', 'fireball', 'your', 'monroe', 'tin', 'newly-published', 'misfire', 'hurry', 'zone', 'period', 'confident', 'not', 'surprising', 'con', 'clearly', '1-800-555-hugs', 'rector', 'cleaner', 'choices', 'subject', 'egg', 'noooooooooo', 'dna', 'jack_larson:', 'greystash', 'miserable', 'camera', 'ambrosia', 'united', 'grade', 'off', 'term', 'bum:', 'aboard', 'notably', 'side', 'works', 'culkin', 'calendars', 'helping', 'dies', 'both', 'closed', 'born', 'baby', 'decision', 'homer_doubles:', 'sometimes', 'smile:', 'way', 'glee', 'question', 'super', 'patient', 'witty', 'm', 'easier', 'scrape', 'nasty', 'meeting', 'drawer', \"livin'\", 'average', \"startin'\", 'peeping', 'labels', \"mtv's\", 'fake', 'duffman:', 'retain', 'ruined', 'england', 'snake', 'starving', 'trucks', \"america's\", 'limber', 'gunter', 'supposed', 'badge', 'horses', 'depressant', 'moe-lennium', 'nightmare', 'protestantism', 'diaper', 'championship', 'pictured', 'selling', 'fact', 'slugger', 'looooooooooooooooooong', \"s'okay\", 'temporarily', 'figure', 'ho', 'ladies', 'poison', 'button-pusher', 'neck', 'sunglasses', 'kidnaps', 'puke', 'formico:', 'adjourned', 'photo', 'saved', 'clothes', \"valentine's\", 'further', 'kisses', 'charges', 'mayor_joe_quimby:', 'reunion', 'ech', 'düffenbraus', \"wouldn't-a\", 'andy', 'cookies', 'pontiff', 'warmth', 'smallest', 'dame', 'waterfront', \"payin'\", 'whee', 'items', 'veux', 'old_jewish_man:', 'kinderhook', 'beer', 'due', 'hillbillies', 'party', 'carney', 'swallowed', 'hourly', 'sidekick', 'woman_bystander:', 'bonding', 'errrrrrr', 'hero', 'fills', 'distraught', \"it'd\", 'might', 'unable', 'witches', 'drunks', 'test-', 'sobbing', 'fiiiiile', 'poin-dexterous', 'espn', 'afterglow', 'sending', 'rubs', 'recorded', 'deliberate', 'b', 'remote', 'diapers', 'marry', 'chauffeur', 'long', 'th-th-th-the', 'smokes', 'pre-columbian', 'shill', 'tearfully', 'dejected', \"they've\", \"'\", 'roy', 'worldview', 're:', 'punkin', 'attitude', 'newsies', 'nuclear', 'ticks', 'sagacity', 'inexorable', 'pack', 'moe-heads', 'absolut', 'prettied', 'woo-hoo', 'or', 'handed', 'renovations', 'viva', 'drollery', 'o', 'whoa-ho', 'thesaurus', 'launch', 'paintings', \"can't\", \"hangin'\", 'statues', 'dating', 'application', 'mostrar', 'hitchhike', 'friction', 'accurate', \"bart's\", 'sexy', 'mariah', 'film', 'mamma', 'expecting', 'shoulders', 'thinking', 'quitcher', 'er', 'sitting', 'brainheaded', 'exciting', 'numbers', 'own', 'sheepish', 'steal', 'impending', 'jeff_gordon:', 'statistician', 'dunno', 'dory', 'nigel_bakerbutcher:', 'basement', 'snaps', 'maya:', 'feast', 'die', 'reopen', 'eighty-five', 'novelty', \"others'\", 'tax', 'skunk', 'entire', 'ideal', 'pretends', 'temp', 'cruiser', 'double', 'taste', 'influence', 'entertainer', 'and', 'shoes', 'short_man:', 'mike_mills:', \"o'\", 'spy', 'figured', 'bart_simpson:', 'radio', \"gettin'\", 'characteristic', 'ruint', 'proposition', \"elmo's\", 'regretted', 'brag', 'lincoln', 'walk', '91', 'otherwise', 'grain', 'peppers', \"somethin'\", \"car's\", 'grub', 'multi-purpose', 'gamble', 'predictable', 'career', 'home', 'scared', 'sidelines', 'excellent', 'cerebral', 'nonsense', 'pure', 'score', 'realize', 'theme', 'super-tough', 'himself', 'flea:', 'gear-head', 'playoff', \"i'd\", 'involved', 'women', 'seemed', 'goo', 'looting', 'dessert', 'roomy', 'arrived', 'theory', 'reporter', 'suspended', 'poured', 'pointy', 'tuborg', 'adopted', 'don', 'hats', 'over-pronouncing', 'his', 'folks', 'protesters', \"how's\", 'sigh', 'die-hard', \"number's\", 'jig', 'officer', 'eight', 'black', 'beloved', 'heatherton', \"he'll\", 'mock-up', 'honey', 'barkeep', 'imitating', 'earpiece', 'chug', 'rice', 'dipping', 'quebec', 'bee', 'usually', 'find', 'slow', 'jobless', 'enjoys', 'nos', 'admitting', \"don'tcha\", \"duff's\", 'alone', 'this', 'deals', 'exchanged', 'low-life', 'answers', 'guys', 'patron_#2:', 'legal', 'intelligent', 'fistiana', 'swings', \"robbin'\", 'gentles', 'kill', 'young_moe:', 'ditched', 'celebrity', 'swine', 'loss', 'decency', 'harv:', 'byrne', 'salvation', \"y'money's\", 'sued', 'art', 'glass', 'justice', 'swatch', 'indicates', 'gee', 'with', 'washed', 'intriguing', 'th', 'service', 'coy', 'stool', 'drinking', 'fired', 'crystal', 'hug', 'manatee', 'fl', 'think', 'worthless', 'payday', 'beauty', 'hems', 'chapter', 'lousy', 'cake', 'absolutely', 'guff', 'chipped', 'man_with_tree_hat:', 'smell', 'taunting', 'rap', 'waking-up', 'resist', 'glyco-load', 'cross-country', 'wait', 'this:', 'yards', 'wasted', 'chip', 'giant', 'warranty', \"drinkin'\", 'losing', 'dying', 'compared', \"lovers'\", 'nachos', 'hooked', 'lindsay_naegle:', 'cooking', 'rented', 'sponsor', 'afford', 'dispenser', 'until', 'sad', \"aren't\", 'heads', 'sieben-gruben', 'dumb', 'feat', 'dan_gillick:', 'cocks', 'conditioner', 'before', \"aren'tcha\", 'therapist', 'jacques', \"ya'\", 'verdict', 'botanical', 'exclusive:', 'holiday', \"makin'\", 'dad', 'sleeping', 'nonchalant', 'begin', 'corkscrews', 'wolverines', 'rods', 'concentrate', 'gulliver_dark:', 'flatly', 'beanbag', 'ingrates', 'minors', 'goods', 'french', 'wraps', 'bears', 'cruise', 'founded', 'irs', 'dingy', 'adeleine', \"'now\", 'teenage', 'test-lady', 'padres', 'naked', 'you-need-man', 'announcer:', 'payments', 'bedbugs', 'she-pu', 'trench', 'i', 'wrestle', 'signal', 'boggs', 'barney-shaped_form:', 'cowboy', 'given', 'fool', 'appeals', 'magazine', \"everyone's\", 'war', 'fishing', 'idiot', 'smithers', 'inclination', 'judge', \"collector's\", 'tear', 'senator', 'fonda', 'started', 'koji', 'admit', 'then:', 'grandmother', 'effervescent', 'frosty', 'bragging', 'yawns', 'ya', 'woo', 'deliberately', 'moon', 'watashi', 'bashir', 'pepsi', 'mouths', 'build', 'smiled', 'flexible', 'shag', 'brilliant', 'love', 'likes', 'handsome', 'bupkus', 'haiti', 'reason', 'shoulder', \"men's\", 'fair', 'tipsy', 'cup', 'smug', 'blubberino', 'kid', 'clean', 'mellow', 'patting', 'annie', 'pipe', 'flourish', 'even', 'popping', \"i've\", 'enjoyed', 'prepared', 'drive', 'micronesian', 'against', 'cupid', '50%', 'fast', 'alcohol', 'bender:', 'raising', 'jeers', 'sideshow_mel:', 'ease', 'lump', 'six', 'playhouse', 'rhyme', 'rest', 'lady_duff:', 'sobo', 'charlie', 'please', 'victim', 'heliotrope', 'darts', 'election', 'temple', 'ale', 'car:', 'si-lent', 'sweeter', \"seein'\", 'outrageous', 'ratio', \"crawlin'\", 'stretches', 'koholic', 'revenge', 'horror', 'troy_mcclure:', 'gregor', 'privacy', 'choking', 'forgive', 'flynt', 'trapped', 'bury', 'choked-up', 'miss_lois_pennycandy:', 'doors', 'look', 'logos', 'calling', 'dollars', \"ball's\", 'smelling', 'cause', 'regulars', \"world's\", 'handoff', 'ze-ro', 'script', 'contest', 'halloween', 'releasing', 'assistant', 'scum-sucking', 'correcting', 'gary_chalmers:', 'disguised', 'premiering', 'lifetime', 'occupied', 'man_with_crazy_beard:', 'confused', 'change', 'doll-baby', 'aside', '10:15', 'compadre', 'trick', 'live', 'arise', 'embarrassed', 'full-bodied', 'nein', 'coma', 'total', 'herself', 'sight', 'genius', 'except', 'sotto', \"we've\", 'bulked', 'ayyy', 'bits', 'pulls', 'called', 'macbeth', 'swimmers', 'punishment', 'goes', 'again', 'ned_flanders:', 'inspection', 'belches', 'huggenkiss', 'suru', 'hope', 'cranberry', 'acronyms', 'yo', 'waitress', 'sucker', 'declared', 'match', 'bear', 'fictional', 'the', 'toys', 'busiest', 'scrutinizes', 'planning', 'kang:', 'explaining', 'bam', 'forehead', 'official', 'once', 'ehhhhhhhh', 'ohhhh', 'package', 'medical', 'full-time', 'unfair', 'chow', 'abercrombie', 'tommy', 'code', \"it'll\", 'chosen', 'dateline', \"blowin'\", 'homeland', 'eve', 'paid', 'everything', 'grammar', 'pirate', 'portuguese', 'hold', 'insist', 'inserts', 'nuked', 'counterfeit', 'enforced', 'computer', 'ohh', 'grampa_simpson:', 'muhammad', 'wish-meat', \"neighbor's\", 'presidents', 'champ', 'pool', 'eggs', 'frozen', 'aerospace', 'majority', 'milks', 'evening', 'recap:', 'regulations', 'snap', 'engraved', 'julep', 'disgusted', \"barney's\", 'crony', 'higher', 'minimum', 'lib', 'religion', 'waist', 'conspiratorial', 'lover', 'online', 'drink', 'joining', 'root', 'sleigh-horses', 'whistles', 'favor', 'shotgun', 'nicer', 'reaches', 'um', 'invited', 'blown', 'peach', 'spilled', 'perfunctory', 'month', 'cuddling', 'taking', 'sympathizer', 'affects', 'incredulous', 'hunger', 'bobo', 'trees', 'tribute', 'foot', 'pad', 'limits', 'clears', \"somethin's\", \"kiddin'\", 'terrifying', 'shipment', 'brave', 'well-wisher', 'effect', 'lenny', \"industry's\", 'travel', 'sassy', 'ho-la', 'rings', 'manjula', 'bathing', 'schabadoo', 'sauce', 'fifth', 'wanna', 'quero', 'gums', 'swamp', \"eatin'\", 'cover', 'tips', 'dexterous', 'stirrers', 'duff_announcer:', 'nose', 'intention', 'deeper', 'exasperated', 'pusillanimous', 'paper', 'okay', 'businessman_#2:', \"rustlin'\", 'drag', 'a-b-', 'naively', 'fry', 'raging', 'original', 'eyed', 'alls', 'thrown', 'jasper_beardly:', 'sensitivity', \"we'd\", 'traffic', \"mcstagger's\", 'barney-guarding', 'volunteer', 'cowboys', 'points', 'gator', 'microphone', \"hole'\", 'mirthless', 'ehhh', 'marge', 'liability', 'faulkner', 'boxcars', 'weekend', 'winning', 'changes', 'brother-in-law', \"hobo's\", 'marshmallow', 'lushmore', 'chick', 'gotten', 'moonnnnnnnn', 'elves:', 'ballot', \"maggie's\", 'radishes', 'memory', 'relative', 'boyhood', 'portentous', \"bladder's\", 'fights', 'seas', 'mabel', 'committing', 'slop', \"beer's\", 'get', 'showing', 'changed', 'jerks', 'wonder', 'cents', 'monday', 'james', 'fuzzlepitch', 'been', 'costume', 'sneak', 'countryman', 'unattractive', 'theatrical', 'carny:', 'knowingly', 'dice', 'wasting', 'sincerely', 'dressed', 'little', \"ol'\", 'tofu', 'motel', 'wobbly', 'son-of-a', 'sudden', 'seat', 'loved', 'tv_husband:', 'milk', 'crowbar', \"renovatin'\", '||left_parentheses||', 'guinea', 'larry:', 'latin', 'urban', 'tatum', 'lard', 'nothing', 'pillows', 'confidence', 'placing', 'thirsty', 'whaaa', 'nevada', 'longest', 'vulnerable', 'sarcastic', 'mumbling', 'tape', 'aah', 'tentative', 'obama', 'supreme', 'flanders', 'mine', 'quiet', 'heave-ho', 'evergreen', 'adrift', 'boy', 'acceptance', 'distract', 'japanese', 'president', 'bird', 'madman', 'intruding', 'itself', 'mither', 'felony', 'weak', 'belong', 'fellas', 'mahatma', \"here's\", 'drivers', 'log', 'dungeon', 'pas', 'seymour', 'sick', 'sleep', 'uncreeped-out', 'excavating', 'faint', 'beaumarchais', 'practically', 'junior', \"spyin'\", 'hello', 'emotion', 'teenage_bart:', 'ne', 'loser', 'slogan', 'wound', 'check', 'grumbling', 'happened', 'wedding', 'sly', 'mac-who', 'sucks', 'hundred', 'souvenir', \"what's\", 'words', 'jeter', 'creates', 'royal', '/', 'lou:', 'geysir', 'twelveball', 'heals', 'really', 'blows', 'teeth', 'amnesia', 'which', 'suck', 'gin', 'shaky', 'scene', 'south', 'fire_inspector:', 'moments', 'you', 'rubbed', 'comes', 'scam', 'clench', 'calculate', 'thankful', 'fifty', 'happily', 'bras', 'safer', 'enthusiasm', 'alky', 'half-back', 'hubub', 'sweetheart', \"kid's\", 'puffy', 'brooklyn', 'sees', 'proof', 'befouled', 'invite', 'gimme', 'came', 'urge', 'hah', 'dignity', 'kickoff', 'ironed', 'poetics', 'extremely', 'feminist', 'dee-fense', 'occurs', 'moe_szyslak:', 'lloyd', 'declan', 'glen', 'prohibit', 'bubbles-in-my-nose-y', 'crew', 'whose', 'punk', 'day', 'writing', 'buffalo', 'mother', 'gang', 'cheryl', 'stretch', 'sunday', 'refiero', 'unbelievably', 'tank', 'often', 'endorsement', \"queen's\", 'bathroom', 'games', 'want', 'solely', 'jackass', 'cap', 'self-made', \"drexel's\", 'swill', 'country', 'anxious', 'taken', 'saint', 'unlucky', 'youngsters', 'wheel', 'hooters', 'vulgar', 'mortgage', 'soaking', 'hydrant', 'island', 'stores', 'sisters', 'suit', 'dishonor', 'champs', 'answering', 'doubt', 'morose', 'proud', 'understood:', 'gibson', 'upon', 'said:', 'rusty', 'defeated', 'wordloaf', 'especially', 'system', 'meteor', 'piece', 'scrutinizing', 'lock', 'up-bup-bup', 'doooown', \"secret's\", 'giggle', 'locklear', 'exhale', 'down', \"challengin'\", 'filed', \"fendin'\", 'halvsies', 'murderously', 'scooter', 'out', 'dryer', 'donut-shaped', 'twin', 'contract', 'wussy', 'mm-hmm', 'arms', 'married', 'roll', 'softer', 'wooden', \"showin'\", 'kahlua', 'ballclub', 'lainie:', 'holds', 'spender', 'pets', 'interrupting', 'talkers', 'cooler', \"gentleman's\", 'burt_reynolds:', 'escort', 'prefer', 'sobriety', 'tree', 'represent', 'cheat', 'eat', 'compliments', 'express', \"'cause\", 'shocked', 'proves', 'breathless', 'versus', 'flophouse', 'chug-a-lug', \"'er\", 'line', 'wells', 'comfortable', 'amber_dempsey:', 'girls', 'negative', 'energy', 'mansions', 'trapping', 'languages', 'fiction', 'woodchucks', 'renee', \"tv'll\", 'kenny', 'shrugs', 'way:', 'procedure', 'grandkids', 'appointment', 'foam', 'attach', 'slab', 'wowww', 'hardy', 'mistake', 'blade', 'lots', 'space-time', 'wing', 'walking', 'blobbo', \"g'ahead\", 'dan', 'state', 'liver', 'safecracker', 'mmm', 'aged_moe:', 'go', 'cecil_terwilliger:', 'man_at_bar:', 'absorbent', 'slot', 'return', 'ice', 'beating', 'robin', 'snotty', \"'pu\", 'brain', 'mozzarella', 'blind', 'wooooo', 'detective_homer_simpson:', 'drinking:', 'computer_voice_2:', 'smelly', 'cocking', 'every', 'small_boy:', \"squeezin'\", 'juice', 'sadly', 'mirror', 'life:', 'synthesize', 'lap', 'chilly', 'family-owned', 'skills', \"ridin'\", 'lotsa', 'punches', 'sound', 'streetlights', 'whatcha', 'scotch', 'linda_ronstadt:', 'donated', 'fringe', 'politics', 'pouring', 'cash', \"writin'\", 'shareholder', 'cutie', 'moonlight', 'apron', 'kramer', 'barf', 'boxers', 'wipes', 'goodnight', 'looks', 'trust', 'enough', 'thoughts', 'cajun', 'foundation', 'swigmore', 'mike', 'menacing', 'bleak', 'lady', 'moxie', 'grammy', 'recorder', 'stacey', 'page', 'celebrities', 'explanation', 'selection', 'plums', 'compels', 'got', 'jerry', 'mmmm', 'paints', 'freedom', 'enemy', 'floating', 'audience', 'premise', 'wore', 'whistling', 'benjamin', 'pocket', 'pantsless', 'second', 'clips', 'slipped', 'mic', 'bulldozing', 'automobiles', 'sticker', 'girl-bart', 'knuckles', 'scout', 'coms', 'story', 'righ', 'self-esteem', 'eminence', 'wobble', 'seductive', \"d'ya\", 'team', 'sucked', 'hyper-credits', 'cameras', 'chuckle', 'cut', 'tv_father:', 'sexual', 'hi', 'blood', 'wang', 'somehow', 'specials', 'threw', 'banned', 'hop', 'won', 'recommend', 'interesting', 'third', 'learn', 'effects', 'sale', 'musketeers', 'uninhibited', 'helped', 'parked', 'valley', 'angry', 'bret', 'dint', \"'morning\", 'disgracefully', 'malted', 'shall', \"stealin'\", 'able', 'slick', 'tv_announcer:', 'operation', 'conditioners', 'problem', 'forgets', 'hooch', 'pepto-bismol', 'swear', 'baseball', 'contemporary', 'nascar', 'sooner', 'extract', 'rivalry', 'begins', 'normals', 'sixty-nine', 'hunka', 'carnival', 'ripper', 'string', 'ape-like', 'mild', 'low-blow', 'gr-aargh', 'site', 'nelson', 'thunder', 'discuss', 'though', \"dimwit's\", 'bouquet', 'tow-joes', 'whaddya', \"wonderin'\", 'painting', 'joking', 'friend', 'plants', 'shopping', 'covering', 'cost', 'tenuous', 'solved', 'mess', 'burns', \"getting'\", 'toy', 'plan', 'hawking:', 'only', 'prince', 'win', 'santeria', \"talkin'\", \"brady's\", \"fightin'\", 'break-up', \"homer'll\", 'ma', 'kermit', 'troubles', 'factor', 'fontaine', 'uses', 'watched', 'faced', 'technical', 'cosmetics', \"'em\", 'geyser', 'walks', 'workers', 'jay', 'babies', 'generally', 'eight-year-old', 'charter', 'notch', 'zoomed', '50-60', 'rage', 'scornfully', 'next', 'tap', 'stripes', 'boys', 'switched', 'invented', 'augustus', 'dash', 'omigod', 'coaster', 'carey', 'swimming', 'admiring', 'may', 'breathalyzer', 'twice', 'desire', 'cent', 'aziz', 'funds', 'nickels', '4x4', 'lot', \"clancy's\", 'soap', 'curds', 'snout', 'answered', 'whatever', 'rope', 'little_hibbert_girl:', 'mill', 'dearest', 'nervous', 'bathed', 'cummerbund', 'blaze', 'private', 'admirer', 'myself', 'affection', 'simpsons', 'platinum', 'veteran', 'spelling', 'meal', 'troy', 'cigarettes', 'lowest', 'fustigate', 'nominated', 'fbi', 'tapered', 'disdainful', 'love-matic', 'face', 'dark', 'ah-ha', 'shirt', 'lisa_simpson:', 'ruled', 'terminated', 'prayer', 'wearing', \"weren't\", 'door', 'creme', 'attention', 'science', 'ghouls', 'person', 'urine', 'verticality', 'wacky', 'payback', 'coward', 'pian-ee', \"'ceptin'\", 'swishkabobs', 'supervising', 'chubby', \"'topes\", 'strains', 'stars', 'fella', \"now's\", 'der', 'liable', 'jumping', 'bumblebee_man:', 'agree', 'whatsit', 'richer', 'brassiest', 'shove', 'folk', 'takes', 'delivery', 'prove', 'on', 'crushed', 'accident', 'nation', 'dreamed', 'wholeheartedly', 'granted', 'rem', 'suicide', 'players', 'grace', 'wieners', 'madonna', 'atari', 'piling', 'sat', 'life-extension', 'hugh:', 'hunky', 'belly', 'dimly', 'icelandic', 'teenage_barney:', 'troll', 'lily-pond', 'bushes', 'engine', 'kindly', 'stranger:', 'marguerite:', 'different', 'rome', 'lanes', 'delays', 'waters', 'that', 'temples', 'thank', 'went', 'accelerating', 'sugar-free', 'night-crawlers', 'fox_mulder:', 'grammys', 'reliable', 'circus', 'knowing', 'followed', 'force', 'arse', 'hare-brained', 'connection', 'faceful', \"drawin'\", 'storms', 'leno', 'pizzicato', 'ha-ha', 'pitcher', 'eyeing', 'evils', \"listenin'\", 'email', 'prize', 'butter', 'compromise:', 'frink', 'empty', 'clown', 'cab_driver:', 'p-k', 'extended', 'eighty-six', 'housewife', 'shard', 'scores', 'presidential', 'delightful', 'flower', 'here-here-here', 'dana_scully:', 'howya', 'buzziness', 'money', 'damned', 'lottery', 'booze', 'furiously', 'marched', 'products', \"somebody's\", 'ron', 'murmurs', 'turning', 'disappointment', 'exits', 'firm', 'summer', 'bart', 'gay', 'vampires', 'heartless', 'chunk', 'doll', 'but', 'half-beer', 'fighter', 'shaker', 'thirty-five', 'barney_gumble:', 'emporium', 'wine', 'lipo', 'please/', 'bide', 'towed', 'roz:', '||semicolon||', 'worried', 'comedies', 'ran', 'caper', 'turn', 'pay', 'st', 'diminish', 'ow', 'drapes', 'connor', 'evasive', 'bit', 'transmission', 'treats', 'fountain', \"you've\", 'house', 'mind-numbing', 'finally', 'awake', 'talkative', 'losers', 'store-bought', 'rip', 'cappuccino', 'barber', 'around', 'rainier', 'noises', 'purveyor', 'thoughtful', 'lemonade', 'quit', 'sickly', 'fumes', 'supports', 'tv_daughter:', 'brockman', 'trunk', 'grab', 'soon', 'composite', 'singing', 'led', 'tried', 'smile', 'stolen', 'needed', 'casual', 'agency', 'arab_man:', 'sideshow_bob:', \"cupid's\", 'there', 'peppy', 'invulnerable', 'gag', 'competitive', 'created', \"linin'\", '1895', 'sec_agent_#2:', 'runaway', 'dejected_barfly:', 'lowers', 'character', 'familiar', \"cont'd:\", 'collateral', 'moe-clone', 'committee', 'sap', 'showered', 'trainers', 'vicious', 'manchego', 'throw', 'switch', 'knit', 'midge', 'ripcord', 'neither', 'victory', 'zero', 'forty', 'wangs', 'expensive', 'crayon', 'lisa', 'nigerian', 'television', 'ruin', 'save', 'ointment', 'crowned', 'government', 'sweetest', 'strangles', 'schmoe', 'selective', 'clincher', 'from', 'exchange', '3rd_voice:', 'whining', 'asking', 'seymour_skinner:', 'supply', 'kwik-e-mart', 'cecil', 'cheering', 'xx', 'adventure', 'support', 'us', 'pages', 'legs:', 'bill', 'latour', 'settlement', 'worst', 'las', 'killarney', 'gal', 'themselves', 'cell', 'matter-of-fact', 'nucular', 'endorse', 'alley', 'beatings', 'billiard', 'single-mindedness', 'coat', 'hoax', 'muscle', 'yellow', 'gimmicks', 'al_gore:', 'neanderthal', 'ginger', 'skinner', \"yesterday's\", 'drop-off', \"donatin'\", 'gossipy', 'sprawl', 'stooges', 'hammy', \"'til\", 'glen:', 'answer', 'hoagie', 'celeste', 'fat_in_the_hat:', 'goblins', 'practice', 'set', 'vanities', 'unsafe', 'brine', 'gently', 'eyesore', 'kiss', 'shells', 'yes', 'robbers', 'contemplated', 'actually', 'babe', 'alec_baldwin:', 'found', 'hours', 'duel', '_kissingher:', 'edelbrock', 'mop', 'access', 'promised', 'register', 'sharing', 'history', 'blossoming', 'fayed', 'gangrene', 'smiling', 'cannoli', 'strongly', '7-year-old_brockman:', \"s'pose\", 'brings', \"pickin'\", 'cologne', 'guide', 'catching', \"ain't\", 'musses', \"they'd\", 'appreciated', \"poisonin'\", \"fishin'\", 'healthier', 'wings', 'cage', 'rev', 'blimp', 'massive', 'moans', 'femininity', \"'im\", 'leathery', 'yoink', 'traitor', 'bleacher', 'violin', 'camp', 'cheerier', 'men', 'watered', 'place', \"treatin'\", 'girlfriend', 'unless', 'bridge', 'already', 'pit', 'david_byrne:', \"kearney's_dad:\", 'snotball', 'britannia', 'upgrade', 'fighting', 'nods', 'romance', 'tabooger', 'shyly', 'acquaintance', 'straining', 'powers', 'comforting', 'hilton', 'rip-off', 'something:', 'threatening', 'sympathy', 'shower', 'badmouths', 'david', 'ugly', \"bein'\", 'rumaki', 'infor', 'sweetly', 'badly', 'grave', 'whatchacallit', 'wood', 'slim', 'weirded-out', 'zack', 'jelly', 'sacajawea', 'shoe', 'experienced', 'advertising', 'crunch', 'fall', 'throwing', 'homer_simpson:', 'extinguishers', 'forget-me-shot', 'bag', 'captain', 'dig', 'rife', 'runs', 'snackie', 'priest', 'chinese_restaurateur:', 'waste', 'wha', 'bronco', 'letter', 'soul', 'hose', 'warren', 'training', 'spent', 'crummy', 'wanted', 'lecture', \"ma's\", 'neat', 'virility', 'somebody', 'far', 'ducked', 'booze-bags', 'minutes', 'worry', 'single', 'sacrilicious', 'refinanced', 'jeez', 'child', 'opens', 'file', 'safely', 'hitler', 'fist', 'does', 'sings', 'exhibit', 'couple', 'un-sults', 'it', 'donate', 'meaningless', 'cocktail', 'arrest', 'dismissive', 'whole', 'ads', 'today', 'authenticity', 'vacation', 'phlegm', 'fast-food', 'bell', 'bully', 'gestated', 'take', 'mix', 'mob', \"that's\", 'owned', 'larson', 'burp', 'bright', 'truck', 'bagged', 'eh', 'plucked', 'hated', 'canyonero', 'least', 'needs', 'buying', 'band', 'increased', 'continuum', 'ahem', 'times', 'hilarious', \"pressure's\", 'asleep', 'pus-bucket', 'bullet-proof', \"won't\", 'making', 'grandiose', 'hemoglobin', 'tragedy', \"cleanin'\", 'department', 'ugh', 'squashing', 'turkey', 'book_club_member:', 'wrote', 'anyway', \"thing's\", 'blokes', \"we're\", 'agents', 'fork', 'diamond', 'eighty-one', 'open', 'shaggy', 'pushing', 'arabs', \"he'd\", 'innocuous', 'psst', 'mistakes', 'sentimonies', 'barbara', 'pretend', 'poetry', 'teach', 'packets', 'their', 'barflies', 'control', 'du', 'equal', 'ziffcorp', 'light', 'bleeding', 'tasty', 'all-star', 'pointless', 'fastest', 'kent', 'exultant', 'bottomless', 'contractors', 'stein-stengel-', 'owner', 'whoever', 'meaningful', 'chained', 'satisfied', 'those', 'hero-phobia', 'tomatoes', 'go-near-', 'reads', 'amber', 'railroad', 'researching', 'jigger', 'frankie', 'grandé', 'breath', 'coast', 'hardhat', 'ridiculous', 'cavern', 'show', 'omit', 'attached', 'honeys', 'involving', 'spouses', \"family's\", 'gordon', 'sing-song', 'cop', 'hostages', 'savvy', 'available', \"could've\", 'unkempt', 'yap', \"doin'\", 'abusive', 'filled', 'snake_jailbird:', 'drederick', 'makes', 'gardens', 'chocolate', 'plus', 'helen', 'steak', \"i'm\", 'fanciest', 'full-blooded', 'motto', \"carl's\", \"swishifyin'\", 'trail', 'hiya', 'chorus:', 'flush-town', 'loan', 'savagely', 'thought', \"'n'\", 'tab', 'morlocks', 'small', 'congoleum', 'polishing', 'brown', 'fresco', 'hiring', 'be-stainèd', 'compressions', 'appealing', 'murdoch', 'mountain', 'blooded', 'donor', 'macaulay', 'wreck', 'sold', 'collapse', 'listened', 'in', 'hates', 'button', 'tire', 'nickel', 'spit-backs', 'whispered', 'comeback', 'dictating', \"tester's\", 'shop', 'mm', 'exited', 'ralph', 'lise:', 'year', 'boisterous', 'dizer', 'land', 'gruesome', 'lighting', 'groan', 'certainly', 'mention', 'polygon', 'wrong', 'barney-type', 'f-l-a-n-r-d-s', 'heavyweight', 'certified', 'crumble', 'alfalfa', 'startup', 'ivanna', 'stamps', 'cuff', 'usual', 'sperm', 'fledgling', 'forty-five', 'sport', 'broad', 'little_man:', 'bon-bons', 'position', 'based', 'grienke', 'eyeballs', 'stole', 'complaining', 'sharps', 'cherry', 'fish', 'lodge', 'text', 'process', 'although', 'wrecking', \"year's\", 'full', 'syrup', 'wildfever', 'bad', 'new', 'hurts', 'timbuk-tee', 'woozy', 'wayne:', 'sticking', 'environment', 'wondered', 'hockey-fight', 'feld', 'snort', 'dreamy', 'yea', 'examples', 'excuse', 'boozy', 'courts', 'loud', 'plywood', 'wally:', 'loafers', 'dreamily', 'chuckles', 'palm', 'charlie:', \"playin'\", \"dad's\", 'sack', 'freak', 'hanging', 'ew', 'roses', 'wash', 'simpson', 'burn', 'haws', 'slobs', 'permitting', 'throws', 'closes', 'hear', 'complaint', 'looked', 'broadway', 'yourse', 'grieving', 'near', 'wakede', 'standing', 'sickens', 'togetherness', 'suspect', 'sir', 'lucius', 'gotta', 'dealt', 'mad', 'steely-eyed', 'stops', 'inspector', 'california', 'dirty', 'sandwich', 'caught', 'meet', 'old', 'achem', 'boo', 'sincere', 'life-partner', 'hang', 'grind', 'assassination', 'albert', 'sinister', 'shakespeare', 'authorized', 'military', 'intrigued', 'shark', 'asses', 'undermine', 'furniture', \"man'd\", 'snail', 'blue', 'possibly', 'peeved', 'tall', 'talk-sings', 'lift', 'wallet', 'italian', 'wudgy', 'blowfish', 'sledge-hammer', 'either', 'pain', 'bachelorhood', 'mcbain', 'voters', 'thoughtless', 'venom', 'short', 'daaaaad', 'mobile', 'corner', 'hail', \"watchin'\", 'knife', 'project', 'fire', 'ugliness', 'calm', 'grains', 'taylor', 'lush', 'prolonged', 'organ', 'states', 'books', 'marjorie', 'legend', 'kay', 'unusual', 'wiggle', 'gumbel', 'sternly', 'bags', 'picture', 'falcons', 'someday', 'canyoner-oooo', 'stored', 'awful', 'reluctant', 'jobs', 'possessions', 'limited', 'stage', 'soup', 'media', 'duke', 'bad-mouth', 'william', 'comic_book_guy:', \"kids'\", 'bride', 'taxi', 'pretzel', 'romantic', \"what'sa\", 'upset', 'situation', 'utility', 'understood', 'divorced', 'teddy', 'jackson', 'heavyset', 'device', 'business', 'briefly', 'website', 'cries', \"y'know\", 'wishes', 'stay-puft', 'snitch', 'for', '2', 'cannot', 'mini-beret', 'faces', 'unexplained', 'agent', 'richard', 'astronauts', 'legs', 'madison', \"should've\", 'scoffs', 'meditative', 'into', 'stones', 'karaoke_machine:', 'sail', 'winch', 'na', 'speed', 'grunt', 'urinal', 'mickey', 'billion', 'kneeling', 'permanent', 'grenky', 'lumpa', 'cares', 'firing', 'contemptuous', 'frankly', 'group', 'breaking', 'fifteen', 'whim', 'wazoo', 'chub', 'starlets', 'rickles', 'hosting', 'drown', 'gargoyles', 'slyly', 'harvesting', 'sponsoring', 'chateau', 'stares', 'spellbinding', 'idea', 'treat', 'chief', 'between', \"smokin'\", 'barkeeps', 'underpants', 'gargoyle', 'who', 'good-looking', \"that'll\", 'safety', 'eventually', 'golden', \"show's\", 'boozehound', 'forbidden', 'radioactive', 'week', 'attractive', 'dealie', 'photos', 'stumble', 'landlord', 'vehicle', \"smokin'_joe_frazier:\", 'everyday', 'astonishment', 'handwriting', 'agent_miller:', 'torn', \"wouldn't\", 'yew', 'lame', 'strolled', \"grandmother's\", 'birthplace', 'dogs', 'international', \"tramp's\", 'landfill', 'swan', 'horrors', \"buffalo's\", 'wolveriskey', \"cashin'\", 'ones', 'clear', 'overflowing', 'salad', 'irrelevant', 'train', 'dateline:', 'remain', 'things', 'executive', 'early', 'bubbles', 'chairman', 'catty', 'million', 'pushes', 'declan_desmond:', 'continuing', 'bothered', 'famous', 'world-class', 'pilsner-pusher', 'jeff', 'feels', 'spanish', 'criminal', 'decide:', 'direction', 'layer', 'persia', 'thousand-year', 'bartenders', 'excitement', 'indeed', 'vote', 'ends', \"liftin'\", 'lovelorn', 'blame', 'indecipherable', 'runners', 'lord', 'cobbling', \"team's\", 'assume', 'noosey', 'beats', 'moving', 'liquor', \"foolin'\", 'necklace', 'yet', 'happier', 'backing', 'tempting', 'brick', 'poking', 'hemorrhage-amundo', 'lotta', 'anyhoo', 'booth', 'row', 'sense', 'sixteen', 'koi', 'burt', 'ingredient', 'stickers', 'dang', 'takeaway', 'wall', 'today/', 'became', 'drains', 'e', 'transylvania', 'gloop', 'singers:', 'knives', 'eyeball', 'do', \"bo's\", 'journey', 'cars', 'updated', 's-a-u-r-c-e', 'easy-going', 'daughter', 'uhhhh', 'mind', 'driveability', 'nurse', 'fast-paced', 'paste', 'rash', 'johnny_carson:', 'undated', 'corn', 'warm_female_voice:', 'wildest', '_hooper:', 'cotton', 'hour', 'amanda', 'w-a-3-q-i-zed', 'lives', 'biggest', 'sugar-me-do', 'nah', 'dr', 'neighborhood', 'ing', 'shoots', 'spreads', 'greatly', 'eva', 'baritone', 'bolting', 'scientists', 'mrs', 'michelin', 'poulet', 'wolfcastle', 'view', 'lenses', 'accepting', 'reviews', 'tomorrow', 'specified', 'liar', \"nothin'\", 'ivana', 'seats', 'occurred', 'stab', 'take-back', 'maiden', 'customer', 'unattended', 'wheels', 'voice_on_transmitter:', 'bumpy-like', 'stengel', 'dozen', 'curiosity', 'clenched', 'duffed', 'singing/pushing', 'thrust', 'phasing', 'kentucky', 'rob', 'wiggle-frowns', 'attack', 'mechanical', 'secrets', 'extreme', 'ding-a-ding-ding-ding-ding-ding-ding', 'libraries', 'ab', 'eco-fraud', 'sheet', 'teen', 'as', 'kool', 'lobster', 'chili', 'suppose', 'gorgeous', 'yup', 'stained-glass', 'emotional', 'vermont', 'je', 'poplar', 'territorial', 'brains', 'event', 'panicked', 'made', 'discussing', 'grimly', 'dance', 'divine', 'accidents', 'cocoa', 'when', 'thirty-nine', 'hibbert', 'bunion', 'frightened', 'ferry', 'apology', 'winks', 'unusually', 'brightening', 'encore', \"shouldn't\", 'haircuts', 'indeedy', 'tolerable', 'literature', 'yellow-belly', 'dishrag', 'winces', 'using', 'falling', 'passed', 'dramatically', 'oughtta', 'ah', 'unison', 'power', 'sobs', 'bottoms', 'deadly', \"puttin'\", 'sloppy', 'many', 'maitre', 'mock', 'churchill', 'whaaaa', 'toxins', 'sketch', 'appropriate', 'strawberry', 'schnapps', 'jovial', 'opening', 'sharity', 'face-macer', 'wad', 'health', 'insulin', 'skin', 'him', 'great', 'job', 'runt', 'lying', 'saw', 'insults', 'religious', 'sat-is-fac-tion', 'guest', 'brother', 'plant', \"lookin'\", \"c'mere\", 'de', 'demo', 'hottest', 'bannister', 'news', 'hollye', 'pall', 'colonel:', 'monkeyshines', 'senators:', 'inspiring', 'passes', 'newspaper', 'birthday', 'darkest', 'talk', 'smart', 'inherent', 'norway', 'pudgy', 'family', 'telegraph', 'anywhere', 'blocked', \"dog's\", \"s'cuse\", 'uh-oh', 'apu_nahasapeemapetilon:', 'skinheads', 'male_inspector:', 'saucy', 'bachelorette', 'balloon', 'oddest', 'denver', 'rascals', 'freaky', 'maxed', 'young_homer:', 'bowl', 'thought_bubble_lenny:', 'desperate', 'suing', 'used', \"when's\", 'evil', 'superhero', 'simon', 'pleasure', \"professor's\", 'see', 'grubby', 'unsanitary', 'weekly', 'beaumont', 'glorious', 'wheeeee', 'couch', 'incarcerated', 'isle', 'lungs', \"idea's\", 'pig', 'erasers', 'scratcher', 'retired', 'enthusiastically', 'scruffy_blogger:', 'rafter', 'rosey', 'abe', 'strain', 'dum-dum', 'wrapped', 'klingon', 'new_health_inspector:', 'anguished', 'gees', 'fatso', 'remodel', 'forever', 'reporter:', \"speakin'\", 'freshened', 'twenty-two', 'thousand', '_marvin_monroe:', 'care', 'boat', 'triple-sec', 'annoying', 'vacations', 'whoa', 'hooray', 'african', 'branding', 'store', 'matter', \"havin'\", 'flames', 'apart', 'move', 'ollie', 'her', 'eighty-three', 'nail', 'womb', 'spits', '_powers:', 'patron_#1:', 'warmly', 'abcs', 'gifts', 'turned', 'cat', 'maggie', 'dislike', 'complete', 'defected', \"president's\", 'cauliflower', 'banks', 'sticking-place', 'sister-in-law', 'throats', 'obese', 'played', 'kissing', 'stopped', 'stingy', 'coupon', 'crawl', 'chastity', 'settles', 'network', 'wake', \"moe's\", 'plenty', 'disapproving', 'earlier', 'bubble', 'riveting', 'benjamin:', 'sweater', 'impatient', 'steinbrenner', 'menlo', 'promise', 'friday', 'internet', 'aggie', 'diddilies', \"she's\", '||period||', 'meyerhof', 'horrible', 'talked', 'loaded', 'shape', 'getaway', 'jesus', 'lindsay', 'goal', 'low', 'background', 'killjoy', 'lie', 'fumigated', 'beeps', 'mull', 'pre-recorded', 'reaching', 'reasonable', \"'roids\", 'thighs', 'cracked', 'right', 'football', 'wally', 'radiation', 'bill_james:', 'eighty-seven', 'raccoons', 'peanut', 'cheesecake', 'rug', 'bartender', 'knows', 'stirring', 'gumbo', 'delivery_man:', 'hm', 'pulling', 'lease', 'suspiciously', 'additional-seating-capacity', 'cow', 'blood-thirsty', 'hungry', 'dinks', 'sea', 'illustrates', 'gut', \"nick's\", \"you're\", 'presents', 'these', 'menace', 'killed', 'club', 'nonchalantly', 'partner', 'heart-broken', 'painted', 'preparation', 'wrestling', 'limericks', 'fulla', 'goldarnit', 'princesses', 'stonewall', 'hooky', 'fevered', 'record', 'frat', 'brief', 'rush', 'martini', 'eaters', 'fresh', 'church', 'friendly', 'wiggum', 'southern', 'junkyard', 'accept', 'nigeria', 'flown', 'pause', 'complicated', \"hell's\", 'buyer', \"what're\", 'walther_hotenhoffer:', 'courage', 'measure', 'stir', 'puke-holes', 'song', 'squeezed', 'winnings', 'surprise', 'trash', 'kemi', 'the_edge:', 'write', 'selma_bouvier:', 'ears', 'where', 'aunt', 'beef', 'concerned', 'expression', 'increasingly', 'letters', 'gunk', 'hit', 'sex', \"can't-believe-how-bald-he-is\", 'examines', 'pills', 'slaps', 'pretentious_rat_lover:', 'celebrate', 'awwww', 'carb', 'column', 'generous', 'author', 'dennis_conroy:', 'hers', \"i'd'a\", 'whoo', 'yell', 'vegas', 'michael_stipe:', 'mission', 'burnside', 'natured', 'jamaican', \"life's\", 'taught', 'plug', 'rhode', 'encouraged', 'sits', 'spread', 'tsking', 'prison', 'coffee', 'floor', 'ocean', 'offensive', 'archaeologist', 'arm', 'mexicans', 'catholic', \"changin'\", 'glitz', 'bite', 'pigtown', 'patriotic', 'gentleman:', 'push', 'just', 'wear', 'queen', 'holy', 'toasting', 'model', 'pleased', 'sadder', 'widow', 'exploiter', 'beer-jerks', 'prep', 'self-centered', 'fortress', 'riding', 'harmony', 'eaten', 'cruel', 'mice', 'insightful', 'decided', 'welcome', 'stevie', 'beefs', 'over', 'delts', 'tha', 'benefits', 'tease', 'ingested', 'lugs', 'they', 'flaking', 'whatchamacallit', 'jailbird', 'fink', 'ireland', 'beginning', 'doppler', 'sour', 'aerosmith', 'morning', 'popular', 'european', 'give', 'edge', 'quarter', 'cueball', 'real', 'krabappel', 'rump', 'routine', 'last', 'margarita', 'orifice', 'roof', 'nemo', 'heh', 'swell', 'ding-a-ding-ding-a-ding-ding', 'causes', 'she', 'x', 'wipe', 'everyone', 'disgrace', 'half-day', 'onion', 'cheapskates', 'refresh', 'beast', 'theater', 'intoxicated', 'scarf', 'smiles', 'strategy', 'microwave', 'chanting', 'mural', 'stick', 'prizefighters', 'yourself', 'expired', 'post-suicide', '_montgomery_burns:', 'tabs', 'ultimate', 'distributor', 'manjula_nahasapeemapetilon:', 'felt', 'remembered', 'ninth', 'shot', 'loboto-moth', 'space', 'charged', 'j', 'bottle', 'easter', \"bart'd\", 'elaborate', 'jerk', 'rancid', 'alcoholism', 'nards', 'later', 'lovers', 'joey_kramer:', 'snide', 'p', 'past', 'highball', 'casting', 'honest', 'big', 'tells', \"smackin'\", 'solid', 'beyond', 'wishing', 'k', 'fireworks', 'newsweek', 'grants', 'lay', 'stationery', 'curious', 'tow', 'would', 'address', 'bid', 'impressed', 'sponge:', 'simp-sonnnn', 'intakes', \"duelin'\", 'scrubbing', 'informant', 'offshoot', 'billboard', 'play/', 'legoland', 'marmaduke', 'splattered', 'homer_', 'graveyard', 'unhappy', 'gayer', 'displeased', 'cats', 'grinch', 'pond', 'blend', 'make:', 'shortcomings', 'occasional', \"santa's\", 'vacuum', 'calmly', 'insurance', 'uglier', 'maya', 'meals', 'conversion', 'non-american', 'gruff', 'lee', 'probably', 'silence', 'ancient', 'terrific', 'homie', 'bread', 'here', 'lingus', 'lobster-politans', 'wolfe', 'enthused', 'mailbox', 'tired', 'appreciate', 'data', 'stepped', 'hears', 'spinning', 'spooky', 'safe', 'allowed', 'laid', 'zinged', 'adult', 'stools', 'ventriloquism', 'boxer:', 'noose', 'guard', 'brunch', 'oooh', 'pumping', 'louder', 'agnes_skinner:', 'nasa', \"mopin'\", 'leave', 'hunter', 'expense', \"'tis\", 'adequate', 'pro', 'mouse', 'lenny_leonard:', 'youse', 'rutabaga', 'four', 'mcclure', 'contented', 'air', 'cooker', 'kills', 'let', 'miles', 'friends', 'unlike', 'enabling', 'detecting', 'issuing', 'forgot', 'offa', 'virtual', \"tinklin'\", \"money's\", 'memories', 'pissed', 'rebuilt', 'hushed', \"pope's\", 'beep', 'diablo', 'school', 'frogs', 'colossal', 'hideous', 'forget-me-drinks', \"fallin'\", 'lights', 'jogging', 'presently', 'wave', 'random', 'grim', 'lowering', 'pantry', 'fritz:', 'cutest', 'ripped', 'come', 'fierce', 'jewish', 'scatter', 'knuckle-dragging', 'scratching', 'forecast', 'teacup', 'corporation', 'cozy', 'kids', 'skinny', 'trenchant', 'inanely', 'press', 'lenford', 'crowd', 'anti-crime', 'grabbing', 'shutup', 'moan', 'sober', 'pinball', 'cheery', 'indifference', '8', 'positive', 'strap', 'brunswick', 'ladder', 'methinks', 'declare', 'waylon_smithers:', 'undies', 'harder', 'occasion', 'by', 'pussycat', 'slap', 'shores', 'gum', 'heard', 'spirit', 'weep', 'voyager', 'slight', 'mushy', 'charming', 'municipal', 'navy', 'lessee', 'exhaust', 'homesick', 'british', 'slapped', 'presumir', 'devastated', 'apply', 'what-for', \"tree's\", 'publish', 'helpless', 'stan', 'arts', 'bumped', 'fixes', 'indifferent', 'minute', 'name:', 'anybody', 'samples', 'killer', '/mr', 'huddle', 'will', 'gheet', 'shifty', 'parents', 'mommy', 'refill', 'snow', 'rig', 'life', 'suds', 'suburban', 'beard', 'mostly', \"thinkin'\", 'hippies', 'optimistic', 'speech', 'seven', 'mortal', 'prompting', 'tablecloth', 'price', 'tremendous', 'work', 'outta', 'seething', 'sanctuary', 'intoxicants', 'yammering', 'dames', 'language', 'dea-d-d-dead', 'yourselves', 'mccall', 'mafia', 'ha', 'malibu', 'correct', 'football_announcer:', 'draw', 'repeating', \"chewin'\", 'legally', 'octa-', 'illegal', 'ripping', 'incapable', 'time', 'civil', 'coined', 'emphasis', 'profiling', 'warning', 'hollywood', 'mary', 'orgasmville', 'glitterati', 'pageant', 'eyes', 'eurotrash', 'box', 'driving', 'squabbled', 'milhouse_van_houten:', 'tester', 'semi-imported', 'experience', 'testing', 'oooo', 'transfer', 'chinese', 'says', 'almond', 'brow', \"disrobin'\", 'maman', '_timothy_lovejoy:', 'booger', 'dinner', 'holding', 'honored', 'pick', 'macho', 'comic', 'suspicious', 'mater', 'running', 'wind', 'corpses', 'head', 'lost', 'considering:', 'brockelstein', 'mystery', 'walther', 'meatpies', \"dyin'\", \"knockin'\", 'deny', '_burns_heads:', 'linda', 'drinks', 'female_inspector:', 'rekindle', 'company', 'formico', 'bridges', 'failed', 'videotaped', 'kings', 'mason', 'prettiest', 'challenge', 'quadruple-sec', 'heroism', 'sizes', 'weeks', 'copy', 'cockroaches', 'shut', 'ninety-eight', 'awesome', 'wayne', 'yesterday', 'form', 'hank_williams_jr', 'estranged', 'lucinda', 'mayor', 'giggles', \"fine-lookin'\", 'bartholomé:', 'beer:', 'headhunters', 'freaking', 'yelling', 'freeze', 'kitchen', 'pity', 'putty', 'angel', 'apu', 'mug', 'warily', 'forty-seven', 'praise', 'touched', 'whirlybird', 'disco', 'distance', 'moe-near-now', 'oak', 'simplest', 'gals', 'crack', 'mr', 'deserve', \"raggin'\", 'wham', 'lose', 'pepper', 'unrelated', 'idealistic', 'hopeful', 'mckinley', 'electronic', 'teacher', 'wishful', 'repay', 'tears', 'arguing', 'raking', 'advice', 'não', 'andrew', 'dashes', 'jubilant', 'whup', 'aged', 'enjoy', 'vodka', 'oil', 'yello', \"cuckold's\", 'chase', 'oww', 'lawyer', 'occupancy', 'broom', 'crime', '_zander:', 'daniel', \"brockman's\", 'whiny', 'starting', 'in-ground', 'schorr', 'improved', 'cola', 'recreate', 'hot-rod', 'fell', 'fabulous', 'car', 'ideas', 'sideshow', 'magnanimous', 'sorry', 'mexican_duffman:', 'spiritual', 'instrument', 'alive', 'whaddaya', 'musta', 'eleven', 'diets', 'taps', 'nash', 'pridesters:', 'regret', 'cheap', 'gives', 'tapping', 'hmf', 'joint', 'months', 'more', 'thumb', 'fausto', 'statue', 'investigating', 'finished', 'flips', 'woulda', 'laramie', \"liberty's\", 'though:', 'order', 'hurting', 'lookalike:', 'insulted', 'backward', 'funniest', 'darn', 'therefore', 'haw', 'cuckoo', '||return||', 'craphole', 'cletus_spuckler:', 'narrator:', 'hundreds', 'ragtime', 'enter', 'stayed', 'brought', 'window', 'moe_recording:', 'rat', 'violations', 'tasimeter', 'splash', 'gluten', 'figures', 'jukebox_record:', \"battin'\", 'afloat', 'kl5-4796', 'puke-pail', 'punch', 'alter', 'beat', 'dracula', '||question_mark||', 'bono', 'thrilled', 'first', 'tough', 'studied', 'kirk_van_houten:', 'owe', 'kyoto', 'fancy', 'oils', 'rub', 'playing', 'warned', 'advance', 'paris', 'body', 'juke', 'mister', 'is:', 'nfl_narrator:', 'irishman', 'share', 'hangs', 'delicious', 'businessman_#1:', 'open-casket', 'police', 'fortensky', 'stories', 'ho-ly', \"betsy'll\", 'sweetie', 'spoken', 'jubilation', 'joe', 'puff', 'solo', 'meant', 'frazier', 'appear', 'polenta', 'carlotta:', 'did', \"poundin'\", 'highest', 'ninety-seven', 'ronstadt', 'cheerleaders:', 'elephants', 'cricket', 'anti-lock', 'pub', 'telling', 'drove', 'nervously', 'sector', 'c', 'tsk', 'reconsidering', 'predecessor', 'aristotle:', 'kadlubowski', 'sausage', 'it:', 'la', \"wearin'\", 'locked', 'hard', 'indigenous', \"i-i'm\", 'squeeze', 'motor', 'special', 'bucks', 'action', 'crisis', 'murmur', 'purse', \"snappin'\", 'another', 'realizing', 'shutting', 'chest', \"starla's\", 'gotcha', 'beautiful', 'arrested:', 'brawled', 'jump', 'favorite', 'jerky', 'candles', 'eddie:', 'shrugging', 'when-i-get-a-hold-of-you', 'sedaris', '||comma||', 'rock', 'cable', 'vin', 'reach', 'secret', 'generously', 'ignorant', 'whisper', 'thru', 'horns', 'hike', 'society_matron:', 'mumble', 'mona_simpson:', 'presses', 'listen', 'cleveland', 'butts', 'designated', 'road', 'clipped', 'specific', 'head-gunk', 'intervention', 'majesty', 'maximum', 'stink', 'so-ng', 'wants', 'restaurant', 'better', 'ringing', 'tree_hoper:', 'pregnancy', 'commission', 'hostile', 'surprised/thrilled', 'color', \"tonight's\", 'leaving', 'crying', 'texan', 'wish', 'specialists', 'rat-like', 'tongue', 'waylon', 'wealthy', 'phrase', 'liven', 'ribbon', 'mathis', 'fools', 'kinda', 'poster', 'pews', 'spews', 'wise', 'act', 'wiping', 'charity', 'girl', 'feeling', 'stop', 'tv_wife:', 'falsetto', 'grampa', 'forward', 'an', 'bret:', 'i-i', 'coal', 'germany', 'weary', 'sass', 'too', 'hey', 'realized', 'smuggled', 'cobra', 'reactions', 'else', 'disillusioned', 'butt', 'death', \"leavin'\", 'squishee', 'expert', \"'evening\", 'coney', 'murdered', 'depressed', \"'round\", 'churchy', 'sanitation', 'xanders', \"isn't\", 'dog', 'ford', 'tobacky', 'bellyaching', 'director:', 'gun', 'perhaps', 'belch', 'geez', 'peabody', 'carll', 'offense', 'dials', 'hotel', 'miss', \"shootin'\", 'portfolium', 'tokens', 'quick-like', \"bartender's\", 'i/you', 'plain', \"fans'll\", 'yard', 'smoothly', 'scent', \"didn't\", 'doing', 'george', 'glamour', 'tonight', 'dawning', 'ground', 'till', 'hillary', 'onions', \"guy's\", 'cleaned', 'skins', 'fault', \"tellin'\", 'screws', 'tourist', \"they're\", 'fat_tony:', 'boston', 'unearth', 'attracted', 'avec', 'multi-national', 'quite', 'nobody', 'hiding', 'steam', 'jerking', 'fortune', 'andalay', 'plastered', 'aims', 'rats', 'pickles', 'tyson/secretariat', 'tones', 'medieval', 'sadistic_barfly:', 'eager', 'jer', 'blinded', 'choice:', 'strictly', 'amiable', 'bumbling', 'hoo', \"one's\", 'ooo', 'looser', 'owns', 'through', 'hearse', 'dumptruck', 'kirk_voice_milhouse:', 'candidate', 'winston', \"man's_voice:\", 'filthy', 'bike', 'sheets', 'brandy', 'shtick', 'attempting', 'democrats', 'schizophrenia', 'vance', 'bets', 'telephone', 'sissy', 'replace', 'champignons', 'sangre', 'eating', 'beam', 'wife', 'blamed', 'burning', 'no', 'sagely', 'tummies', 'sabermetrics', 'nap', 'begging', 'specializes', 'appendectomy', 'blank', 'funeral', 'each', 'bowie', 'checks', 'dregs', 'avenue', 'correction', 'uniforms', 'quarterback', \"coaster's\", 'loneliness', 'reentering', 'scram', 'wienerschnitzel', 'sang', 'scanning', 'tar-paper', 'lone', 'faith', 'fad', 'radical', 'staying', 'years', 'nope', 'judges', 'groin', 'polish', 'overhearing', 'elizabeth', 'janette', 'stairs', 'quarry', 'emergency', 'needy', 'depressing', 'other', 'aghast', 'consoling', \"table's\", 'bliss', 'skoal', 'nordiques', 'pope', 'loudly', 'lazy', 'public', 'bourbon', 'resenting', 'hygienically', 'enhance', 'boned', 'kegs', 'impress', 'read:', 'speak', 'moved', 'various', 'traitors', 'singer', 'cool', 'who-o-oa', 'design', 'dentist', 'aww', \"nothin's\", 'breakdown', 'bastard', 'pharmaceutical', 'destroyed', 'easily', 'alva', 'foil', 'guilt', 'passports', 'fat', 'whip', 'tanking', 'clown-like', 'heaven', 'western', 'traditions', 'doom', 'aw', 'domed', 'proudly', 'edner', 'while', 'poisoning', 'classy', 'mom', 'we-we-we', 'jack', 'dressing', 'stands', 'stats', 'room', 'looking', 'natural', 'thanking', 'gutenberg', 'tidy', 'distinct', 'releases', 'dumbbell', 'sniper', 'squirrels', 'all', 'kidding', 'choke', 'billingsley', 'beligerent', 'cards', 'hotline', 'message', 'nor', \"monroe's\", 'heck', 'glummy', 'kinds', 'title:', 'quimby', 'syndicate', 'decent', 'mixed', \"who's\", 'seconds', 'anthony_kiedis:', 'drawing', 'allegiance', 'kim_basinger:', 'offer', 'astrid', 'consciousness', 'bull', 'achebe', 'jewelry', 'oblongata', 'cheaped', 'pursue', 'encouraging', 'tv', 'iran', 'tuna', 'them', 'clinton', 'vengeance', 'label', 'billy_the_kid:', 'pre-game', 'colorado', 'buddies', 'pointing', 'peanuts', 'along', 'ate', 'wars', 'smoker', 'invisible', 'dyspeptic', 'fury', 'moment', 'furry', 'combination', 'partly', 'wiener', 'putting', 'delivery_boy:', \"what'd\", 'law-abiding', 'regretful', 'schedule', 'stuck', 'joy', 'amazed', 'above', 'ned', 'bye', 'drives', \"doctor's\", 'reflected', 'leak', 'whenever', 'eddie', 'stocking', 'bulletin', 'kako:', 'hole', 'happen', \"i'm-so-stupid\", 'burger', 'flash', 'fridge', 'competing', 'attractive_woman_#1:', \"plaster's\", 'laney_fontaine:', 'shelf', 'someplace', 'gabriel:', 'badmouth', 'horribilis', 'manboobs', 'insured', 'burg', 'initially', 'frustrated', 'nursemaid', 'carefully', 'dough', 'barstools', 'scully', 'starla', 'saga', 'effervescence', 'calls', 'principles', \"renee's\", 'hounds', 'hired', 'all-american', 'yep', 'edna', 'civilization', 'picnic', 'expose', 'bones', 'father', 'test', 'pile', 'presentable', 'awww', 'patterns', 'endorsed', 'station', \"game's\", \"rentin'\", 'pats', 'congratulations', 'windowshade', 'principal', 'reminded', 'whether', 'met', 'citizens', 'humiliation', \"toot's\", 'date', 'cheated', 'shaking', 'its', 'twelve', 'vincent', 'tons', 'worth', 'allowance', 'amends', 'denser', 'reasons', 'four-star', 'hat', 'elite', 'god', 'manage', 'detail', 'type', 'sitar', 'democracy', 'fans', 'painless', 'shack', 'napkins', 'ineffective', 'hobo', 'borrow', 'homeless', 'jacksons', 'beer-dorf', 'hell', 'naturally', \"mother's\", 'writers', 'wrap', 'flush', 'boxer', 'tied', 'bathtub', 'dollar', 'perch', 'relaxed', 'peaked', 'dazed', 'infestation', \"shan't\", 'was', 'yeah', 'investor', 'uh-huh', 'during', 'duff', 'notice', 'equivalent', 'helpful', 'superior', 'hmmmm', 'result', 'thought_bubble_homer:', 'libido', 'whoopi', 'ails', \"workin'\", 'entirely', 'shhh', 'genuinely', 'gift:', 'forgotten', 'gambler', 'haikus', 'treehouse', 'glove', 'patty_bouvier:', 'crap', \"sippin'\", 'olive', 'disgraceful', 'risqué', 'pernt', 'idiots', 'carl:', 'aidens', 'stinks', \"'your\", 'daddy', 'walked', 'exquisite', 'deli', 'plans', 'flying', 'voted', \"edna's\", 'professor', 'scum', 'karaoke', 'philosophic', 'completely', 'stalwart', 'forgiven', 'sketching', 'sam:', 'harv', \"depressin'\", 'bar', 'thanks', 'toilet', 'raise', 'notorious', 'skeptical', 'bindle', 'isotopes', 'masks', 'quietly', 'distaste', 'sucking', 'fence', 'fold', 'busted', 'trip', 'breakfast', 'garbage', 'options', 'zeal', 'strategizing', 'bedtime', 'hoped', 'skirt', 'frog', 'dear', 'reality', 'blessing', \"lisa's\", 'course', 'inflated', 'tick', 'ron_howard:', \"city's\", 'boneheaded', 'none', 'wisconsin', \"soundin'\", 'nice', 'immiggants', 'have', 'watt', 'experiments', 'movie', 'fight', 'confidentially', 'problemo', 'feel', 'alien', \"they'll\", 'swig', 'longer', 'jets', 'derek', 'kazoo', 'creature', 'learned', 'barbed', 'slit', 'laughing', 'people', 'tapestry', 'twentieth', 'extra', 'truth', 'ring', 'eighteen', 'huge', 'without', 'ratted', \"time's\", 'soot', 'inspired', 'flustered', 'sponge', 'sympathetic', 'option', \"heat's\", 'flowers', 'len-ny', 'rotten', 'sure', 'brothers', 'smurfs', 'penny', 'gel', 'mini-dumpsters', 'repressed', 'hangover', 'badges', 'halfway', 'happily:', 'steaming', 'and:', 'slightly', 'index', 'raises', 'breathtaking', \"marge's\", 'soir', 'fun', 'held', 'museum', 'shoot', 'activity', 'meaning', 'oh-ho', 'boring', '||dash||', 'vampire', 'grudgingly', 'explain', '$42', 'considering', 'louie:', 'blues', 'shock', 'edna-lover-one-seventy-two', 'universe', 'tony', 'iddilies', 'twenty', 'killing', 'lloyd:', 'rainforest', 'onassis', 'coughs', 'spine', 'app', 'truck_driver:', 'bees', 'choice', 'smoke', 'nooo', 'l', 'f', 'seems', 'drug', 'conference', 'exactly', 'pleasant', \"dolph's_dad:\", 'strips', 'me', 'at', 'gasp', 'steampunk', 'moe', 'vigilante', '6', 'pennies', \"meanin'\", 'results', 'bottles', 'partners', 'neighboreeno', 'five', 'sitcom', 'sumatran', 'overstressed', 'dollface', 'sales', 'talking', 'sixty', 'clientele', 'enlightened', 'non-losers', 'reynolds', 'species', 'caveman', 'smooth', 'brainiac', 'stuff', 'danish', 'passion', 'americans', 'bring', 'collette:', 'shreda', 'luck', '||exclamation_mark||', 'table', 'quotes', 'sounds', 'consulting', 'hate', 'weirder', 'lachrymose', 'mocking', '250', 'eightball', 'kidney', 'back', 'leans', 'contact', 'pour', 'demand', 'propose', 'bachelor', 'cutting', 'assert', 'value', 'interested', 'cream', 'resolution', 'tiny', 'disappointing', \"neat's-foot\", 'well', \"tryin'\", 'office', 'imported-sounding', 'shame', 'politicians', 'refund', 'penmanship', 'fondest', 'woman', 'tactful', 'laughs', 'wistful', 'militia', 'stomach', 'grow', 'yuh-huh', \"singin'\", 'ashtray', \"murphy's\", 'add', 'keys', 'actress', 'put', 'hits', 'hmm', 'pressure', 'artie', 'unfresh', 'gol-dangit', 'windelle', \"don't\", 'buffet', 'sneeze', 'drunkening', \"c'mon\", 'survive', 'ralph_wiggum:', 'fat-free', 'lookalikes', 'steel', 'took', 'leg', 'man', 'wittgenstein', 'american', 'flame', 'lied', '1973', 'dreary', 'senators', 'bald', 'closet', 'guzzles', 'speaking', 'my-y-y-y-y-y', 'amount', 'flash-fry', 'village', 'schemes', 'christopher', 'spoon', 'delete', 'ear', 'woe:', 'anything', 'bar:', 'disappeared', 'outlook', 'acquitted', 'airport', 'impeach', 'watered-down', 'insecure', 'ominous', 'germans', 'thorn', \"fryer's\", 'elect', 'sanitary', 'totally', 'after', 'flaming', 'self', 'shakes', 'diving', 'sen', 'wenceslas', 'willing', 'vestigial', 'consider', 'fingers', \"round's\", 'number', 'palmerston', 'director', 'nick', 'ye', 'bon', 'reward', 'clams', 'debonair', 'still', 'represents', 'tow-talitarian', 'hibachi', 'perfect', 'troy:', 'arimasen', 'finest', 'prank', 'scary', 'mel', 'celebration', 'king', \"football's\", 'agreement', 'overturned', 'phone', 'driver', 'certain', \"mecca's\", 'catch', 'plotz', 'christmas', \"o'reilly\", 'blow', 'coincidentally', 'tubman', 'princess', 'were', 'sneering', 'annual', 'rules', 'administration', 'fox', 'hanh', '||quotation_mark||', 'follow', 'beans', 'if', 'pledge', 'moron', 'two-thirds-empty', 'could', 'associate', 'harvard', 'kick', 'puts', 'x-men', 'planted', 'town', 'busy', 'all:', 'puzzled', 'outlive', 'sub-monkeys', 'weird', 'brain-switching', 'approval', 'hammer', 'piano', 'awkward', 'picky', 'pancakes', 'imagine', 'break', 'pretzels', 'am', 'quimby_#2:', 'affectations', 'moustache', 'laws', 'spite', 'chicken', 'cute', 'run', 'believe', 'ping-pong', \"spiffin'\", 'lifters', 'modestly', 'heartily', 'pardon', 'childless', 'progress', 'studio', 'fellow', 'multiple', 'clone', 'peace', 'believer', 'handling', 'ihop', \"how'd\", 'read', 'named', 'seminar', 'rich', 'shred', 'movement', 'parking', '||right_parentheses||', 'grunts', 'ass', 'washer', 'doreen:', 'grateful', 'agent_johnson:', 'try', 'fletcherism', 'cloudy', 'ourselves', 'photographer', 'noise', 'ons', 'fleabag', 'dads', 'wears', 'besides', 'appalled', 'enterprising', 'betrayed', 'tail', 'star', 'notices', 'awkwardly', 'alcoholic', 'error', 'sight-unseen', '14', 'turlet', 'plane', 'sniffing', 'gunter:', 'become', 'spend', 'crippling', 'personal', 'arm-pittish', 'left', 'wife-swapping', \"people's\", 'honor', 'bar_rag:', 'credit', 'ashamed', 'age', 'gave', 'fill', 'rent', 'cowardly', 'ought', 'scream', 'fan', 'friendship', 'pained', 'guttural', 'icy', 'entering', 'up', 'managed', 'embarrassing', 'separator', 'right-handed', 'goodbye', 'died', 'publishers', 'industry', 'perfume', 'knocked', 'montrer', 'odd', 'youth', 'betty:', 'help', 'ready', 'silent', 'holidays', 'dynamite', 'glasses', 'brakes', 'knock-up', 'mis-statement', 'rafters', \"'cept\", 'dead', 'common', 'growing', 'two-drink', 'subscriptions', 'patrons', 'orders', 'written', \"where'd\", 'iranian', 'soft', 'justify', 'restless', 'water', 'send', 'hispanic_crowd:', '70', 're-al', 'hammock', 'prejudice', 'toward', 'poke', 'numeral', 'squeal', 'drop', 'scare', 'capitol', 'simultaneous', 'mines', 'starts', 'information', 'kearney_zzyzwicz:', 'jay_leno:', '100', 'standards', '530', 'tip', 'completing', 'france', \"sat's\", 'atlanta', 'spending', 'anyone', '21', 'venture', \"wino's\", 'caused', \"other's\", 'terrible', 'lemme', 'hearing', 'shoulda', 'covers', 'starla:', 'mean', 'college', 'hootie', 'luckily', 'minister', \"bashir's\", 'bars', 'pulitzer', 'compliment', 'boxing_announcer:', 'mcstagger', 'name', 'produce', 'audience:', 'seek', 'joey', 'fudd', 'count', 'blew', 'loathe', 'inquiries', 'metal', 'presto:', 'local', 'crowds', 'muscles', 'alfred', \"how're\", 'sighs', 'touch', \"ladies'\", 'bills', 'awe', 'aquafresh', 'introduce', 'shesh', 'carlson', 'relaxing', 'sky', 'reached', 'pickled', 'moe-ron', 'drinker', 'three', 'crowded', 'beady', 'uncle', 'mudflap', 'stays', 'laugh', 'curse', 'cheaper', 'voice:', 'supplying', 'mccarthy', 'five-fifteen', \"phone's\", 'peter', 'motorcycle', 'winner', 'paying', 'gore', \"sittin'\", 'k-zug', 'forget', 'cops', 'call', 'infatuation', 'reading', 'flashing', 'alma', 'homunculus', 'settled', 'crazy', 'understand', 'duffman', 'musical', 'triangle', 'poorer', 'touches', 'playful', 'floated', 'make', 'saturday', 'list', 'padre', \"enjoyin'\", 'illegally', 'gasoline', 'housework', 'spot', 'everywhere', 'fund', 'thawing', 'fragile', 'gesture', 'depository', 'sensible', 'dutch', 'loyal', 'papa', 'our', 'movies', 'decadent', 'canoodling', 'convinced', 'terrace', 'center', 'jail', 'stinky', 'sesame', \"plank's\", 'tonic', 'market', 'h', 's', 'winded', 'start', 'dumb-asses', 'pleading', \"friend's\", 'sudoku', 'ninety-six', 'pep', 'deal', 't-shirt', 'civic', 'certificate', 'feisty', 'glad', 'blissful', 'jimmy', \"england's\", 'paparazzo', 'miracle', 'season', 'close', 'naval', 'creepy', 'angrily', 'sheriff', 'courthouse', 'arrange', 'suddenly', 'wantcha', 'jernt', 'bidet', 'drunkenly', 'guiltily', 'buzz', 'eww', 'sometime', \"i'unno\", 'difference', 'jockey', 'squadron', 'shares', 'nineteen', 'fainted', '&', 'raining', 'leftover', 'behind', 'dress', 'y-you', 'goodwill', 'assent', 'brewed', 'sees/', 'forty-two', 'slobbo', \"wallet's\", \"breakin'\", 'nudge', 'salt', 'barflies:', 'never', 'smells', 'hands', 'hide', 'parenting', 'scientific', 'super-genius', 'chips', 'respect', 'calvin', 'less', 'awareness', 'bank', 'richard:', 'ceremony', 'three-man', 'itchy', 'pen', 'cock', 'monkey', 'muttering', 'so-called', 'y', 'sugar', 'pathetic', 'said', 'hardwood', 'trade', \"yieldin'\", 'difficult', 'korea', 'literary', \"hadn't\", 'craft', 'county', 'defiantly', 'lis', 'gone', 'because', 'valuable', 'ummmmmmmmm', \"goin'\", 'crow', 'teriyaki', 'polite', 'conclude', 'michael', 'level', 'exact', 'upsetting', 'severe', 'living', 'rainier_wolfcastle:', 'serum', 'restaurants', 'whale', 'lime', 'greetings', 'henry', 'courteous', \"burnin'\", 'paint', 'tale', 'deacon', 'leprechaun', 'rockers', 'nerd', 'savings', 'lurleen', 'worse', 'midnight', 'dive', 'cigars', 'use', 'anarchy', 'alarm', 'enemies', 'shush', 'kirk', 'pajamas', 'grease', 'partially', 'incredible', 'dirt', 'employment', 'bake', 'eggshell', 'weapon', 'alphabet', 'nameless', 'unfortunately', 'choices:', 'beards', 'protecting', 'lear', 'struggling', 'despite', 'joined', \"haven't\", 'stealings', 'exception:', 'handler', 'liser', \"d'\", 'pride', 'advertise', 'shuts', 'einstein', 'pine', 'stood', 'stalking', 'ram', 'yours', 'chin', 'effigy', 'ancestors', 'danny', 'tee', 'duty', \"messin'\", 'working', 'cousin', 'now', 'fly', 'blinds', 'misconstrue', 'suffering', \"wasn't\", 'decide', 'ball', 'gator:', 'facebook', 'conspiracy', 'other_player:', 'wide', 'twenty-six', 'west', 'agh', 'convenient', 'shaken', 'under', 'hugh', 'general', 'pair', 'outside', 'catch-phrase', 'uneasy', \"o'problem\", 'bloodiest', 'hateful', 'teenage_homer:', \"calf's\", 'actors', 'modest', 'wh', 'hmmm', 'el', 'slender', 'selfish', 'ticket', 'occurrence', 'problems', 'festival', 'typing', 'alright', 'happy', \"tv's\", 'grin', 'rid', \"rasputin's\", 'gin-slingers', 'hairs', 'baloney', 'closer', 'mt', 'product', 'saget', 'stinger', 'clap', 'six-barrel', 'proper', 'charge', 'kissingher', 'sniffs', 'broke', 'yelp', 'health_inspector:', 'sec', 'para', 'touchdown', 'innocence', 'cattle', 'cheer', 'abandon', 'rain', 'bail', 'joke', 'mouth', 'reserved', 'social', 'mint', 'keep', 'ungrateful', 'reciting', 'intense', \"stallin'\", 'cases', 'nantucket', 'than', 'hyahh', 'e-z', 'chauffeur:', 'self-satisfied', 'christian', 'ten', 'renee:', 'disturbing', 'perfected', 'louse', 'beneath', 'parrot', 'visas', 'solves', 'sets', 'cigarette', 'lighten', 'betcha', 'johnny', 'remembering', 'humanity', 'squad', 'jackpot-thief', 'cozies', 'thirty', 'nagurski', 'dull', 'ooh', 'frankenstein', 'hexa-', 'larry', 'perverse', 'sports', 'kucinich', 'befriend', 'lucky', 'restroom', 'sob', 'toledo', \"takin'\", 'lifestyle', 'fritz', 'apartment', 'düff', 'supermarket', 'envy-tations', 'field', 'grabs', \"jackpot's\", 'burglary', 'comedy', 'pass', 'buried', 'dumbass', 'pfft', 'ohmygod', 'chug-monkeys', 'stupidly', 'gentlemen', 'disguise', 'away', 'crotch', 'earth', 'deeply', 'rolls', 'babar', 'machine', 'rookie', 'midge:', 'habitrail', 'precious', 'carolina', 'however', 'beached', 'swe-ee-ee-ee-eet', 'panties', 'chair', 'super-nice', \"countin'\", \"sayin'\", 'shriners', 'al', 'ahead', 'keeping', 'hotenhoffer', 'anti-intellectualism', 'unhook', 'what', 'accounta', 'cockroach', 'minus', 'priceless', 'jaegermeister', 'high-definition', 'gosh', 'buddy', 'son', 'to', 'trusted', 'lately', 'orphan', 'feed', \"'kay-zugg'\", \"let's\", 'failure', 'plastic', 'any', 'aggravated', 'pawed', 'toss', 'steamed', 'thanksgiving', 'going', 'round', 'tenor:', 'and/or', 'few', 'carpet', 'poker', 'rough', 'outs', 'dangerous', 'wednesday', 'dictator', 'rapidly', 'bono:', 'edgy', 'imaginary', 'clandestine', 'shelbyville', 'wondering', 'knees', '-ry', 'sampler', 'producers', 'wizard', 'trustworthy', 'au', \"where's\", 'carl_carlson:', 'population', 'edna_krabappel-flanders:', \"ma'am\", \"scammin'\", 'tropical', 'bites', 'picked', 'knocks', 'race', 'tastes', 'rolling', 'series', 'potato', 'sooo', 'ignorance', 'straighten', 'encores', 'poor', 'alpha-crow', 'older', 'gabriel', 'rule', 'medicine', 'rotch', 'suspenders', 'powered', 'cyrano', 'apulina', 'asks', 'kicks', 'tracks', 'foibles', \"askin'\", 'bar-boy', 'jane', 'newest', 'tiger', 'selma', 'stagey', 'jägermeister', 'muertos', \"school's\", 'polls', 'careful', 'potatoes', 'hot', 'fluoroscope', \"tatum'll\", 'young_marge:', 'crappy', \"beggin'\", 'cure', 'conditioning', 'means', 'pop', 'being', 'muffled', 'lookalike', 'clammy', 'cronies', 'keeps', 'young_barfly:', 'chipper', 'normal', 'sell', 'moesy', 'lorre', 'unlocked', 'therapy', 'statesmanlike', 'twerpy', 'recently', 'superdad', 'kicked', 'conversation', 'coach:', 'average-looking', 'anniversary', 'conversations', 'massage', 'melodramatic', \"tab's\", 'life-threatening', 'roller', \"town's\", 'yak', 'batmobile', 'banquo', 'reed', 'frink-y', 'voice', 'wuss', 'odor', 'chapstick', 'ask', \"moe's_thoughts:\", 'everybody', 'discriminate', 'ambrose', 'warn', 'leonard', 'guessing', 'gil_gunderson:', 'chance', 'pugilist', 'pasta', 'castle', 'lucius:', 'donut', 'vengeful', 'thirty-three', 'tight', 'capitalists', 'recent', 'monster', 'flanders:', 'manager', 'belt', 'crab', 'uncomfortable', 'de-scramble', 'rainbows', 'flailing', 'devils:', 'fix', 'underwear', 'seeing', 'hafta', 'doy', \"floatin'\", 'doreen', 'mid-conversation', 'most', 'malabar', 'heaving', 'key', 'philip', 'thirty-thousand', 'nectar', 'woooooo', \"tomorrow's\", 'of', 'candy', 'sealed', 'opportunity', 'bitterly', 'grey', 'applicant', \"you'd\", 'two', 'tanked-up', 'incognito', 'hellhole', \"costume's\", \"aristotle's\", 'outstanding', 'twenty-four', 'surgery', 'uh', 'surgeonnn', 'willy', 'maintenance', 'furious', 'nelson_muntz:', 'glowers', \"jimbo's_dad:\", 'chief_wiggum:', 'stadium', 'attractive_woman_#2:', 'wagering', 'changing', 'admiration', 'continued', 'etc', 'kansas', 'caholic', 'half', 'hook', 'dean', 'louisiana', 'binoculars', 'point', 'rolled', 'voodoo', 'adjust', 'pants', 'underbridge', 'compare', 'lady-free', 'protesting', 'huh', 'butterball', 'refreshment', 'listens', \"lenny's\", 'foodie', 'sister', 'monorails', 'derisive', 'same', 'one', 'defensive', 'homers', 'relax', 'weight', \"must've\", 'like', 'straight', 'patty', 'texas', 'newsletter', 'judge_snyder:', 'captain:', 'fears', 'step', 'thing', 'teams', 'cakes', 'tickets', 'rub-a-dub', 'luxury', 'damn', 'sinkhole', 'alibi', 'unbelievable', \"'bout\", \"homer's\", \"mo'\", 'german', 'doof', 'husband', 'slaves', 'student', 'kick-ass', 'soaps', 'bet', 'prayers', 'op', \"couldn't\", 'clothespins', 'checking', 'peter_buck:', 'beings', 'drawn', 'robot', 'brotherhood', \"buyin'\", 'smugglers', 'insensitive', 'pinchpenny', 'wa', 'bloodball', '_eugene_blatz:', 'cleaning', 'game', 'jolly', 'quickly', 'ref', 'patrons:', 'hops', 'kodos:', 'rag', 'recruiter', 'fine', 'had', 'old-time', 'thoughtfully', 'soothing', 'wins', 'serious', 'federal', 'contemplates', 'onto', 'advantage', 'sequel', 'queer', \"boy's\", 'aiden', 'dirge-like', \"feelin's\", 'unintelligent', 'pockets', 'cursed', 'sign', 'lizard', 'night', 'beach', 'material', 'bluff', 'hangout', \"daughter's\", 'pip', 'fail', 'awfully', 'triumphantly', 'play', 'searching', 'mall', 'artist', 'item', 'fustigation', 'sodas', 'barn', 'drummer', 'tv-station_announcer:', 'eats', 'clubs', 'choose', 'white_rabbit:', 'burps', 'grumpy', 'saying', 'according', 'slurred', 'ignoring', 'soul-crushing', 'reaction', 'class', 'word', 'flew', 'salvador', 'satisfaction', 'cough', 'customers', 'need', \"something's\", 'rather', 'greatest', 'city', 'mole', 'clapping', 'victorious', 'rueful', 'knowledge', 'snake-handler', 'best', 'cliff', 'refreshingness', \"this'll\", 'saving', 'title', 'dallas', 'remorseful', 'screams', 'securities', 'backwards', \"department's\", 'charm', 'ralphie', 'annoyed', 'spectacular', 'true', 'annus', 'pitch', 'totalitarians', \"bringin'\", 'links', \"someone's\", 'feminine', 'gags', 'shoo', 'asked', 'filth', 'together', 'commanding', 'disaster', 'alternative', 'horrified', 'slice', 'we', 'splendid', 'cadillac', 'droning', \"springfield's\", 'roz', 'worked', 'tie', 'shrieks', 'world', 'a-lug', 'innocent', 'appearance-altering', 'fuhgetaboutit', 'depression', 'porn', 'darjeeling'}\n"
     ]
    }
   ],
   "source": [
    "\"\"\"\n",
    "DON'T MODIFY ANYTHING IN THIS CELL\n",
    "\"\"\"\n",
    "# Preprocess Training, Validation, and Testing Data\n",
    "helper.preprocess_and_save_data(data_dir, token_lookup, create_lookup_tables)"
   ]
  },
  {
   "cell_type": "markdown",
   "metadata": {
    "deletable": true,
    "editable": true
   },
   "source": [
    "# Check Point\n",
    "This is your first checkpoint. If you ever decide to come back to this notebook or have to restart the notebook, you can start from here. The preprocessed data has been saved to disk."
   ]
  },
  {
   "cell_type": "code",
   "execution_count": 6,
   "metadata": {
    "collapsed": false,
    "deletable": true,
    "editable": true
   },
   "outputs": [],
   "source": [
    "\"\"\"\n",
    "DON'T MODIFY ANYTHING IN THIS CELL\n",
    "\"\"\"\n",
    "import helper\n",
    "import numpy as np\n",
    "import problem_unittests as tests\n",
    "\n",
    "int_text, vocab_to_int, int_to_vocab, token_dict = helper.load_preprocess()"
   ]
  },
  {
   "cell_type": "markdown",
   "metadata": {
    "deletable": true,
    "editable": true
   },
   "source": [
    "## Build the Neural Network\n",
    "You'll build the components necessary to build a RNN by implementing the following functions below:\n",
    "- get_inputs\n",
    "- get_init_cell\n",
    "- get_embed\n",
    "- build_rnn\n",
    "- build_nn\n",
    "- get_batches\n",
    "\n",
    "### Check the Version of TensorFlow and Access to GPU"
   ]
  },
  {
   "cell_type": "code",
   "execution_count": 7,
   "metadata": {
    "collapsed": false,
    "deletable": true,
    "editable": true
   },
   "outputs": [
    {
     "name": "stdout",
     "output_type": "stream",
     "text": [
      "TensorFlow Version: 1.0.1\n",
      "Default GPU Device: /gpu:0\n"
     ]
    }
   ],
   "source": [
    "\"\"\"\n",
    "DON'T MODIFY ANYTHING IN THIS CELL\n",
    "\"\"\"\n",
    "from distutils.version import LooseVersion\n",
    "import warnings\n",
    "import tensorflow as tf\n",
    "\n",
    "# Check TensorFlow Version\n",
    "assert LooseVersion(tf.__version__) >= LooseVersion('1.0'), 'Please use TensorFlow version 1.0 or newer'\n",
    "print('TensorFlow Version: {}'.format(tf.__version__))\n",
    "\n",
    "# Check for a GPU\n",
    "if not tf.test.gpu_device_name():\n",
    "    warnings.warn('No GPU found. Please use a GPU to train your neural network.')\n",
    "else:\n",
    "    print('Default GPU Device: {}'.format(tf.test.gpu_device_name()))"
   ]
  },
  {
   "cell_type": "markdown",
   "metadata": {
    "deletable": true,
    "editable": true
   },
   "source": [
    "### Input\n",
    "Implement the `get_inputs()` function to create TF Placeholders for the Neural Network.  It should create the following placeholders:\n",
    "- Input text placeholder named \"input\" using the [TF Placeholder](https://www.tensorflow.org/api_docs/python/tf/placeholder) `name` parameter.\n",
    "- Targets placeholder\n",
    "- Learning Rate placeholder\n",
    "\n",
    "Return the placeholders in the following tuple `(Input, Targets, LearningRate)`"
   ]
  },
  {
   "cell_type": "code",
   "execution_count": 8,
   "metadata": {
    "collapsed": false,
    "deletable": true,
    "editable": true
   },
   "outputs": [
    {
     "name": "stdout",
     "output_type": "stream",
     "text": [
      "Tests Passed\n"
     ]
    }
   ],
   "source": [
    "def get_inputs():\n",
    "    \"\"\"\n",
    "    Create TF Placeholders for input, targets, and learning rate.\n",
    "    :return: Tuple (input, targets, learning rate)\n",
    "    \"\"\"\n",
    "    # TODO: Implement Function\n",
    "    inputs = tf.placeholder(tf.int32, [None, None], name=\"input\")\n",
    "    targets = tf.placeholder(tf.int32, [None, None], name=\"Targets\")\n",
    "    lr = tf.placeholder(tf.float32, name=\"LearningRate\")\n",
    "    \n",
    "    return inputs, targets, lr\n",
    "\n",
    "\n",
    "\"\"\"\n",
    "DON'T MODIFY ANYTHING IN THIS CELL THAT IS BELOW THIS LINE\n",
    "\"\"\"\n",
    "tests.test_get_inputs(get_inputs)"
   ]
  },
  {
   "cell_type": "markdown",
   "metadata": {
    "deletable": true,
    "editable": true
   },
   "source": [
    "### Build RNN Cell and Initialize\n",
    "Stack one or more [`BasicLSTMCells`](https://www.tensorflow.org/api_docs/python/tf/contrib/rnn/BasicLSTMCell) in a [`MultiRNNCell`](https://www.tensorflow.org/api_docs/python/tf/contrib/rnn/MultiRNNCell).\n",
    "- The Rnn size should be set using `rnn_size`\n",
    "- Initalize Cell State using the MultiRNNCell's [`zero_state()`](https://www.tensorflow.org/api_docs/python/tf/contrib/rnn/MultiRNNCell#zero_state) function\n",
    "    - Apply the name \"initial_state\" to the initial state using [`tf.identity()`](https://www.tensorflow.org/api_docs/python/tf/identity)\n",
    "\n",
    "Return the cell and initial state in the following tuple `(Cell, InitialState)`"
   ]
  },
  {
   "cell_type": "code",
   "execution_count": 9,
   "metadata": {
    "collapsed": false,
    "deletable": true,
    "editable": true
   },
   "outputs": [
    {
     "name": "stdout",
     "output_type": "stream",
     "text": [
      "Tests Passed\n"
     ]
    }
   ],
   "source": [
    "def get_init_cell(batch_size, rnn_size):\n",
    "    \"\"\"\n",
    "    Create an RNN Cell and initialize it.\n",
    "    :param batch_size: Size of batches\n",
    "    :param rnn_size: Size of RNNs\n",
    "    :return: Tuple (cell, initialize state)\n",
    "    \"\"\"\n",
    "    # TODO: Implement Function\n",
    "    rnn_cell = tf.contrib.rnn.BasicLSTMCell(rnn_size)\n",
    "    multi_rnn_cell = tf.contrib.rnn.MultiRNNCell([rnn_cell] * 3)\n",
    "    initial_state = tf.identity(multi_rnn_cell.zero_state(batch_size, tf.float32), name=\"initial_state\")\n",
    "    \n",
    "    return multi_rnn_cell, initial_state\n",
    "\n",
    "\n",
    "\"\"\"\n",
    "DON'T MODIFY ANYTHING IN THIS CELL THAT IS BELOW THIS LINE\n",
    "\"\"\"\n",
    "tests.test_get_init_cell(get_init_cell)"
   ]
  },
  {
   "cell_type": "markdown",
   "metadata": {
    "deletable": true,
    "editable": true
   },
   "source": [
    "### Word Embedding\n",
    "Apply embedding to `input_data` using TensorFlow.  Return the embedded sequence."
   ]
  },
  {
   "cell_type": "code",
   "execution_count": 10,
   "metadata": {
    "collapsed": false,
    "deletable": true,
    "editable": true
   },
   "outputs": [
    {
     "name": "stdout",
     "output_type": "stream",
     "text": [
      "Tests Passed\n"
     ]
    }
   ],
   "source": [
    "def get_embed(input_data, vocab_size, embed_dim):\n",
    "    \"\"\"\n",
    "    Create embedding for <input_data>.\n",
    "    :param input_data: TF placeholder for text input.\n",
    "    :param vocab_size: Number of words in vocabulary.\n",
    "    :param embed_dim: Number of embedding dimensions\n",
    "    :return: Embedded input.\n",
    "    \"\"\"\n",
    "    # TODO: Implement Function\n",
    "    return tf.contrib.layers.embed_sequence(input_data, vocab_size, embed_dim)\n",
    "\n",
    "\n",
    "\"\"\"\n",
    "DON'T MODIFY ANYTHING IN THIS CELL THAT IS BELOW THIS LINE\n",
    "\"\"\"\n",
    "tests.test_get_embed(get_embed)"
   ]
  },
  {
   "cell_type": "markdown",
   "metadata": {
    "deletable": true,
    "editable": true
   },
   "source": [
    "### Build RNN\n",
    "You created a RNN Cell in the `get_init_cell()` function.  Time to use the cell to create a RNN.\n",
    "- Build the RNN using the [`tf.nn.dynamic_rnn()`](https://www.tensorflow.org/api_docs/python/tf/nn/dynamic_rnn)\n",
    " - Apply the name \"final_state\" to the final state using [`tf.identity()`](https://www.tensorflow.org/api_docs/python/tf/identity)\n",
    "\n",
    "Return the outputs and final_state state in the following tuple `(Outputs, FinalState)` "
   ]
  },
  {
   "cell_type": "code",
   "execution_count": 11,
   "metadata": {
    "collapsed": false,
    "deletable": true,
    "editable": true
   },
   "outputs": [
    {
     "name": "stdout",
     "output_type": "stream",
     "text": [
      "Tests Passed\n"
     ]
    }
   ],
   "source": [
    "def build_rnn(cell, inputs):\n",
    "    \"\"\"\n",
    "    Create a RNN using a RNN Cell\n",
    "    :param cell: RNN Cell\n",
    "    :param inputs: Input text data\n",
    "    :return: Tuple (Outputs, Final State)\n",
    "    \"\"\"\n",
    "    # TODO: Implement Function\n",
    "    outputs, final_state = tf.nn.dynamic_rnn(cell=cell, inputs=inputs, dtype=tf.float32)\n",
    "    return outputs, tf.identity(final_state, \"final_state\")\n",
    "\n",
    "\n",
    "\"\"\"\n",
    "DON'T MODIFY ANYTHING IN THIS CELL THAT IS BELOW THIS LINE\n",
    "\"\"\"\n",
    "tests.test_build_rnn(build_rnn)"
   ]
  },
  {
   "cell_type": "markdown",
   "metadata": {
    "deletable": true,
    "editable": true
   },
   "source": [
    "### Build the Neural Network\n",
    "Apply the functions you implemented above to:\n",
    "- Apply embedding to `input_data` using your `get_embed(input_data, vocab_size, embed_dim)` function.\n",
    "- Build RNN using `cell` and your `build_rnn(cell, inputs)` function.\n",
    "- Apply a fully connected layer with a linear activation and `vocab_size` as the number of outputs.\n",
    "\n",
    "Return the logits and final state in the following tuple (Logits, FinalState) "
   ]
  },
  {
   "cell_type": "code",
   "execution_count": 12,
   "metadata": {
    "collapsed": false,
    "deletable": true,
    "editable": true
   },
   "outputs": [
    {
     "name": "stdout",
     "output_type": "stream",
     "text": [
      "Tests Passed\n"
     ]
    }
   ],
   "source": [
    "def build_nn(cell, rnn_size, input_data, vocab_size, embed_dim):\n",
    "    \"\"\"\n",
    "    Build part of the neural network\n",
    "    :param cell: RNN cell\n",
    "    :param rnn_size: Size of rnns\n",
    "    :param input_data: Input data\n",
    "    :param vocab_size: Vocabulary size\n",
    "    :param embed_dim: Number of embedding dimensions\n",
    "    :return: Tuple (Logits, FinalState)\n",
    "    \"\"\"\n",
    "    # TODO: Implement Function\n",
    "    \n",
    "    embed = get_embed(input_data=input_data, vocab_size=vocab_size, embed_dim=rnn_size)\n",
    "    outputs, final_state = build_rnn(cell, embed)\n",
    "    logits = tf.contrib.layers.fully_connected(outputs, vocab_size, activation_fn=None)\n",
    "    \n",
    "    return logits, final_state\n",
    "\n",
    "\n",
    "\"\"\"\n",
    "DON'T MODIFY ANYTHING IN THIS CELL THAT IS BELOW THIS LINE\n",
    "\"\"\"\n",
    "tests.test_build_nn(build_nn)"
   ]
  },
  {
   "cell_type": "markdown",
   "metadata": {
    "deletable": true,
    "editable": true
   },
   "source": [
    "### Batches\n",
    "Implement `get_batches` to create batches of input and targets using `int_text`.  The batches should be a Numpy array with the shape `(number of batches, 2, batch size, sequence length)`. Each batch contains two elements:\n",
    "- The first element is a single batch of **input** with the shape `[batch size, sequence length]`\n",
    "- The second element is a single batch of **targets** with the shape `[batch size, sequence length]`\n",
    "\n",
    "If you can't fill the last batch with enough data, drop the last batch.\n",
    "\n",
    "For exmple, `get_batches([1, 2, 3, 4, 5, 6, 7, 8, 9, 10, 11, 12, 13, 14, 15], 2, 3)` would return a Numpy array of the following:\n",
    "```\n",
    "[\n",
    "  # First Batch\n",
    "  [\n",
    "    # Batch of Input\n",
    "    [[ 1  2  3], [ 7  8  9]],\n",
    "    # Batch of targets\n",
    "    [[ 2  3  4], [ 8  9 10]]\n",
    "  ],\n",
    " \n",
    "  # Second Batch\n",
    "  [\n",
    "    # Batch of Input\n",
    "    [[ 4  5  6], [10 11 12]],\n",
    "    # Batch of targets\n",
    "    [[ 5  6  7], [11 12 13]]\n",
    "  ]\n",
    "]\n",
    "```"
   ]
  },
  {
   "cell_type": "code",
   "execution_count": 13,
   "metadata": {
    "collapsed": false,
    "deletable": true,
    "editable": true
   },
   "outputs": [
    {
     "name": "stdout",
     "output_type": "stream",
     "text": [
      "Tests Passed\n"
     ]
    }
   ],
   "source": [
    "def get_batches(int_text, batch_size, seq_length):\n",
    "    \"\"\"\n",
    "    Return batches of input and target\n",
    "    :param int_text: Text with the words replaced by their ids\n",
    "    :param batch_size: The size of batch\n",
    "    :param seq_length: The length of sequence\n",
    "    :return: Batches as a Numpy array\n",
    "    \"\"\"\n",
    "    # TODO: Implement Function\n",
    "    batch_list = []\n",
    "    input_len = len(int_text)\n",
    "    \n",
    "    total_iter = int(input_len / (batch_size * seq_length))\n",
    "    \n",
    "    for i in range(total_iter):\n",
    "        input_batch = []\n",
    "        target_batch = []\n",
    "        for j in range(batch_size):\n",
    "            input_seq = []\n",
    "            target_seq = []\n",
    "            for k in range(seq_length):\n",
    "                input_seq.append(int_text[batch_size * seq_length * i + seq_length * j + k])\n",
    "                target_seq.append(int_text[batch_size * seq_length * i + seq_length * j + k + 1])\n",
    "            input_batch.append(input_seq)\n",
    "            target_batch.append(target_seq)\n",
    "        \n",
    "        batch_list.append([input_batch, target_batch])\n",
    "    \n",
    "    return np.array(batch_list)\n",
    "\n",
    "\n",
    "\"\"\"\n",
    "DON'T MODIFY ANYTHING IN THIS CELL THAT IS BELOW THIS LINE\n",
    "\"\"\"\n",
    "tests.test_get_batches(get_batches)"
   ]
  },
  {
   "cell_type": "markdown",
   "metadata": {
    "deletable": true,
    "editable": true
   },
   "source": [
    "## Neural Network Training\n",
    "### Hyperparameters\n",
    "Tune the following parameters:\n",
    "\n",
    "- Set `num_epochs` to the number of epochs.\n",
    "- Set `batch_size` to the batch size.\n",
    "- Set `rnn_size` to the size of the RNNs.\n",
    "- Set `embed_dim` to the size of the embedding.\n",
    "- Set `seq_length` to the length of sequence.\n",
    "- Set `learning_rate` to the learning rate.\n",
    "- Set `show_every_n_batches` to the number of batches the neural network should print progress."
   ]
  },
  {
   "cell_type": "code",
   "execution_count": 14,
   "metadata": {
    "collapsed": true,
    "deletable": true,
    "editable": true
   },
   "outputs": [],
   "source": [
    "# Number of Epochs\n",
    "num_epochs = 1000\n",
    "# Batch Size\n",
    "batch_size = 128\n",
    "# RNN Size\n",
    "rnn_size = 128\n",
    "# Sequence Length\n",
    "seq_length = 32\n",
    "# Learning Rate\n",
    "learning_rate = 0.01\n",
    "# Show stats for every n number of batches\n",
    "show_every_n_batches = 100\n",
    "\n",
    "\"\"\"\n",
    "DON'T MODIFY ANYTHING IN THIS CELL THAT IS BELOW THIS LINE\n",
    "\"\"\"\n",
    "save_dir = './save'"
   ]
  },
  {
   "cell_type": "markdown",
   "metadata": {
    "deletable": true,
    "editable": true
   },
   "source": [
    "### Build the Graph\n",
    "Build the graph using the neural network you implemented."
   ]
  },
  {
   "cell_type": "code",
   "execution_count": 15,
   "metadata": {
    "collapsed": false,
    "deletable": true,
    "editable": true
   },
   "outputs": [],
   "source": [
    "\"\"\"\n",
    "DON'T MODIFY ANYTHING IN THIS CELL\n",
    "\"\"\"\n",
    "from tensorflow.contrib import seq2seq\n",
    "\n",
    "train_graph = tf.Graph()\n",
    "with train_graph.as_default():\n",
    "    vocab_size = len(int_to_vocab)\n",
    "    input_text, targets, lr = get_inputs()\n",
    "    input_data_shape = tf.shape(input_text)\n",
    "    cell, initial_state = get_init_cell(input_data_shape[0], rnn_size)\n",
    "    logits, final_state = build_nn(cell, rnn_size, input_text, vocab_size, embed_dim)\n",
    "\n",
    "    # Probabilities for generating words\n",
    "    probs = tf.nn.softmax(logits, name='probs')\n",
    "\n",
    "    # Loss function\n",
    "    cost = seq2seq.sequence_loss(\n",
    "        logits,\n",
    "        targets,\n",
    "        tf.ones([input_data_shape[0], input_data_shape[1]]))\n",
    "\n",
    "    # Optimizer\n",
    "    optimizer = tf.train.AdamOptimizer(lr)\n",
    "\n",
    "    # Gradient Clipping\n",
    "    gradients = optimizer.compute_gradients(cost)\n",
    "    capped_gradients = [(tf.clip_by_value(grad, -1., 1.), var) for grad, var in gradients if grad is not None]\n",
    "    train_op = optimizer.apply_gradients(capped_gradients)"
   ]
  },
  {
   "cell_type": "markdown",
   "metadata": {
    "deletable": true,
    "editable": true
   },
   "source": [
    "## Train\n",
    "Train the neural network on the preprocessed data.  If you have a hard time getting a good loss, check the [forms](https://discussions.udacity.com/) to see if anyone is having the same problem."
   ]
  },
  {
   "cell_type": "code",
   "execution_count": 16,
   "metadata": {
    "collapsed": false,
    "deletable": true,
    "editable": true
   },
   "outputs": [
    {
     "name": "stdout",
     "output_type": "stream",
     "text": [
      "Epoch   0 Batch    0/16   train_loss = 8.822\n",
      "Epoch   6 Batch    4/16   train_loss = 6.033\n",
      "Epoch  12 Batch    8/16   train_loss = 6.051\n",
      "Epoch  18 Batch   12/16   train_loss = 6.145\n",
      "Epoch  25 Batch    0/16   train_loss = 5.961\n",
      "Epoch  31 Batch    4/16   train_loss = 5.955\n",
      "Epoch  37 Batch    8/16   train_loss = 5.975\n",
      "Epoch  43 Batch   12/16   train_loss = 6.050\n",
      "Epoch  50 Batch    0/16   train_loss = 5.872\n",
      "Epoch  56 Batch    4/16   train_loss = 5.930\n",
      "Epoch  62 Batch    8/16   train_loss = 5.901\n",
      "Epoch  68 Batch   12/16   train_loss = 5.534\n",
      "Epoch  75 Batch    0/16   train_loss = 4.406\n",
      "Epoch  81 Batch    4/16   train_loss = 3.947\n",
      "Epoch  87 Batch    8/16   train_loss = 3.567\n",
      "Epoch  93 Batch   12/16   train_loss = 3.161\n",
      "Epoch 100 Batch    0/16   train_loss = 3.160\n",
      "Epoch 106 Batch    4/16   train_loss = 2.573\n",
      "Epoch 112 Batch    8/16   train_loss = 2.495\n",
      "Epoch 118 Batch   12/16   train_loss = 2.156\n",
      "Epoch 125 Batch    0/16   train_loss = 1.955\n",
      "Epoch 131 Batch    4/16   train_loss = 1.833\n",
      "Epoch 137 Batch    8/16   train_loss = 1.798\n",
      "Epoch 143 Batch   12/16   train_loss = 1.576\n",
      "Epoch 150 Batch    0/16   train_loss = 1.511\n",
      "Epoch 156 Batch    4/16   train_loss = 1.722\n",
      "Epoch 162 Batch    8/16   train_loss = 1.491\n",
      "Epoch 168 Batch   12/16   train_loss = 1.192\n",
      "Epoch 175 Batch    0/16   train_loss = 1.129\n",
      "Epoch 181 Batch    4/16   train_loss = 1.096\n",
      "Epoch 187 Batch    8/16   train_loss = 1.050\n",
      "Epoch 193 Batch   12/16   train_loss = 0.860\n",
      "Epoch 200 Batch    0/16   train_loss = 0.835\n",
      "Epoch 206 Batch    4/16   train_loss = 0.817\n",
      "Epoch 212 Batch    8/16   train_loss = 0.882\n",
      "Epoch 218 Batch   12/16   train_loss = 1.181\n",
      "Epoch 225 Batch    0/16   train_loss = 1.171\n",
      "Epoch 231 Batch    4/16   train_loss = 0.868\n",
      "Epoch 237 Batch    8/16   train_loss = 0.696\n",
      "Epoch 243 Batch   12/16   train_loss = 0.577\n",
      "Epoch 250 Batch    0/16   train_loss = 0.608\n",
      "Epoch 256 Batch    4/16   train_loss = 0.590\n",
      "Epoch 262 Batch    8/16   train_loss = 0.619\n",
      "Epoch 268 Batch   12/16   train_loss = 0.591\n",
      "Epoch 275 Batch    0/16   train_loss = 0.778\n",
      "Epoch 281 Batch    4/16   train_loss = 0.789\n",
      "Epoch 287 Batch    8/16   train_loss = 0.583\n",
      "Epoch 293 Batch   12/16   train_loss = 0.408\n",
      "Epoch 300 Batch    0/16   train_loss = 0.355\n",
      "Epoch 306 Batch    4/16   train_loss = 0.347\n",
      "Epoch 312 Batch    8/16   train_loss = 0.335\n",
      "Epoch 318 Batch   12/16   train_loss = 0.341\n",
      "Epoch 325 Batch    0/16   train_loss = 0.415\n",
      "Epoch 331 Batch    4/16   train_loss = 1.095\n",
      "Epoch 337 Batch    8/16   train_loss = 1.975\n",
      "Epoch 343 Batch   12/16   train_loss = 1.206\n",
      "Epoch 350 Batch    0/16   train_loss = 0.741\n",
      "Epoch 356 Batch    4/16   train_loss = 0.565\n",
      "Epoch 362 Batch    8/16   train_loss = 0.539\n",
      "Epoch 368 Batch   12/16   train_loss = 0.465\n",
      "Epoch 375 Batch    0/16   train_loss = 0.465\n",
      "Epoch 381 Batch    4/16   train_loss = 0.395\n",
      "Epoch 387 Batch    8/16   train_loss = 0.300\n",
      "Epoch 393 Batch   12/16   train_loss = 0.244\n",
      "Epoch 400 Batch    0/16   train_loss = 0.242\n",
      "Epoch 406 Batch    4/16   train_loss = 0.269\n",
      "Epoch 412 Batch    8/16   train_loss = 0.345\n",
      "Epoch 418 Batch   12/16   train_loss = 1.282\n",
      "Epoch 425 Batch    0/16   train_loss = 1.264\n",
      "Epoch 431 Batch    4/16   train_loss = 0.805\n",
      "Epoch 437 Batch    8/16   train_loss = 0.493\n",
      "Epoch 443 Batch   12/16   train_loss = 0.375\n",
      "Epoch 450 Batch    0/16   train_loss = 0.365\n",
      "Epoch 456 Batch    4/16   train_loss = 0.344\n",
      "Epoch 462 Batch    8/16   train_loss = 0.244\n",
      "Epoch 468 Batch   12/16   train_loss = 0.196\n",
      "Epoch 475 Batch    0/16   train_loss = 0.181\n",
      "Epoch 481 Batch    4/16   train_loss = 0.190\n",
      "Epoch 487 Batch    8/16   train_loss = 0.183\n",
      "Epoch 493 Batch   12/16   train_loss = 0.347\n",
      "Epoch 500 Batch    0/16   train_loss = 1.275\n",
      "Epoch 506 Batch    4/16   train_loss = 1.457\n",
      "Epoch 512 Batch    8/16   train_loss = 0.953\n",
      "Epoch 518 Batch   12/16   train_loss = 0.603\n",
      "Epoch 525 Batch    0/16   train_loss = 0.422\n",
      "Epoch 531 Batch    4/16   train_loss = 0.352\n",
      "Epoch 537 Batch    8/16   train_loss = 0.314\n",
      "Epoch 543 Batch   12/16   train_loss = 0.249\n",
      "Epoch 550 Batch    0/16   train_loss = 0.216\n",
      "Epoch 556 Batch    4/16   train_loss = 0.193\n",
      "Epoch 562 Batch    8/16   train_loss = 0.168\n",
      "Epoch 568 Batch   12/16   train_loss = 0.148\n",
      "Epoch 575 Batch    0/16   train_loss = 0.143\n",
      "Epoch 581 Batch    4/16   train_loss = 0.167\n",
      "Epoch 587 Batch    8/16   train_loss = 0.300\n",
      "Epoch 593 Batch   12/16   train_loss = 1.832\n",
      "Epoch 600 Batch    0/16   train_loss = 1.625\n",
      "Epoch 606 Batch    4/16   train_loss = 1.007\n",
      "Epoch 612 Batch    8/16   train_loss = 0.636\n",
      "Epoch 618 Batch   12/16   train_loss = 0.426\n",
      "Epoch 625 Batch    0/16   train_loss = 0.333\n",
      "Epoch 631 Batch    4/16   train_loss = 0.325\n",
      "Epoch 637 Batch    8/16   train_loss = 0.272\n",
      "Epoch 643 Batch   12/16   train_loss = 0.260\n",
      "Epoch 650 Batch    0/16   train_loss = 0.239\n",
      "Epoch 656 Batch    4/16   train_loss = 0.246\n",
      "Epoch 662 Batch    8/16   train_loss = 0.282\n",
      "Epoch 668 Batch   12/16   train_loss = 0.333\n",
      "Epoch 675 Batch    0/16   train_loss = 0.515\n",
      "Epoch 681 Batch    4/16   train_loss = 0.945\n",
      "Epoch 687 Batch    8/16   train_loss = 1.061\n",
      "Epoch 693 Batch   12/16   train_loss = 0.752\n",
      "Epoch 700 Batch    0/16   train_loss = 0.386\n",
      "Epoch 706 Batch    4/16   train_loss = 0.312\n",
      "Epoch 712 Batch    8/16   train_loss = 0.241\n",
      "Epoch 718 Batch   12/16   train_loss = 0.172\n",
      "Epoch 725 Batch    0/16   train_loss = 0.148\n",
      "Epoch 731 Batch    4/16   train_loss = 0.156\n",
      "Epoch 737 Batch    8/16   train_loss = 0.138\n",
      "Epoch 743 Batch   12/16   train_loss = 0.127\n",
      "Epoch 750 Batch    0/16   train_loss = 0.120\n",
      "Epoch 756 Batch    4/16   train_loss = 0.138\n",
      "Epoch 762 Batch    8/16   train_loss = 0.334\n",
      "Epoch 768 Batch   12/16   train_loss = 1.702\n",
      "Epoch 775 Batch    0/16   train_loss = 1.700\n",
      "Epoch 781 Batch    4/16   train_loss = 1.087\n",
      "Epoch 787 Batch    8/16   train_loss = 0.710\n",
      "Epoch 793 Batch   12/16   train_loss = 0.420\n",
      "Epoch 800 Batch    0/16   train_loss = 0.362\n",
      "Epoch 806 Batch    4/16   train_loss = 0.311\n",
      "Epoch 812 Batch    8/16   train_loss = 0.240\n",
      "Epoch 818 Batch   12/16   train_loss = 0.203\n",
      "Epoch 825 Batch    0/16   train_loss = 0.202\n",
      "Epoch 831 Batch    4/16   train_loss = 0.205\n",
      "Epoch 837 Batch    8/16   train_loss = 0.163\n",
      "Epoch 843 Batch   12/16   train_loss = 0.135\n",
      "Epoch 850 Batch    0/16   train_loss = 0.125\n",
      "Epoch 856 Batch    4/16   train_loss = 0.139\n",
      "Epoch 862 Batch    8/16   train_loss = 0.127\n",
      "Epoch 868 Batch   12/16   train_loss = 0.115\n",
      "Epoch 875 Batch    0/16   train_loss = 0.172\n",
      "Epoch 881 Batch    4/16   train_loss = 2.103\n",
      "Epoch 887 Batch    8/16   train_loss = 2.084\n",
      "Epoch 893 Batch   12/16   train_loss = 1.247\n",
      "Epoch 900 Batch    0/16   train_loss = 0.750\n",
      "Epoch 906 Batch    4/16   train_loss = 0.537\n",
      "Epoch 912 Batch    8/16   train_loss = 0.428\n",
      "Epoch 918 Batch   12/16   train_loss = 0.341\n",
      "Epoch 925 Batch    0/16   train_loss = 0.298\n",
      "Epoch 931 Batch    4/16   train_loss = 0.323\n",
      "Epoch 937 Batch    8/16   train_loss = 0.347\n",
      "Epoch 943 Batch   12/16   train_loss = 0.346\n",
      "Epoch 950 Batch    0/16   train_loss = 0.297\n",
      "Epoch 956 Batch    4/16   train_loss = 0.298\n",
      "Epoch 962 Batch    8/16   train_loss = 0.195\n",
      "Epoch 968 Batch   12/16   train_loss = 0.154\n",
      "Epoch 975 Batch    0/16   train_loss = 0.133\n",
      "Epoch 981 Batch    4/16   train_loss = 0.146\n",
      "Epoch 987 Batch    8/16   train_loss = 0.129\n",
      "Epoch 993 Batch   12/16   train_loss = 0.121\n",
      "Model Trained and Saved\n"
     ]
    }
   ],
   "source": [
    "\"\"\"\n",
    "DON'T MODIFY ANYTHING IN THIS CELL\n",
    "\"\"\"\n",
    "batches = get_batches(int_text, batch_size, seq_length)\n",
    "\n",
    "with tf.Session(graph=train_graph) as sess:\n",
    "    sess.run(tf.global_variables_initializer())\n",
    "\n",
    "    for epoch_i in range(num_epochs):\n",
    "        state = sess.run(initial_state, {input_text: batches[0][0]})\n",
    "\n",
    "        for batch_i, (x, y) in enumerate(batches):\n",
    "            feed = {\n",
    "                input_text: x,\n",
    "                targets: y,\n",
    "                initial_state: state,\n",
    "                lr: learning_rate}\n",
    "            train_loss, state, _ = sess.run([cost, final_state, train_op], feed)\n",
    "\n",
    "            # Show every <show_every_n_batches> batches\n",
    "            if (epoch_i * len(batches) + batch_i) % show_every_n_batches == 0:\n",
    "                print('Epoch {:>3} Batch {:>4}/{}   train_loss = {:.3f}'.format(\n",
    "                    epoch_i,\n",
    "                    batch_i,\n",
    "                    len(batches),\n",
    "                    train_loss))\n",
    "\n",
    "    # Save Model\n",
    "    saver = tf.train.Saver()\n",
    "    saver.save(sess, save_dir)\n",
    "    print('Model Trained and Saved')"
   ]
  },
  {
   "cell_type": "markdown",
   "metadata": {
    "deletable": true,
    "editable": true
   },
   "source": [
    "## Save Parameters\n",
    "Save `seq_length` and `save_dir` for generating a new TV script."
   ]
  },
  {
   "cell_type": "code",
   "execution_count": 17,
   "metadata": {
    "collapsed": false,
    "deletable": true,
    "editable": true
   },
   "outputs": [],
   "source": [
    "\"\"\"\n",
    "DON'T MODIFY ANYTHING IN THIS CELL\n",
    "\"\"\"\n",
    "# Save parameters for checkpoint\n",
    "helper.save_params((seq_length, save_dir))"
   ]
  },
  {
   "cell_type": "markdown",
   "metadata": {
    "deletable": true,
    "editable": true
   },
   "source": [
    "# Checkpoint"
   ]
  },
  {
   "cell_type": "code",
   "execution_count": 18,
   "metadata": {
    "collapsed": false,
    "deletable": true,
    "editable": true
   },
   "outputs": [],
   "source": [
    "\"\"\"\n",
    "DON'T MODIFY ANYTHING IN THIS CELL\n",
    "\"\"\"\n",
    "import tensorflow as tf\n",
    "import numpy as np\n",
    "import helper\n",
    "import problem_unittests as tests\n",
    "\n",
    "_, vocab_to_int, int_to_vocab, token_dict = helper.load_preprocess()\n",
    "seq_length, load_dir = helper.load_params()"
   ]
  },
  {
   "cell_type": "markdown",
   "metadata": {
    "deletable": true,
    "editable": true
   },
   "source": [
    "## Implement Generate Functions\n",
    "### Get Tensors\n",
    "Get tensors from `loaded_graph` using the function [`get_tensor_by_name()`](https://www.tensorflow.org/api_docs/python/tf/Graph#get_tensor_by_name).  Get the tensors using the following names:\n",
    "- \"input:0\"\n",
    "- \"initial_state:0\"\n",
    "- \"final_state:0\"\n",
    "- \"probs:0\"\n",
    "\n",
    "Return the tensors in the following tuple `(InputTensor, InitialStateTensor, FinalStateTensor, ProbsTensor)` "
   ]
  },
  {
   "cell_type": "code",
   "execution_count": 19,
   "metadata": {
    "collapsed": false,
    "deletable": true,
    "editable": true
   },
   "outputs": [
    {
     "name": "stdout",
     "output_type": "stream",
     "text": [
      "Tests Passed\n"
     ]
    }
   ],
   "source": [
    "def get_tensors(loaded_graph):\n",
    "    \"\"\"\n",
    "    Get input, initial state, final state, and probabilities tensor from <loaded_graph>\n",
    "    :param loaded_graph: TensorFlow graph loaded from file\n",
    "    :return: Tuple (InputTensor, InitialStateTensor, FinalStateTensor, ProbsTensor)\n",
    "    \"\"\"\n",
    "    # TODO: Implement Function\n",
    "    input_tensor = loaded_graph.get_tensor_by_name('input:0')\n",
    "    initial_state_tensor = loaded_graph.get_tensor_by_name('initial_state:0')\n",
    "    final_state_tensor = loaded_graph.get_tensor_by_name('final_state:0')\n",
    "    probs_tensor = loaded_graph.get_tensor_by_name('probs:0')\n",
    "    return input_tensor, initial_state_tensor, final_state_tensor, probs_tensor\n",
    "\n",
    "\n",
    "\"\"\"\n",
    "DON'T MODIFY ANYTHING IN THIS CELL THAT IS BELOW THIS LINE\n",
    "\"\"\"\n",
    "tests.test_get_tensors(get_tensors)"
   ]
  },
  {
   "cell_type": "markdown",
   "metadata": {
    "deletable": true,
    "editable": true
   },
   "source": [
    "### Choose Word\n",
    "Implement the `pick_word()` function to select the next word using `probabilities`."
   ]
  },
  {
   "cell_type": "code",
   "execution_count": 20,
   "metadata": {
    "collapsed": false,
    "deletable": true,
    "editable": true
   },
   "outputs": [
    {
     "name": "stdout",
     "output_type": "stream",
     "text": [
      "Tests Passed\n"
     ]
    }
   ],
   "source": [
    "def pick_word(probabilities, int_to_vocab):\n",
    "    \"\"\"\n",
    "    Pick the next word in the generated text\n",
    "    :param probabilities: Probabilites of the next word\n",
    "    :param int_to_vocab: Dictionary of word ids as the keys and words as the values\n",
    "    :return: String of the predicted word\n",
    "    \"\"\"\n",
    "    # TODO: Implement Function\n",
    "    return int_to_vocab[np.random.choice(len(int_to_vocab), p=probabilities)]\n",
    "\n",
    "\n",
    "\"\"\"\n",
    "DON'T MODIFY ANYTHING IN THIS CELL THAT IS BELOW THIS LINE\n",
    "\"\"\"\n",
    "tests.test_pick_word(pick_word)"
   ]
  },
  {
   "cell_type": "markdown",
   "metadata": {
    "deletable": true,
    "editable": true
   },
   "source": [
    "## Generate TV Script\n",
    "This will generate the TV script for you.  Set `gen_length` to the length of TV script you want to generate."
   ]
  },
  {
   "cell_type": "code",
   "execution_count": 21,
   "metadata": {
    "collapsed": false,
    "deletable": true,
    "editable": true
   },
   "outputs": [
    {
     "name": "stdout",
     "output_type": "stream",
     "text": [
      "moe_szyslak: okay it's over! get 'em out of here! if i just spend here for here.\n",
      "\n",
      "\n",
      "moe_szyslak:(to bears) when i just smell the violations.\n",
      "lenny_leonard: wow, homer.(name with) and the almost star denver.\n",
      "homer_simpson: barney forever, use this bottle!\n",
      "moe_szyslak: save the time, let's like this through homer simpson, else as the tv.\n",
      "lenny_leonard:(drunk noise) eh, this man are homer, i am!\n",
      "bender: no, that's my car, moe.\n",
      "moe_szyslak:(on lenny) is right!\n",
      "homer_simpson:(getting mouth) i'll my three beer and buy your hand?\n",
      "lisa_simpson: this all the way, thirty way your first police of my scam.\"\n",
      "homer_simpson: oh, what a big kind, but i can't not see the one place i love you.\n",
      "homer_simpson: come on, i'm so here. let's have to come into shape before, i am a good thing.\n",
      "moe_szyslak: all right, but i'm not bad on since i did\n"
     ]
    }
   ],
   "source": [
    "gen_length = 200\n",
    "# homer_simpson, moe_szyslak, or Barney_Gumble\n",
    "prime_word = 'moe_szyslak'\n",
    "\n",
    "\"\"\"\n",
    "DON'T MODIFY ANYTHING IN THIS CELL THAT IS BELOW THIS LINE\n",
    "\"\"\"\n",
    "loaded_graph = tf.Graph()\n",
    "with tf.Session(graph=loaded_graph) as sess:\n",
    "    # Load saved model\n",
    "    loader = tf.train.import_meta_graph(load_dir + '.meta')\n",
    "    loader.restore(sess, load_dir)\n",
    "\n",
    "    # Get Tensors from loaded model\n",
    "    input_text, initial_state, final_state, probs = get_tensors(loaded_graph)\n",
    "\n",
    "    # Sentences generation setup\n",
    "    gen_sentences = [prime_word + ':']\n",
    "    prev_state = sess.run(initial_state, {input_text: [[vocab_to_int[word] for word in gen_sentences[-seq_length:]]]})\n",
    "\n",
    "    # Generate sentences\n",
    "    for n in range(gen_length):\n",
    "        # Dynamic Input\n",
    "        dyn_input = [[vocab_to_int[word] for word in gen_sentences[-seq_length:]]]\n",
    "        dyn_seq_length = len(dyn_input[0])\n",
    "\n",
    "        # Get Prediction\n",
    "        probabilities, prev_state = sess.run(\n",
    "            [probs, final_state],\n",
    "            {input_text: dyn_input, initial_state: prev_state})\n",
    "        \n",
    "        pred_word = pick_word(probabilities[dyn_seq_length-1], int_to_vocab)\n",
    "\n",
    "        gen_sentences.append(pred_word)\n",
    "    \n",
    "    # Remove tokens\n",
    "    tv_script = ' '.join(gen_sentences)\n",
    "    for key, token in token_dict.items():\n",
    "        ending = ' ' if key in ['\\n', '(', '\"'] else ''\n",
    "        tv_script = tv_script.replace(' ' + token.lower(), key)\n",
    "    tv_script = tv_script.replace('\\n ', '\\n')\n",
    "    tv_script = tv_script.replace('( ', '(')\n",
    "        \n",
    "    print(tv_script)"
   ]
  },
  {
   "cell_type": "markdown",
   "metadata": {
    "deletable": true,
    "editable": true
   },
   "source": [
    "# The TV Script is Nonsensical\n",
    "It's ok if the TV script doesn't make any sense.  We trained on less than a megabyte of text.  In order to get good results, you'll have to use a smaller vocabulary or get more data.  Luckly there's more data!  As we mentioned in the begging of this project, this is a subset of [another dataset](https://www.kaggle.com/wcukierski/the-simpsons-by-the-data).  We didn't have you train on all the data, because that would take too long.  However, you are free to train your neural network on all the data.  After you complete the project, of course.\n",
    "# Submitting This Project\n",
    "When submitting this project, make sure to run all the cells before saving the notebook. Save the notebook file as \"dlnd_tv_script_generation.ipynb\" and save it as a HTML file under \"File\" -> \"Download as\". Include the \"helper.py\" and \"problem_unittests.py\" files in your submission."
   ]
  },
  {
   "cell_type": "code",
   "execution_count": null,
   "metadata": {
    "collapsed": true,
    "deletable": true,
    "editable": true
   },
   "outputs": [],
   "source": []
  },
  {
   "cell_type": "code",
   "execution_count": null,
   "metadata": {
    "collapsed": true,
    "deletable": true,
    "editable": true
   },
   "outputs": [],
   "source": []
  }
 ],
 "metadata": {
  "kernelspec": {
   "display_name": "Python 3",
   "language": "python",
   "name": "python3"
  },
  "language_info": {
   "codemirror_mode": {
    "name": "ipython",
    "version": 3
   },
   "file_extension": ".py",
   "mimetype": "text/x-python",
   "name": "python",
   "nbconvert_exporter": "python",
   "pygments_lexer": "ipython3",
   "version": "3.5.3"
  },
  "widgets": {
   "state": {},
   "version": "1.1.2"
  }
 },
 "nbformat": 4,
 "nbformat_minor": 0
}

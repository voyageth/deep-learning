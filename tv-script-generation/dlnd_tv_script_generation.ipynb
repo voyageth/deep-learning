{
 "cells": [
  {
   "cell_type": "markdown",
   "metadata": {
    "deletable": true,
    "editable": true
   },
   "source": [
    "# TV Script Generation\n",
    "In this project, you'll generate your own [Simpsons](https://en.wikipedia.org/wiki/The_Simpsons) TV scripts using RNNs.  You'll be using part of the [Simpsons dataset](https://www.kaggle.com/wcukierski/the-simpsons-by-the-data) of scripts from 27 seasons.  The Neural Network you'll build will generate a new TV script for a scene at [Moe's Tavern](https://simpsonswiki.com/wiki/Moe's_Tavern).\n",
    "## Get the Data\n",
    "The data is already provided for you.  You'll be using a subset of the original dataset.  It consists of only the scenes in Moe's Tavern.  This doesn't include other versions of the tavern, like \"Moe's Cavern\", \"Flaming Moe's\", \"Uncle Moe's Family Feed-Bag\", etc.."
   ]
  },
  {
   "cell_type": "code",
   "execution_count": 71,
   "metadata": {
    "collapsed": false,
    "deletable": true,
    "editable": true
   },
   "outputs": [],
   "source": [
    "\"\"\"\n",
    "DON'T MODIFY ANYTHING IN THIS CELL\n",
    "\"\"\"\n",
    "import helper\n",
    "\n",
    "data_dir = './data/simpsons/moes_tavern_lines.txt'\n",
    "text = helper.load_data(data_dir)\n",
    "# Ignore notice, since we don't use it for analysing the data\n",
    "text = text[81:]"
   ]
  },
  {
   "cell_type": "markdown",
   "metadata": {
    "deletable": true,
    "editable": true
   },
   "source": [
    "## Explore the Data\n",
    "Play around with `view_sentence_range` to view different parts of the data."
   ]
  },
  {
   "cell_type": "code",
   "execution_count": 72,
   "metadata": {
    "collapsed": false,
    "deletable": true,
    "editable": true
   },
   "outputs": [
    {
     "name": "stdout",
     "output_type": "stream",
     "text": [
      "Dataset Stats\n",
      "Roughly the number of unique words: 11492\n",
      "Number of scenes: 262\n",
      "Average number of sentences in each scene: 15.248091603053435\n",
      "Number of lines: 4257\n",
      "Average number of words in each line: 11.50434578341555\n",
      "\n",
      "The sentences 0 to 10:\n",
      "Moe_Szyslak: (INTO PHONE) Moe's Tavern. Where the elite meet to drink.\n",
      "Bart_Simpson: Eh, yeah, hello, is Mike there? Last name, Rotch.\n",
      "Moe_Szyslak: (INTO PHONE) Hold on, I'll check. (TO BARFLIES) Mike Rotch. Mike Rotch. Hey, has anybody seen Mike Rotch, lately?\n",
      "Moe_Szyslak: (INTO PHONE) Listen you little puke. One of these days I'm gonna catch you, and I'm gonna carve my name on your back with an ice pick.\n",
      "Moe_Szyslak: What's the matter Homer? You're not your normal effervescent self.\n",
      "Homer_Simpson: I got my problems, Moe. Give me another one.\n",
      "Moe_Szyslak: Homer, hey, you should not drink to forget your problems.\n",
      "Barney_Gumble: Yeah, you should only drink to enhance your social skills.\n",
      "\n",
      "\n"
     ]
    }
   ],
   "source": [
    "view_sentence_range = (0, 10)\n",
    "\n",
    "\"\"\"\n",
    "DON'T MODIFY ANYTHING IN THIS CELL\n",
    "\"\"\"\n",
    "import numpy as np\n",
    "\n",
    "print('Dataset Stats')\n",
    "print('Roughly the number of unique words: {}'.format(len({word: None for word in text.split()})))\n",
    "scenes = text.split('\\n\\n')\n",
    "print('Number of scenes: {}'.format(len(scenes)))\n",
    "sentence_count_scene = [scene.count('\\n') for scene in scenes]\n",
    "print('Average number of sentences in each scene: {}'.format(np.average(sentence_count_scene)))\n",
    "\n",
    "sentences = [sentence for scene in scenes for sentence in scene.split('\\n')]\n",
    "print('Number of lines: {}'.format(len(sentences)))\n",
    "word_count_sentence = [len(sentence.split()) for sentence in sentences]\n",
    "print('Average number of words in each line: {}'.format(np.average(word_count_sentence)))\n",
    "\n",
    "print()\n",
    "print('The sentences {} to {}:'.format(*view_sentence_range))\n",
    "print('\\n'.join(text.split('\\n')[view_sentence_range[0]:view_sentence_range[1]]))"
   ]
  },
  {
   "cell_type": "markdown",
   "metadata": {
    "deletable": true,
    "editable": true
   },
   "source": [
    "## Implement Preprocessing Functions\n",
    "The first thing to do to any dataset is preprocessing.  Implement the following preprocessing functions below:\n",
    "- Lookup Table\n",
    "- Tokenize Punctuation\n",
    "\n",
    "### Lookup Table\n",
    "To create a word embedding, you first need to transform the words to ids.  In this function, create two dictionaries:\n",
    "- Dictionary to go from the words to an id, we'll call `vocab_to_int`\n",
    "- Dictionary to go from the id to word, we'll call `int_to_vocab`\n",
    "\n",
    "Return these dictionaries in the following tuple `(vocab_to_int, int_to_vocab)`"
   ]
  },
  {
   "cell_type": "code",
   "execution_count": 73,
   "metadata": {
    "collapsed": false,
    "deletable": true,
    "editable": true
   },
   "outputs": [
    {
     "name": "stdout",
     "output_type": "stream",
     "text": [
      "{'catch', 'hold', 'whats', 'eh', 'the', 'there', 'rotch', 'on', 'where', 'one', 'these', 'hey', 'moe_szyslak', 'name', 'effervescent', 'puke', 'days', 'barney_gumble', \"i'm\", 'lately', 'mike', 'little', 'with', 'ice', 'moe', 'listen', 'i', 'seen', 'skills', 'and', 'carve', 'meet', 'you', 'an', 'last', 'pick', \"i'll\", 'should', 'homer', 'is', 'bart_simpson', 'only', 'tavern', 'my', 'to', \"you're\", 'has', 'another', 'social', 'matter', 'homer_simpson', 'gonna', 'of', 'back', 'anybody', 'your', 'drink', 'yeah', 'got', 'hello', 'normal', 'me', 'give', 'check', 'self', 'elite', 'not', 'problems', 'forget', 'enhance', \"moe's\"}\n",
      "Tests Passed\n"
     ]
    }
   ],
   "source": [
    "import numpy as np\n",
    "import problem_unittests as tests\n",
    "\n",
    "def create_lookup_tables(text):\n",
    "    \"\"\"\n",
    "    Create lookup tables for vocabulary\n",
    "    :param text: The text of tv scripts split into words\n",
    "    :return: A tuple of dicts (vocab_to_int, int_to_vocab)\n",
    "    \"\"\"\n",
    "    # TODO: Implement Function\n",
    "    word_set = set()\n",
    "    for word in text:\n",
    "        word_set.add(word)\n",
    "    print(word_set)\n",
    "    vocab_to_int = {word: i for i, word in enumerate(word_set)}\n",
    "    int_to_vocab = {i: word for word, i in vocab_to_int.items()}\n",
    "    \n",
    "    return vocab_to_int, int_to_vocab\n",
    "\n",
    "\n",
    "\"\"\"\n",
    "DON'T MODIFY ANYTHING IN THIS CELL THAT IS BELOW THIS LINE\n",
    "\"\"\"\n",
    "tests.test_create_lookup_tables(create_lookup_tables)"
   ]
  },
  {
   "cell_type": "markdown",
   "metadata": {
    "deletable": true,
    "editable": true
   },
   "source": [
    "### Tokenize Punctuation\n",
    "We'll be splitting the script into a word array using spaces as delimiters.  However, punctuations like periods and exclamation marks make it hard for the neural network to distinguish between the word \"bye\" and \"bye!\".\n",
    "\n",
    "Implement the function `token_lookup` to return a dict that will be used to tokenize symbols like \"!\" into \"||Exclamation_Mark||\".  Create a dictionary for the following symbols where the symbol is the key and value is the token:\n",
    "- Period ( . )\n",
    "- Comma ( , )\n",
    "- Quotation Mark ( \" )\n",
    "- Semicolon ( ; )\n",
    "- Exclamation mark ( ! )\n",
    "- Question mark ( ? )\n",
    "- Left Parentheses ( ( )\n",
    "- Right Parentheses ( ) )\n",
    "- Dash ( -- )\n",
    "- Return ( \\n )\n",
    "\n",
    "This dictionary will be used to token the symbols and add the delimiter (space) around it.  This separates the symbols as it's own word, making it easier for the neural network to predict on the next word. Make sure you don't use a token that could be confused as a word. Instead of using the token \"dash\", try using something like \"||dash||\"."
   ]
  },
  {
   "cell_type": "code",
   "execution_count": 74,
   "metadata": {
    "collapsed": false,
    "deletable": true,
    "editable": true
   },
   "outputs": [
    {
     "name": "stdout",
     "output_type": "stream",
     "text": [
      "Tests Passed\n"
     ]
    }
   ],
   "source": [
    "def token_lookup():\n",
    "    \"\"\"\n",
    "    Generate a dict to turn punctuation into a token.\n",
    "    :return: Tokenize dictionary where the key is the punctuation and the value is the token\n",
    "    \"\"\"\n",
    "    # TODO: Implement Function\n",
    "    punc_dict = {}\n",
    "    \n",
    "    punc_dict['.'] = \"||Period||\"\n",
    "    punc_dict[','] = \"||Comma||\"\n",
    "    punc_dict['\"'] = \"||Quotation_Mark||\"\n",
    "    punc_dict[';'] = \"||Semicolon||\"\n",
    "    punc_dict['!'] = \"||Exclamation_Mark||\"\n",
    "    punc_dict['?'] = \"||Question_Mark||\"\n",
    "    punc_dict['('] = \"||Left_Parentheses||\"\n",
    "    punc_dict[')'] = \"||Right_Parentheses||\"\n",
    "    punc_dict['--'] = \"||Dash||\"\n",
    "    punc_dict['\\n'] = \"||Return||\"\n",
    "    \n",
    "    return punc_dict\n",
    "\n",
    "\"\"\"\n",
    "DON'T MODIFY ANYTHING IN THIS CELL THAT IS BELOW THIS LINE\n",
    "\"\"\"\n",
    "tests.test_tokenize(token_lookup)"
   ]
  },
  {
   "cell_type": "markdown",
   "metadata": {
    "deletable": true,
    "editable": true
   },
   "source": [
    "## Preprocess all the data and save it\n",
    "Running the code cell below will preprocess all the data and save it to file."
   ]
  },
  {
   "cell_type": "code",
   "execution_count": 75,
   "metadata": {
    "collapsed": false,
    "deletable": true,
    "editable": true
   },
   "outputs": [
    {
     "name": "stdout",
     "output_type": "stream",
     "text": [
      "{'did', 'alva', 'want', 'outrageous', 'kneeling', 'prank', 'wreck', 'penmanship', 'macgregor', 'housework', 'sponge:', '6', 'quality', 'fair', 'slow', 'rolling', 'wildfever', 'traditions', 'angrily', 'color', 'gags', 'really', 'plain', 'man_at_bar:', 'uniforms', 'cuz', 'freed', 'reptile', 'having', 'fantasy', 'rom', 'insist', 'nevada', 'covers', \"coaster's\", 'fraud', 'fact', 'bar:', 'dangerous', 'happy', \"ol'\", \"it's\", 'homeless', 'smoothly', 'market', 'muscle', 'madonna', 'procedure', 'expect', 'mine', 'amanda', 'traffic', 'swallowed', 'wrote', 'craphole', 'kiss', 'fires', 'afterglow', 'act', 'cover', 'steamed', 'pipes', 'bubble', 'media', 'bush', 'gimme', 'mariah', 'wordloaf', 'embarrassing', 'rector', 'slaps', \"what'd\", 'choices:', 'marvelous', 'cheesecake', 'polish', 'strawberry', 'door', 'sugar', 'celebrity', 'comes', 'pussycat', 'dungeon', 'an', 'scratching', 'maximum', 'yep', 'hour', 'operation', 'photo', 'lowers', 'brag', 'sauce', 'collateral', 'jacks', \"tinklin'\", 'menlo', 'voice_on_transmitter:', 'waist', 'cockroach', 'blinds', 'ominous', 'wasted', 'hootie', 'pilsner-pusher', 'connor-politan', 'ragtime', 'eating', 'release', 'perfect', 'sang', 'wave', 'she-pu', 'margarita', 'prayers', 'champ', \"i-i'm\", 'kinderhook', 'tigers', 'attraction', 'ah', 'unfortunately', 'peppy', 'somewhere', 'say', 'shriners', \"callin'\", 'lessee', 'rev', 'curse', 'every', \"spaghetti-o's\", 'gary_chalmers:', 'arabs', 'indicates', 'reward', 'failure', 'gold', 'paris', 'rumaki', 'gulps', 'd', 'ninth', 'greetings', 'achem', 'gotta', 'dance', \"tab's\", 'parasol', 'countryman', 'factor', 'rasputin', 'revenge', 'compared', 'bolting', 'summer', 'fontaine', 'worthless', 'wizard', \"moe's\", 'avec', 'holding', 'touches', 'voyager', 'treasure', 'milhouses', 'rounds', 'anthony_kiedis:', 'thoughts', 'milhouse_van_houten:', 'squad', 'uglier', 'dad', 'accident', 'roomy', 'girl-bart', 'otherwise', 'person', 'moe-near-now', 'cocoa', 'legs', 'bury', 'complaint', \"mcstagger's\", 'out', 'sets', 'safer', 'itchy', 'developed', \"men's\", 'stands', \"this'll\", 'church', 'versus', 'aristotle:', 'clammy', 'different', 'colossal', 'champion', 'wolfcastle', 'lewis', 'common', 'regretted', 'screws', 'skinner', 'shove', 'cars', '_eugene_blatz:', 'remain', 'stu', 'contest', 'swatch', 'eyed', 'shores', 'smuggled', 'fl', 'rude', 'restroom', 'problem', 'yuh-huh', 'lotta', 'teen', 'jacques:', 'pepper', 'bookie', 'bus', 'violin', 'youth', 'gimmick', 'peanut', 'handing', 'apu_nahasapeemapetilon:', 'einstein', \"who'da\", 'crawl', 'television', 'sight-unseen', 'so-called', \"she'd\", \"tramp's\", 'that', 'flame', 'discussing', 'bill', 'moved', 'robot', 'hollowed-out', 'annoying', \"queen's\", 'forbidden', 'macho', 'dash', 'small_boy:', 'line', 'pen', 'enjoys', 'hammy', 'scooter', 'chuckles', 'heavyset', 'reaction', 'moe', 'subject', 'meaningless', 'squabbled', 'philip', 'quiet', 'quimby_#2:', 'wacky', 'muhammad', 'musical', 'second', 'smells', 'brains', 'public', 'bottoms', 'dozen', 'influence', 'nick', 'scare', 'traitor', 'dejected_barfly:', 'hate-hugs', 'uh-oh', 'attached', 'pointless', 'clinton', 'minus', 'slab', 'mix', '3', 'sloe', 'lennyy', 'underwear', 'or', 'joking', 'shot', 'appealing', 'nickel', 'remembered', 'drive', 'cutest', 'sickly', 'result', 'hears', 'aerospace', 'cute', 'renee', 'inspired', 'squeal', 'releasing', 'buy', 'moustache', 'under', 'waste', 'drinker', 'is:', 'lost', 'hot-rod', 'nothing', 'ons', 'reviews', 'named', 'pitch', 'sheriff', 'illustrates', 'neighboreeno', 'hair', 'rosey', 'gus', 'wound', 'eye-gouger', 'charges', 'seductive', 'karaoke', 'thirty', 'gay', 'female_inspector:', 'acquaintance', 'interrupting', 'defiantly', 'tree', 'pulling', 'liar', 'continuing', 'insults', 'kissed', 'quite', 'fancy', 'species', 'advice', 'terrible', 'ground', 'grampa_simpson:', 'las', 'party', 'switched', 'less', 'chicken', 'deacon', 'wins', \"raggin'\", 'bigger', \"'cause\", 'spend', 'rugged', 'squeals', 'fayed', 'choice:', 'nitwit', 'prohibit', 'y', \"bettin'\", 'let', 'trustworthy', 'mole', 'ice', 'nation', 'down', 'wooden', 'past', 'warning', 'energy', 'worth', \"hawkin'\", 'scanning', \"askin'\", 'inflated', 'recently', 'quickly', 'gals', 'simpsons', \"weren't\", 'duff', 'wire', 'disguised', 'mini-beret', 'effervescent', 'part', 'utensils', 'idealistic', 'silent', 'head-gunk', 'correcting', 'unintelligent', 'politics', 'cola', 'pyramid', \"they've\", 'longer', 'endorse', 'way:', 'trapping', 'brace', 'har', 'thought_bubble_lenny:', 'manager', 'use', 'morose', \"meanin'\", 'incognito', \"father's\", 'represents', 'byrne', 'big', 'sink', 'un-sults', 'explaining', 'o', 'onion', 'insensitive', 'until', 'starving', 'comfortable', 'simplest', \"hell's\", 'rivalry', 'square', '1-800-555-hugs', 'toms', 'fun', 'throat', 'blown', 'diddilies', \"jackpot's\", 'grimly', 'bonfire', 'ballot', 'shame', 'tofu', 'dutch', 'childless', 'happily', 'repeating', 'geez', 'appendectomy', 'pushes', 'unsanitary', 'clears', 'clench', 'barstools', 'new', 'ashtray', 'grabbing', 'movie', 'north', 'disgrace', 'brunch', 'kegs', 'series', 'propose', 'pep', 'absentminded', 'believe', 'tomatoes', 'kramer', 'krabappel', 'couch', 'hitchhike', 'gayer', 'luv', 'day', 'enjoy', 'tall', 'uneasy', 'faint', 'carmichael', 'stares', 'score', 'homer_', 'neighborhood', 'hotenhoffer', 'sobo', 'spit-backs', 'not', 'lighten', \"neat's-foot\", 'concentrate', 'driving', 'something:', 'bindle', 'field', 'dies', 'muertos', 'fbi_agent:', 'nagurski', 'haws', 'salt', 'important', 'schmoe', \"should've\", 'male_inspector:', 'bitterly', 'dashes', 'crowd:', 'fake', 'alphabet', 'finance', 'compete', 'either', 'meyerhof', 'al_gore:', 'held', 'polenta', 'sistine', 'self-centered', 'raccoons', 'dint', 'leans', 'decency', 'flack', 'gas', 'serious', 'nobody', \"daughter's\", 'freeze', \"depressin'\", 'hoax', 'william', 'changed', 'fever', 'pockets', 'plan', 'quimby', 'device', 'war', 'crony', 'carolina', 'truck_driver:', 'crinkly', 'rice', 'little', '||exclamation_mark||', 'playoff', \"games'd\", 'else', 'ratted', 'impressed', 'mortgage', 'düffenbraus', 'reporter:', 'powerful', 'platinum', 'clothespins', 'social', 'stock', 'flailing', \"isn't\", 'branding', 'tips', 'clenched', 'unable', 'gel', 'gordon', 'getcha', 'carl:', 'doom', 'blokes', 'moesy', 'musketeers', 'gumbo', 'satisfaction', 'loser', 'kool', 'anger', 'priority', 'secret', 'hiya', 'ecru', 'text', 'ferry', 'bump', 'marry', 'generous', 'in', 'card', 'tones', 'lingus', 'clincher', 'fatty', 'asses', 'shortcomings', \"buffalo's\", 'bumbling', 'omigod', 'tsk', 'sentimonies', 'slurps', 'theory', 'wazoo', 'wiggum', 'station', 'entrance', 'light', 'startup', 'au', \"'s\", 'somebody', 'investigating', 'shrugs', 'checks', 'encouraging', 'spare', \"must've\", 'sense', 'longest', 'unhook', 'stamps', 'argue', 'distance', 'washed', 'fictional', 'sequel', 'author', 'cousin', 'obese', 'testing', \"sittin'\", 'contract', 'hurry', 'massachusetts', 'other_book_club_member:', \"smokin'\", 'poker', 'beers', \"challengin'\", '$42', 'made', 'gees', 'hans:', 'boxer:', 'screams', 'stamp', 'son', 'founded', 'wife-swapping', 'make', 'throws', 'ew', 'charter', 'fell', 'round', 'cheat', 'completing', 'remaining', 'dealer', 'site', 'whiny', 'stretch', \"ma'am\", 'smallest', 'stools', 'barbed', \"homer'll\", 'books', 'than', 'cheaper', 'cans', 'keep', 'cold', 'filed', 'about', 'hideous', 'yelp', 'using', 'booze', 'pharmaceutical', 'project', 'additional-seating-capacity', 'mic', 'affection', 'meal', 'mob', 'sounds', 'de', 'mocking', 'one', 'till', 'yup', 'wars', 'products', 'better', 'man', 'grandkids', 'confession', 'glyco-load', 'crisis', 'stalking', 'hilton', 'hooters', 'mull', 'authorized', \"robbin'\", 'togetherness', 'inspiring', 'noise', 'inside', 'obvious', 'betty:', 'swelling', 'treehouse', 'crushed', 'restaurants', 'prettied', 'walther_hotenhoffer:', 'bucket', 'jeff_gordon:', \"marge's\", 'suru', 'stranger:', 'fears', 'course', 'squashing', 'abe', \"'em\", 'side:', 'flash-fry', 'sea', 'harv:', 'ventriloquism', 'capuchin', 'accept', 'checking', 'rig', 'stuff', 'kind', 'maintenance', 'volunteer', 'paramedic:', 'stagy', 'due', 'admiring', 'foibles', 'plow', 'sensitivity', 'harvard', 'managed', 'excuses', 'lap', 'flaking', 'guessing', 'sloppy', 'fixed', 'flanders', 'latour', 'possessions', 'frontrunner', 'impending', 'vestigial', 'pitcher', 'giant', 'trunk', 'shuts', 'syrup', 'stayed', 'thirsty', 'urge', 'ow', 'belches', 'company', 'moe_recording:', 'abcs', 'icy', 'ridiculous', 'showed', 'appalled', 'teenage', 'brockman', 'halloween', 'west', 'lushmore', 'ideas', 'patterns', 'unusual', 'befriend', 'cozy', 'saving', 'koholic', 'fortress', 'anniversary', 'student', \"fans'll\", 'deadly', 'lachrymose', 'principal', 'warm_female_voice:', 'routine', 'short', 'shares', 'laney_fontaine:', 'nuked', 'bites', 'marquee', 'wildest', 'hippies', 'quick', 'ditched', 'sarcastic', 'feast', 'hey', 'smart', 'hustle', 'krusty_the_clown:', 'beautiful', '_burns_heads:', 'heatherton', 'sweeter', 'sticking-place', 'wham', \"here's\", 'eyesore', 'catholic', 'lenny:', 'corn', 'considering:', 'bobo', 'kenny', \"o'\", 'takeaway', 'mop', 'middle', 'actress', 'helllp', 'yellow-belly', 'richer', 'gums', 'statistician', 'two-drink', 'both', 'coughs', 'stick', 'million', 'cause', 'fire', 'oblongata', 'entirely', 'fill', 'ruin', 'selma', 'noticing', 'costume', 'maitre', 'yoink', 'exultant', 'connection', 'barter', 'calendars', 'points', 'button-pusher', 'hm', 'saved', 'investor', 'schizophrenia', 'championship', 'written', 'darts', 'sold', 'hit', 'jamaican', 'a-b-', 'shall', 'town', 'danish', 'mustard', 'quick-like', 'noble', 'manboobs', \"department's\", 'pian-ee', 'palmerston', 'belch', 'twins', 'dae', 'trapped', 'conspiracy', 'there', 'crystal', 'whoo', 'smiled', 'sunglasses', \"santa's\", 'taken', 'foot', \"s'pose\", 'fiction', 'actors', 'judge', 'reasonable', 'clearing', 'wh', 'chin', 'guzzles', 'stinks', 'jimmy', 'watashi', 'breakfast', 'magnanimous', 'ends', 'fountain', 'difference', 'dingy', 'situation', \"s'cuse\", \"writin'\", 'duffman:', 'burps', 'prints', 'louie:', 'shindig', 'bottles', 'frankie', 'drunk', 'five', 'tester', \"knockin'\", 'hemoglobin', 'american', 'lainie:', 'laramie', 'eaters', 'lay', 'talking', 'mill', 'spouses', 'strain', 'drollery', 'sound', 'faith', 'p', 'jacksons', 'understanding', 'string', 'full', \"i'm\", 'dennis_conroy:', 'doppler', 'pip', 'weary', 'college', \"wino's\", 'supply', 'mt', 'venture', 'low-blow', 'krusty', 'ahead', 'elves:', 'disappointing', 'sees/', 'nicer', 'magic', 'harm', 'enveloped', 'baritone', 'if', 'deals', 'kidneys', 'culkin', 'owns', 'cases', 'another', 'cockroaches', 'and-and', 'respect', 'losers', 'spotting', 'chinese', 'roz', 'cursed', 'semi-imported', 'applesauce', 'fall', 'radio', 'urban', 'view', 'disappointment', 'few', 'incriminating', 'lear', 'beloved', \"haven't\", 'sounded', \"i'd'a\", 'amid', 'department', 'skinheads', 'chipped', 'smiling', 'then', 'fondest', 'yours', 'modest', \"rustlin'\", 'solves', 'jewish', 'winnings', 'edna', 'mexican_duffman:', 'sister', 'the_edge:', 'spending', 'spacey', \"feelin's\", 'located', '_marvin_monroe:', 'housewife', 'face', 'snap', 'aid', 'decent', 'event', 'hmf', 'store-bought', 'regretful', 'jumps', 'bottom', 'cooking', 'louse', 'cosmetics', '1973', 'carney', 'martini', 'throw', 'slurred', 'nooo', 'direction', 'drawn', 'cameras', 'lise:', 'barkeeps', 'shaved', 'wagering', 'indeedy', 'writing', 'curious', 'waltz', 'nash', 'wobbly', 'vote', 'blimp', 'grunts', 'kitchen', 'shill', 'irs', 'teeth', 'mail', \"brady's\", 'jets', 'smithers', 'plants', 'sperm', 'indignant', 'love-matic', 'moe-heads', 'proves', 'duel', 'conditioning', 'lady_duff:', 'puts', 'take-back', 'infestation', 'premise', 'stomach', 'correct', 'helps', 'snout', 'walther', \"phone's\", 'joke', \"'ceptin'\", 'tomahto', 'starts', 'behind', 'ping-pong', 'rainbows', 'mirror', 'cheated', 'driver', 'publish', 'probably', \"doctor's\", 'shesh', 'early', 'shoulda', 'dazed', 'become', 'killarney', 'kl5-4796', 'pre-recorded', 'mother', 'maggie', 'distinct', \"starla's\", 'indeed', 'engine', 'judgments', 'parking', 'hooch', 'dime', 'sinkhole', \"yesterday's\", 'twice', 'compare', 'western', 'coma', \"dolph's_dad:\", 'ralph_wiggum:', 'staying', 'super-tough', 'forever', 'enterprising', 'alcoholic', 'center', 'cock', \"jimbo's_dad:\", 'professor_jonathan_frink:', '2nd_voice_on_transmitter:', 'cauliflower', 'scrutinizes', 'assent', 'lily-pond', 'awed', 'mccarthy', 'extra', 'everyone', 'hateful', 'absolut', 'looser', 'worry', 'disturbing', 'guttural', 'all', 'apply', 'ale', 'photos', 'pool', 'botanical', 'fools', 'candles', 'dumb-asses', 'police', 'sick', 'inquiries', 'improved', \"they'll\", 'suppose', 'specific', 'denser', 'kirk', 'rickles', \"valentine's\", 'tar-paper', 'space-time', \"time's\", 'self-made', 'sharing', 'raining', 'carl', 'oblivious', 'attend', 'ne', 'permitting', \"somethin'\", 'gibson', 'securities', 'without', 'grumbling', 'majesty', 'hope', \"hobo's\", '||semicolon||', 'clone', 'unearth', 'yello', 'cigarettes', 'repairman', 'each', 'six-barrel', 'sales', 'grammy', 'whale', 'lottery', \"liberty's\", 'snake-handler', 'civil', \"beer's\", 'sharity', 'archaeologist', 'bull', 'flips', 'hoping', 'relative', 'skin', 'comic', 'hard', 'softer', 'astronaut', 'these', 'nectar', 'breathless', 'for', 'think', 'disguise', 'gave', 'radiation', \"man's\", 'large', 'stepped', 'ran', 'tapered', 'negative', 'hanh', 'cough', 'changes', 'letters', 'undermine', 'reserved', 'spender', 'surprised/thrilled', 'usual', 'swear', 'fanciest', 'complaining', 'everyday', 'ze-ro', 'uh', 'genuinely', 'st', 'camp', 'machine', 'flayvin', 'nos', 'most:', 'cheryl', 'spread', \"havin'\", 'homunculus', 'heh-heh', 'selma_bouvier:', 'gabriel:', 'risqué', 'haircuts', 'feminine', 'pause', 'pigtown', 'dog', 'americans', 'listened', \"hole'\", 'parenting', 'r', 'strong', 'mistake', 'addiction', 'remembers', 'none', 'iran', 'al', 'simon', 'enemies', 'rat-like', 'worse', 'pity', 'murdered', 'helpless', 'normals', 'bidet', 'where', 'anguished', 'general', 'mona_simpson:', 'dumbass', 'supports', 'shopping', 'grrrreetings', 'donut-shaped', 'exciting', 'hammock', 'gift', 'los', 'mahatma', 'xanders', 'wiggle', 'bullet-proof', 'children', 'perplexed', 'kick-ass', 'total', 'stinky', 'eleven', 'massage', 'reluctant', 'elocution', 'jerk', 'enthusiastically', 'century', 'awake', 'resigned', 'hitler', 'enemy', 'sedaris', 'gonna', 'takes', 'copy', 'grants', 'severe', 'brick', 'germany', 'jaegermeister', 'fifty', 'tragedy', 'grope', 'emphasis', 'trainers', 'faded', 'lush', 'seething', 'sumatran', 'nigeria', 'men:', 'horribilis', 'beaumont', 'motor', 'bachelorette', 'sledge-hammer', 'amends', 'technical', 'sigh', 'storms', 'wheels', 'neon', \"ya'\", 'jay_leno:', 'saint', 'poin-dexterous', 'know', 'covering', 'numbers', 'aidens', 'dregs', 'delightful', 'eggs', 'insulin', 'circus', 'pusillanimous', 'journey', 'changing', 'drift', 'anyway', 'infiltrate', 'beer:', 'glowers', \"workin'\", 'gorgeous', 'attach', 'britannia', 'cartoons', 'spite', 'monkey', 'souped', 'waylon_smithers:', 'socratic', 'contemporary', 'grenky', 'haikus', 'tip', 'roof', 'needs', 'outta', 'aziz', 'de-scramble', 'hotline', 'pageant', 'sabermetrics', 'touchdown', 'ohmygod', 'forty-nine', 'strangles', 'fighter', 'those', 'speaking', 'crowd', 'julienne', \"sippin'\", 'casual', 'kick', 'flames', 'flustered', 'padres', 'crying', \"somebody's\", 'gin-slingers', 'holiday', 'white_rabbit:', 'darkness', 'rest', 'chipper', 'malted', 'heartily', 'off', 'grace', \"swishifyin'\", 'chained', 'mumbling', 'wipes', 'beatings', '_montgomery_burns:', 'cavern', 'atari', 'hawking:', 'ugh', 'taxi', 'ooh', 'warmly', 'creme', 'pulls', 'prizefighters', 'troy', 'imagine', 'jeers', 'gregor', 'by', 'sucked', 'write', 'pop', 'column', 'effects', 'rat', 'yes', \"number's\", 'getting', 'quietly', 'bras', 'especially', 'spitting', 'done', 'before', 'occupancy', 'run', 'believer', 'malfeasance', 'balls', 'cheered', 'newsweek', 'paper', 'ollie', 'annual', 'sure', 'bellyaching', 'smiles', 'inanely', 'porn', 'speak', 'roy', 'mayor', 'slot', 'been', 'likes', 'stirrers', 'action', 'radical', 'blues', 'begging', 'stengel', 'suit', 'crappy', 'missing', 'fix', 'chastity', 'referee', 'villanova', 'strolled', 'oughtta', 'w-a-3-q-i-zed', 'bubbles', 'solely', 'myself', 'adrift', 'hardwood', 'clearly', 'missed', 'bouquet', 'afloat', \"fryer's\", 'train', 'drunkening', 'donor', 'dealt', 'whining', 'yak', 'wait', 'blaze', 'earlier', 'dean', 'deny', 'cutting', 'santa', 'open', 'griffith', 'begins', 'when-i-get-a-hold-of-you', 'imitating', 'finishing', 'and/or', 'homeland', 'divorced', 'scary', 'patron_#2:', 'buffet', 'cards', 'predecessor', 'belong', 'ball', 'fire_inspector:', 'mcbain', 'extreme', 'fausto', 'closer', 'proper', \"who'll\", 'spit', 'widow', 'mafia', 'settles', 'beneath', 'toe', 'harrowing', 'grade', 'selection', 'pretzels', 'reserve', 'thirty-thousand', 'deeply', 'ineffective', 'pin', 'slight', 'pantsless', 'disdainful', 'quimbys:', 'thanksgiving', 'send', 'happily:', 'happen', 'poisoning', 'buddha', 'freaky', 'yet', 'billboard', 'cheerier', 'supposed', 'calmly', 'twenty-five', 'slick', 'clientele', 'inning', 'hexa-', \"usin'\", 'menacing', \"car's\", 'shark', 'village', 'cab', 'zone', 'apron', 'flush', 'option', 'keeps', 'stored', 'souvenir', 'exasperated', 'edna-lover-one-seventy-two', 'glum', 'labor', 'now', 'married', 'giggles', 'leave', 'officials', 'wrestle', 'double', 'tapestry', 'spy', \"bringin'\", 'tape', 'honey', 'mind-numbing', 'hired', 'larson', 'gag', 'moe-lennium', 'happiness', 'dismissive', 'sleep', 'hobo', 'ahem', 'scornful', 'tons', 'hollye', 'solo', 'sips', \"treatin'\", 'knuckles', 'support', 'pay', 'asking', 'billion', 'upsetting', 'mater', 'connor', 'embarrassed', 'rafters', 'tale', \"puttin'\", 'greedy', 'stadium', 'gentle', 'morlocks', 'lead', 'sniper', 'fills', 'devils:', 'clubs', 'polite', 'necklace', 'wanna', 'browns', 'stir', 'kills', 'officer', \"today's\", 'catty', 'young_homer:', 'sidekick', 'shaker', 'popped', 'it:', 'whose', 'who-o-oa', 'dump', 'puke', 'love', 'pontiff', 'other', 'effervescence', 'peach', 'ohhhh', 'remodel', \"what's\", 'physical', 'electronic', \"fun's\", 'learned', 'barney_gumble:', 'measurements', 'discriminate', 'unavailable', 'count', 'prefer', 'vodka', 'justice', 'spanish', 'plug', 'poetics', 'cap', 'witches', 'unsourced', 'walks', 'even', 'struggling', 'invite', 'preparation', 'oughta', 'fink', 'should', 'daddy', \"seein'\", 'tired', 'woman_bystander:', 'kinds', 'ho-la', 'ura', 'knocks', 'crab', 'traitors', 'upbeat', 'writer:', 'realize', 'half-back', 'pad', 'barney-shaped_form:', 'coupon', 'two-thirds-empty', 'meaningfully', 'begin', 'cummerbund', 'disappeared', 'etc', 'world-class', 'beaumarchais', 'tribute', 'panties', 'tv_father:', 'class', 'doll', 'musses', 'filthy', 'twenty-nine', 'cajun', 'yelling', 'needy', 'eaten', 'jeter', 'nurse', 'a', \"floatin'\", 'devastated', 'creeps', 'grunt', 'cut', 'died', 'la', 'comforting', 'rump', 'handsome', 'modern', 'knows', 'eggshell', 'mr', 'foil', 'detective', 'little_man:', 'mellow', 'beach', 'surgeonnn', \"maggie's\", 'ads', 'presents', 'camera', 'profiling', 'urine', 'forty-seven', 'moonlight', \"readin'\", 'medieval', 'tubman', 'bushes', 'reluctantly', 'spoon', 'religion', 'freshened', 'chosen', 'captain:', 'point', 'gargoyles', 'mushy', 'plus', \"everyone's\", 'bagged', 'dramatic', 'delivery_boy:', 'lifestyle', \"washin'\", \"round's\", 'rueful', 'potatoes', 'moe-clone:', 'flew', 'caused', 'ding-a-ding-ding-a-ding-ding', 'kings', \"soakin's\", 'reader', \"murphy's\", 'playhouse', 'weight', 'blood-thirsty', 'loan', 'temporarily', 'born', 'loved', 'portentous', 'blissful', 'improv', 'inches', \"she's\", 'puzzle', 'real', 'hero', 'slugger', 'scoffs', 'der', 'espousing', \"g'night\", 'lose', 'goods', 'silence', 'first', 'hello', \"g'ahead\", 'christopher', 'through', 'pulitzer', 'scum-sucking', 'recreate', 'advertising', 'watching', 'already', 'mm', 'outs', 'excited', 'mugs', 'attractive_woman_#1:', 'thrilled', 'visas', 'dying', 'ball-sized', 'abolish', 'turns', 'seem', 'demand', 'wings', 'wondering', 'whistling', 'fonzie', 'waterfront', 'image', 'belly-aching', 'beady', 'call', 'gheet', 'stumble', 'nachos', 'ha-ha', \"barney's\", 'invisible', 'hide', 'sampler', 'nerd', 'moonnnnnnnn', 'orders', 'veteran', 'inserted', 'ehhhhhhhhh', 'homer_doubles:', 'people', 'canyonero', 'convinced', 'boggs', 'mither', 'shelf', 'shaggy', 'further', 'idioms', 'evergreen', 'shows', 'dropped', 'habit', 'criminal', 'arise', 'stacey', 'nonchalant', 'duffman', 'watered', 'idiots', 'means', 'up-bup-bup', 'junior', 'rather', 'bridge', 'stage', 'voted', 'roz:', 'ugly', 'mcclure', 'chunk', \"smokin'_joe_frazier:\", 'chocolate', 'displeased', 'eyeing', 'fat_tony:', 'glummy', \"getting'\", 'militia', 'too', 'mate', 'wonderful', 'king', 'serum', 'minors', 'gone', 'granted', \"football's\", 'short_man:', 'watt', 'noggin', 'detail', 'mirthless', 'tow', 'non-american', 'swell', 'avenue', 'cloudy', 'knowledge', 'depressing', 'pfft', 'yards', 'excellent', 'misconstrue', 'funniest', 'refreshingness', 'dank', 'doooown', 'bathed', 'pack', 'annie', 'soup', 'pancakes', 'ladies', \"takin'\", 'kids', 'appreciated', 'drunkenly', 'winner', 'wholeheartedly', 'week', 'bathing', 'bum:', 'man_with_tree_hat:', 'highway', 'happier', 'whenever', 'ironic', 'lady-free', 'hmmm', 'hang', 'pronounce', 'again', 'mindless', 'fat_in_the_hat:', 'cadillac', 'chub', 'proud', 'swigmore', 'were', 'rafter', 'dignified', 'digging', 'tipsy', 'sacrilicious', 'intriguing', \"tonight's\", 'lecture', 'form', \"payin'\", 'judge_snyder:', 'troll', 'illegal', 'philosophic', 'rapidly', 'fifth', 'frazier', 'thnord', 'suspicious', 'thank', 'mostrar', 'beer', 'long', 'dan_gillick:', 'hole', 'wisconsin', 'break', 'underbridge', 'simultaneous', 'perón', 'popular', 'tonight', 'dials', 'mary', 'trusted', 'bail', 'sweden', 'we', 'handshake', 'cop', 'lloyd', \"thing's\", 'hail', 'high', 'ballclub', 'stooges', 'percent', 'characteristic', 'refreshment', 'rough', 'unfair', 'prince', 'keeping', 'moolah-stealing', 'elite', 'massive', 'bell', 'rims', 'augustus', 'temper', 'xx', 'stats', 'bounced', 'paid', 'item', 'youngsters', 'agh', 'scruffy_blogger:', 'manage', 'nbc', 'piece', 'happened', 'understand', 'reunion', 'please', 'known', 'chow', 't-shirt', 'end', 'frightened', 'blobbo', 'bible', 'discuss', 'the', 'enthusiasm', 'ultimate', 'deal', 'friday', 'process', 'divine', 'determined', 'installed', 'phasing', 'grocery', 'depressant', 'windelle', 'talkers', 'perfume', 'fund', 'coms', 'phlegm', 'fat-free', 'hate', 'lindsay_naegle:', 'ivory', 'barf', \"how's\", 'awwww', 'football', 'lover', 'desperate', 'pro', 'nightmare', \"ridin'\", 'cat', 'feminist', 'help', 'wrong', 'practically', 'young_barfly:', 'snotball', 'smug', 'box', 'approval', 'ninety-nine', 'finish', 'exclusive:', 'triumphantly', \"stabbin'\", 'fighting', 'same', 'alec_baldwin:', \"calf's\", 'dame', 'painted', 'pint', 'choke', 'hibbert', 'cupid', 'kucinich', 'glen:', 'bleacher', 'dumptruck', 'blossoming', '70', 'p-k', \"handwriting's\", 'cranberry', 'friend:', 'face-macer', 'suspect', 'midnight', 'hiding', 'forehead', 'pipe', 'skinny', 'position', '_julius_hibbert:', 'nordiques', 'never', 'allowance', 'pepto-bismol', 'soot', \"showin'\", 'sign', 'meatpies', 'perch', \"kid's\", 'joey', 'date', 'minimum', 'unusually', 'average-looking', 'busted', 'scrubbing', 'somehow', 'choose', 'share', 'terror', 'eighty-three', 'sector', 'arm-pittish', 'street', 'quarter', 'chinese_restaurateur:', '_powers:', 'stewart', \"'er\", 'crap', 'sat', 'tracks', 'quadruple-sec', 'dead', 'dana_scully:', 'ralph', 'wiener', 'fragile', 'fold', 'pages', 'jeez', 'courteous', 'plucked', 'avalanche', 'careful', 'radishes', 'aged_moe:', 'delivery_man:', 'talkative', 'workers', 'binoculars', 'accurate', 'feat', 'novelty', 'pregnancy', 'wasting', 'playful', 'alcohol', 'brassiest', 'air', 'cats', \"dimwit's\", 'assert', 'dirt', 'spreads', 'steaming', 'easter', 'notorious', 'way', 'hunter', 'noises', 'straighten', 'into', 'toys', 'eighty-seven', 'mason', 'larry:', 'joe', 'finished', 'start', 'elaborate', 'young', 'fish', 'guest', \"'now\", 'arse', 'cozies', 'understood', 'twenty-six', 'log', 'dignity', 'often', 'accidents', 'loneliness', 'replaced', '||return||', 'aer', 'sympathy', 'hats', 'feed', \"tryin'\", \"drinkin'\", 'soothing', 'spooky', 'daaaaad', 'shag', 'mansions', 'elder', 'macbeth', 'bachelor', 'young_marge:', 'grow', 'u', 'hundreds', 'mixed', \"people's\", 'teach', \"mecca's\", 'bleak', 'voice', 'saucy', 'training', 'murmur', 'optimistic', 'amazing', 'failed', 'over-pronouncing', 'academy', 'disco_stu:', 'crooks', 'batmobile', 'octa-', 'natural', 'singer', 'prep', 'darkest', 'aquafresh', 'folks', 'lying', 'shooting', 'selling', 'bob', \"mo'\", 'tearfully', 'has', 'jay', 'hits', 'quitcher', 'what-for', 'lobster', \"squeezin'\", 'sight', 'forced', 'gently', 'grandé', 'infatuation', 'presidents', 'overhearing', 'hers', 'teacher', 'cologne', 'honest', 'refund', 'grave', 'romantic', 'wuss', 'creature', 'betcha', 'a-lug', 'director', 'champs', 'ignoring', 'splattered', \"thinkin'\", 'lobster-based', 'civic', 'chair', 'dryer', 'whoopi', 'animals', 'sports_announcer:', \"waitin'\", 'fellas', 'bite', 'saget', 'compliment', \"i'll\", 'what', \"president's\", 'startled', 'co-sign', 'letter', 'whaddya', 'disappear', 'man:', 'não', 'feeling', 'partly', 'raise', 'burning', 'rules', 'kept', 'stevie', 're-al', 'despite', 'dizzy', 'fence', 'presses', 'turkey', 'charm', 'bar', 'buttocks', \"how're\", 'scratcher', 'squeezed', 'obsessive-compulsive', 'powers', 'value', 'tax', 'harv', 'bags', 'x-men', \"d'ya\", 'beeps', 'in-in-in', 'kay', 'stairs', 'churchill', 'word', 'nein', 'captain', 'bulked', 'inclination', 'sealed', \"bladder's\", 'mistresses', 'snow', 'david_byrne:', 'paint', 'club', 'pissed', 'pretend', 'planet', 'george', 'grammys', 'distract', 'madison', 'difficult', 'espn', 'times', 'james', 'forbids', 'cleveland', 'survive', 'unlike', 'legs:', 'sobriety', 'schemes', 'spectacular', 'trust', 'intimacy', 'guff', 'starting', 'menace', 'record', 'lenford', 'director:', 'blend', 'bothered', 'johnny', 'intervention', 'shakespeare', 'duty', 'extended', 'taught', \"'til\", 'zinged', 'leg', 'fad', 'hub', 'babies', 'full-bodied', 'blinded', 'edgy', 'queer', 'breathtaking', 'grin', 'klingon', 'bread', 'gunk', 'freak', 'vigilante', 'unsafe', 'oww', 'scotch', 'trade', '||right_parentheses||', 'sent', 'pas', 'sagacity', 'period', 'curds', 'whatever', 'chew', 'oopsie', ':', 'friendly', 'slip', 'wide', 'killing', 'father', 'hike', \"dyin'\", 'occurred', \"grandmother's\", 'squeeze', 'nudge', 'mmmm', 'dry', 'fresh', 'occasion', 'uh-huh', 'reading', 'tire', 'to', 'writers', 'wondered', 'bret', 'phase', 'mulder', 'billy_the_kid:', 'fantastic', \"gettin'\", 'scene', 'monorails', 'aggie', 'freedom', 'foam', 'once', 'reasons', \"aren'tcha\", 'computer', 'slobbo', 'who', 'slyly', 'peppers', 'doreen', 'forgot', 'wiggle-frowns', 'anything', 'wood', 'ducked', 'press', 'figure', 'absolutely', 'milhouse', 'burn', 'hosting', 'lard', 'relax', 'hyahh', 'flynt', 'shout', 'capitol', \"crawlin'\", 'territorial', 'expose', 'raising', \"kearney's_dad:\", 'seconds', 'ford', \"others'\", 'dress', 'competing', 'bumpy-like', 'store', 'depression', 'thousands', 'haplessly', 'child', \"we're\", 'rope', 'stool', 'mention', 'crayon', 'us', \"yieldin'\", 'tang', 'oh', 'sudden', 'exhale', 'wayne', 'plenty', 'near', 'typing', 'trees', 'theatah', 'tuna', 'prison', 'knit', 'pond', 'conversations', 'twerpy', 'least', 'gotcha', 'pointy', 'acquitted', 'election', 'heartless', 'society', 'anyhow', 'figured', 'manuel', 'apartment', 'regulars', 'pretentious_rat_lover:', 'take', 'thighs', 'muffled', 'boyhood', 'maiden', 'travel', 'ticks', 'dumbest', 'sixteen', 'suffering', 'golden', \"how'd\", 'wally', 'pinball', 'rid', 'boat', 'derisive', 'pained', 'jewelry', 'talk-sings', 'distraught', 'desperately', 'airport', 'kisser', 'problemo', 'level', 'brightening', 'hygienically', 'cutie', 'turning', 'walked', 'alpha-crow', 'wanted', 'white', 'mickey', 'accusing', 'examples', 'tentative', 'woodchucks', 'drop', 'filled', 'driveability', 'helen', 'funeral', 'savings', 'flown', 'dessert', 'suing', 'odor', 'lib', '14', 'plans', 'whim', 'ees', 'virile', 'ad', 'uncle', 'rich', 'sat-is-fac-tion', 'therapy', 'reminds', 'payback', 'eva', 'vampires', 'rain', 'hangout', 'b', 'city', 'photographer', 'listen', 'closet', '250', 'killer', 'buyer', 'beam', 'john', 'lou:', 'neither', 'doug:', 'benjamin:', \"costume's\", 'michael_stipe:', 'coney', 'fritz', 'aunt', 'stays', 'clown-like', 'toasting', 'southern', 'needed', 'socialize', 'office', 'businessman_#1:', 'tokens', 'answer', 'blurbs', 'blank', 'comment', 'notably', 'micronesian', 'moon', 'bring', 'ointment', 'across', 'dreary', 'rubs', 'unless', 'disgusted', 'liquor', 'allegiance', 'heroism', 'bits', 'perking', 'heart-broken', 'intakes', 'dishonor', 'wishful', 'loyal', 'celeste', 'actually', 'will', 'cuff', \"c'mere\", 'answers', 'literary', 'retain', 'voters', 'swimming', 'welcome', 'melodramatic', 'involved', 'friend', 'sponsor', 'transylvania', 'message', 'rumor', 'snide', 'introduce', 'burp', \"tester's\", 'hushed', 'alone', 'barflies:', 'something', 'pizza', 'clothespins:', 'poorer', 'injury', 'nonsense', 'girlfriend', 'online', 'conspiratorial', 'forward', 'vincent', 'wheeeee', 'stained-glass', 'david', 'tinkle', 'sir', 'billingsley', 'cruiser', 'macaulay', \"lenny's\", 'amiable', 'brainiac', 'football_announcer:', 'hostages', 'extremely', 'cobbling', 'bauer', 'sobbing', 'breaking', 'complicated', 'renovations', 'ya', 'happens', 'prayer', 'railroad', 'four', 'considering', 'vulnerable', 'envy-tations', 'woozy', 'reactions', 'tomorrow', 'seats', 'farthest', 'ironed', 'cobra', 'utility', 'sly', \"don'tcha\", 'pit', 'cattle', 'wudgy', 'sings', 'gore', 'pronto', 'waitress', 'showered', 'dna', 'kicks', 'thirty-three', 'great', 'felony', 'bed', 'iranian', 'informant', 'defected', 'peeved', 'pursue', 'jubilation', 'unhappy', 'springfield', 'room', 'richard', 'ignorance', 'municipal', 'them', 'burns', \"you're\", 'drown', \"smackin'\", 'placed', \"tv'll\", 'yellow', 'pews', 'marriage', 'rockers', 'alfalfa', 'marge_simpson:', 'incarcerated', 'local', 'humiliation', \"somethin's\", 'pasta', 'voicemail', 'movies', 'wallet', 'eyes', 'blew', 'ihop', 'veux', 'aerosmith', 'mean', 'confidence', 'tin', 'thrown', 'regret', 'stationery', 'thought', 'bathtub', 'senators', 'soir', 'career', 'alibi', 'living', 'hiring', 'whaaa', 'try', 'scout', 'roses', \"fine-lookin'\", 'benefits', 'signed', '10:15', 'best', 'unkempt', 'bender:', 'giggle', 'len-ny', 'upon', 'enjoyed', 'feedbag', 'safecracker', 'had', 'bought', 'onto', 'getaway', 'packets', \"nixon's\", '3rd_voice:', 'hunka', 'blocked', 'solved', 'asleep', 'skins', 'fuss', 'betrayed', \"livin'\", 'exception:', \"they're\", 'treats', 'voice:', 'balloon', 'fox', 'richard:', 'sec_agent_#1:', 'slim', 'beep', 'lurleen_lumpkin:', 'load', 'error', 'brother-in-law', 'men', 'chili', 'life', \"'tis\", 'hose', 'soon', 'orifice', 'dee-fense', 'hardy', 'bowling', 'glass', 'enough', 'victorious', 'broke', \"'kay-zugg'\", 'glad', 'hank_williams_jr', 'ocean', 'wolfe', 'basement', 'swan', 'booger', 'suck', \"nick's\", 'ones', 'food', 'jack', 'marched', 'cowardly', 'confidential', 'muscles', 'statues', 'chance', 'hand', 'charming', 'alter', 'from', 'dawning', \"lovers'\", 'saw', 'garbage', 'easy-going', 'patty', \"stinkin'\", 'luxury', 'cheapskates', 'multiple', 'perverse', 'sassy', 'work', 'sharps', 'arrest', 'naturally', 'mister', 'howya', 'skunk', 'easier', 'steinbrenner', 'planned', 'boxing', 'suspiciously', 'mess', 'walking', 'law-abiding', 'passes', 'exited', 'drove', 'rolls', 'virility', 'tee', 'sympathizer', 'sooner', 'kennedy', 'priest', 'fury', 'irishman', 'crowbar', 'organ', 'closing', 'gal', 'oddest', 'based', 'hollywood', \"comin'\", 'breath', 'greatest', 'housing', 'label', 'everything', 'buying', 'delicious', 'knock-up', 'name', 'truck', 'someone', \"breakin'\", 'stripe', 'lately', 'black', 'they', 'information', 'app', 'dateline', 'peabody', 'floating', 'unrelated', 'invulnerable', 'opening', 'resenting', 'daughter', 'bulldozing', 'we-we-we', 'cushions', 'keys', 'tomato', 'agent', 'updated', 'stop', 'crazy', 'jerky', 'nameless', \"high-falutin'\", 'mice', 'laney', 'bear', 'thanking', 'ass', 'golf', 'drapes', 'mac-who', 'friction', 'el', 'remembering', 'lodge', 'ruled', 'crimes', 'california', 'maybe', 'invited', 'illegally', 'heals', 'leftover', 'winch', \"plank's\", 'generously', 'methinks', 'wind', 'grienke', 'school', 'cake', 'borrow', 'pleasant', 'thru', 'craft', 'novel', 'highest', 'hairs', 'robbers', 'stories', 'valley', 'bonding', 'bugging', 'customers-slash-only', 'mobile', 'wikipedia', 'thousand-year', 'program', 'pre-columbian', 'adult_bart:', 'environment', \"wallet's\", 'parrot', 'hibachi', 'anymore', 'don', 'masks', 'jar', 'throats', 'settled', 'sheet', 'emotion', 'sidelines', 'rods', 'manfred', \"wouldn't\", 'you-need-man', 'counter', 'papa', 'makes', 'pulled', 'burger', 'lipo', 'herself', \"battin'\", 'kickoff', 'politician', 'stagehand:', 'fights', 'kidding', 'engraved', 'superpower', 'assumed', 'are', 'frogs', 'faced', 'kill', \"snappin'\", 'ambrosia', 'strap', 'maya:', \"it'd\", 'arts', 'teacup', 'junkyard', 'heads', 'seamstress', 'tail', 'beauty', 'appeals', 'spiritual', 'die-hard', 'gimmicks', 'gabriel', 'bitter', 'sanitation', 'red', 'prime', \"playin'\", 'bowl', 'ripping', 'padre', 'non-losers', 'lights', 'roller', 'plum', \"cleanin'\", 'mmmmm', 'grammar', 'crayola', 'seeing', 'broom', 'maher', 'compromise:', 'young_moe:', 'ate', 'unfresh', \"burnin'\", 'perhaps', 'experience', 'investment', 'losing', 'conditioners', 'yee-ha', 'sells', 'guy', 'crow', 'without:', 'sagely', 'wayne:', \"sayin'\", 'aw', 'benjamin', 'hydrant', 'turlet', 'nature', 'newly-published', 'personal', 'honor', 'dogs', 'inexorable', 'experiments', 'chief_wiggum:', 'superior', 'bart', 'hopeful', \"let's\", \"you'll\", 'intoxicated', 'talk', 'bowie', 'willing', 'decide', 'poke', 'easily', \"dad's\", 'bastard', 'designated', 'perfunctory', 'orphan', 'sing', 'ungrateful', 'shelbyville', 'language', 'flush-town', 'art', 'crossed', 'schabadoo', 'pants', 'fox_mulder:', 'broadway', 'fellow', 'musta', 'ceremony', 'babar', 'hangover', 'memories', 'sunday', 'winks', 'dude', 'intelligent', 'month', 'this', 'produce', 'whether', 'delays', 'occupied', 'stingy', \"show's\", 'dunno', 'tank', 'lanes', 'yogurt', 'celebrities', 'rob', 'lis', 'badly', 'laughing', 'test-', 'sitting', 'price', 'fudd', 'eminence', 'tough', 'clapping', 'ebullient', 'gambler', 'old', 'ideal', \"cuckold's\", \"it'll\", \"listenin'\", 'coast', 'set', 'mailbox', 'wistful', 'lucius', 'winning', 'planted', 'occupation', 'stonewall', 'alcoholism', 'mayan', 'lemonade', 'oak', 'vicious', 'finest', 'hooked', 'add', 'triple-sec', 'return', 'gasps', 'counting', 'malabar', \"tatum'll\", 'splash', 'cents', 'fustigation', 'pudgy', \"i'd\", 'open-casket', 'heave-ho', 'adeleine', 'exit', 'enlightened', 'latin', 'along', \"monroe's\", 'him', 'diapers', 'womb', 'lloyd:', 'mabel', 'kent', 'close', 'drank', 'fishing', 'kadlubowski', 'yesterday', 'counterfeit', 'protesting', 'true', 'glove', 'mini-dumpsters', 'elmer', 'cell-ee', 'alien', 'heaven', \"lady's\", 'woe:', 'sap', 'rings', 'luckiest', 'nemo', \"hangin'\", 'chubby', 'gum', 'snorts', 'duke', 'fixes', 'exits', 'blob', 'windowshade', 'bad', 'drunks', 'worldview', 'evils', 'campaign', \"coffee'll\", 'associate', 'brothers', 'crowds', 'szyslak', 'two', 'kako:', 'mis-statement', 'mel', 'someplace', 'occasional', 'experienced', 'caholic', \"could've\", 'clap', 'fourteen:', 'mumble', 'wakede', 'carlson', 'nauseous', \"what're\", 'test', 'democrats', 'snapping', 'brockelstein', 'glee', 'depending', 'expired', 'floated', 'loafers', 'crowned', 'shoo', 'hooky', 'skeptical', 'sneak', 'snort', 'pointed', 'gun', 'lied', 'in-ground', 'teenage_barney:', 'jerking', 'neat', 'birthday', 'rub', 'advertise', \"what'll\", 'anderson', 'sue', 'whee', 'flying', 'videotaped', 'twelve-step', 'model', 'awe', 'upset', 'gallon', 'game', 'punches', 'patient', 'terminated', 'rag', 'arguing', 'lots', 'show', \"who's\", \"springfield's\", 'luckily', \"secret's\", 'elect', 'pigs', 'deeper', 'sleeping', 'coyly', 'dreamy', 'tanking', 'trashed', 'para', 'op', 'vampire', 'tune', 'drederick', 'guiltily', 'polygon', 'sunny', 'singing/pushing', 'twenty', 'scent', 'sweetheart', 'much', '21', 'je', 'stocking', '4x4', 'strokkur', 'vacuum', 'grease', 'sing-song', 'dark', 'flophouse', 'relationship', 'oooh', 'toxins', 'abercrombie', 'tv_daughter:', 'ref', 'alls', 'tongue', 'chilly', 'bar_rag:', 'chauffeur', 'canyoner-oooo', 'awareness', \"tellin'\", 'dull', 'wobble', 'literature', 'soaking', 'rush', 'design', 'move', 'goldarnit', 'their', 'causes', 'touch', 'salvador', 'it', 'shocked', 'guts', 'carefully', 'roach', 'health_inspector:', 'fat', 'heart', 'offensive', 'stillwater:', 'pleading', 'uncomfortable', 'moan', 'anyhoo', 'lord', 'horrified', 'fit', 'potato', 'fortune', 'shakes', 'plums', 'buried', 'payments', 'loudly', 'inspector', 'science', 'madman', 'represent', 'options', 'pig', 'private', 'warranty', 'though', 'metal', 'third', 'special', 'realizing', 'might', 'effect', 'peace', 'feels', 'onions', 'gol-dangit', 'chuckle', 'appropriate', 'gives', 'kirk_van_houten:', 'thoughtfully', 'fica', 'landfill', 'owe', 'butt', 'wrecking', 'impress', 'bag', 'pickles', 'trail', 'na', 'limber', 'went', 'vacations', 'lone', 'amount', 'beats', 'handler', 'surprised', 'successful', 'chapel', 'catch', 'bronco', 'foundation', 'weapon', 'ginger', 'streetlights', 'irrelevant', 'presumir', 'followed', 'actor', 'lindsay', 'figures', \"ball's\", 'toilet', 'mmm', 'lungs', 'stupid', 'corner', 'safe', 'bums', 'hear', 'ripper', 'familiar', 'charity', 'unlucky', \"lisa's\", 'cleaning', 'damned', \"son's\", 'harder', 'upgrade', 'shirt', 'youuu', 'brunswick', 'fourth', 'mayor_joe_quimby:', 'pickle', 'exhaust', 'wall', \"buyin'\", 'ab', 'temple', 'falling', 'reaches', 'looks', 'eurotrash', 'i/you', 'woman', 'dr', 'sister-in-law', 'flea:', 'ahhh', 'portfolium', 'libido', 'pub', 'continuum', 'grampa', 'moe-ron', 'code', 'vance', 'sheets', 'conditioner', 'sheepish', 'sustain', 'wrap', 'moe_szyslak:', 'kicked', 'totally', 'law', 'chorus:', 'romance', 'nineteen', 'after', 'mortal', 'declare', 'neighbors', \"where's\", 'texas', 'judges', 'biggest', \"tootin'\", 'mom', 'cecil', 'cruel', 'yourself', 'expecting', 'doll-baby', 'toledo', 'commission', 'monday', 'goal', \"watchin'\", 'horses', 'recap:', 'unfamiliar', 'truth', 'quarry', 'sniffs', 'easy', 'crank', 'cable', '35', 'ghouls', 'runners', 'gift:', 'hearing', 'blade', \"countin'\", \"homer's\", 'decadent', 'give', 'alive', 'why', 'simple', 'juice', 'later', \"'bout\", \"messin'\", 'control', 'hurts', 'steel', 'ancestors', 'premiering', 'hammer', 'busy', 'groin', 'loves', 'positive', 'ten', 'bones', 'donate', 'news', 'cruise', 'dollface', 'deer', 'boring', 'blamed', 'damage', 'stan', 'ready', 'capitalists', 'blooded', 'vacation', 'disapproving', 'fluoroscope', 'punk', 'saga', 'yell', 'tv_husband:', 'together', 'sincere', 'new_health_inspector:', 'carnival', 'quotes', 'realized', 'ahh', 'moron', 'africanized', 'homers', 'wipe', 'fork', 'smokes', 'steak', 'bash', 'symphonies', 'bake', 'confident', 'depressed', 'power', 'cries', 'barkeep', 'buffalo', 'tactful', 'religious', 'chug-monkeys', \"children's\", 'shaky', 'beating', 'rookie', 'panicky', 'bless', 'honored', 'however', \"'\", 'adjust', 'outlive', 'peeping', 'sixty', 'jackass', 'bank', 'awfully', 'mistakes', 'pushing', 'afraid', 'eu', 'ziffcorp', 'nail', 'weirded-out', 'scores', 'fumes', 'tells', 'pennies', 'agent_miller:', 'marmaduke', 'self-satisfied', 'mostly', 'attention', 'skydiving', 'gruff', 'smoker', 'drummer', 'principles', 'completely', 'arms', 'legal', 'mommy', 'blowfish', 'recommend', 'magazine', 'dumbbell', 'certificate', 'meals', 'braun:', 'clandestine', 'knock', 'good-looking', 'dreamed', 'boo', 'boozehound', 'newsletter', 'rocks', 'verdict', 'chug-a-lug', 'scram', 'adventure', 'gin', 'shareholder', 'jerry', 'transfer', 'edison', 'idea', 'apulina', 'nonchalantly', 'naked', 'case', 'handle', 'reciting', 'problems', 'team', \"somethin':\", 'purse', 'liven', \"shouldn't\", 'fight', 'privacy', 'casting', 'nightmares', 'some', \"bo's\", 'hospital', 'dressing', 'haiti', 'lisa_simpson:', 'fast-food', \"enjoyin'\", 'horrors', 'torn', 'yap', 'picky', 'glorious', 'lofty', 'mild', 'wantcha', 'baby', 'built', 'jobless', 'motorcycle', 'jail', 'incapable', 'recorded', 'term', 'radiator', 'rhyme', 'twenty-four', 'renee:', 'kyoto', 'patty_bouvier:', 'insecure', 'nearly', 'contented', 'managing', 'excuse', 'goo', 'aah', 'chip', 'legoland', 'sale', 'producers', '||quotation_mark||', 'self', 'prepared', 'smile:', 'edna_krabappel-flanders:', 'sucker', 'panicked', 'shorter', 'trouble', 'old-time', '||period||', 'corpses', 'rancid', \"y'see\", 'network', 'statue', 'bunch', \"that'll\", 'h', 'leak', 'present', 'soft', 'napkins', 'most', 'thomas', 'steampunk', 'promotion', 'jumping', \"tree's\", 'barney', 'marge', 'creepy', 'starve', 'odd', 'skirt', 'since', 'straining', 'answered', 'jockey', \"poisonin'\", 'meanwhile', 'bill_james:', 'diaper', 'shaking', 'belts', 'frankenstein', 'princesses', 'equivalent', 'singing', 'badges', 'mural', 'cecil_terwilliger:', 'glen', 'neighbor', \"beggin'\", 'snitch', 'thirty-nine', 'cross-country', 'arrange', 'stood', 'cannoli', 'example', 'life-partner', 'drinks', \"i've\", 'ripcord', 'tv_announcer:', 'tolerance', 'sky', 'coming', 'fail', 'lives', 'feelings', 'dumb', 'e-z', 'imaginary', 'credit', \"brockman's\", 'hilarious', \"cupid's\", 'thrust', 'ech', 'knife', 'stones', 'wraps', 'unbelievably', 'kindly', 'does', 'warren', 'barbara', 'she', \"o'clock\", 'presided', 'high-definition', 'bloodiest', 'inserts', 'terrific', 'nantucket', 'grandiose', 'thunder', 'shades', 'goblins', 'patron_#1:', 'lovely', 'with', 'hearse', 'wooooo', 's', 'fool', 'shock', 'friendship', 'jam', 'acronyms', 'season', 'phone', 'radioactive', 'freely', 'murmurs', 'seas', 'puke-holes', 'unjustly', 'jukebox', 'grudgingly', 'favor', 'various', 'belt', 'proof', 'dory', 'spirit', 'heliotrope', 'kemi', 'ribbon', 'puff', 'ashamed', 'signal', 'asks', 'lame', 'ordered', 'doof', 'toward', 'sad', 'looooooooooooooooooong', 'b-day', 'instrument', 'beligerent', 'orgasmville', 'weak', 'trash', 'smurfs', 'nelson_muntz:', 'dear', 'whatchamacallit', 'professor', 'paintings', 'helped', 'bright', 'eager', 'entire', 'glitterati', \"renee's\", 'squadron', '/', 'bad-mouth', 'sweaty', 'wear', \"other's\", 'indecipherable', 'coach:', 'sugar-me-do', 'wash', 'decision', 'hockey-fight', 'chapstick', 'gear-head', 'putty', 'ireland', 'sorts', 'expense', 'shutup', 'fastest', 'remember', 'specialists', 'stay-puft', 'administration', 'apart', 'product', 'splendid', 'number', 'back', 'crack', 'force', 'pernt', 'w', 'adopted', 'single-mindedness', 'dreams', 'brow', 'sweetie', 'm', 'aboard', 'all-all-all', 'during', 'years', 'eddie:', 'army', 'husband', 'shrugging', 'isotopes', 'femininity', 'totalitarians', 'surprise', 'theatrical', 'holds', 'order', 'gut', 'yammering', 'swooning', 'pays', 'yoo', 'fdic', 'milks', 'african', 'worked', 'beings', 'aiden', 'pledge', 'ourselves', 'pouring', \"wearin'\", 'evil', 'buds', 'works', 'mozzarella', 'almost', 'winston', 'f-l-a-n-r-d-s', 'glitz', 'memory', 'soul-crushing', 'professional', 'kent_brockman:', 'sieben-gruben', 'precious', 'normal', 'following', \"eatin'\", 'story', 'babe', 'buzziness', 'tablecloth', 'sucking', 'heading', 'alma', 'as', \"we'd\", 'show-off', 'cream', 'aged', 'highball', 'strategy', 'selective', 'artie', 'barflies', 'farewell', 'lenny_leonard:', 'music', 'restless', 'lurleen', 'paying', 'booze-bags', 'proposing', 'hare-brained', \"can't\", 'mmm-hmm', 'agreement', 'spews', \"collector's\", 'guide', 'heather', 'wealthy', \"fendin'\", 'relieved', 'tender', 'fustigate', 'moment', 'jasper_beardly:', 'guns', 'thinks', 'cigars', 'sweat', 'riding', 'left', 'passports', 'sun', 'filth', 'march', 'immiggants', \"narratin'\", 'live', \"neighbor's\", 'knowing', 'grains', 'women', 'sub-monkeys', 'barely', 'absentmindedly', 'repeated', 'lurks', 'sweet', 'sotto', 'ring', 'winded', 'so-ng', 'sissy', 'grub', 'doubt', 'oil', \"money's\", 'supermodel', 'cup', 'bumped', 'cage', 'house', 'firing', 'elizabeth', 'serve', 'issues', 'expression', 'older', 'funny', 'european', 'lifetime', 'amused', 'f', 'offer', 'allow', 'vulgar', 'strategizing', 'woman:', 'telephone', \"rentin'\", 'lorre', 'tasty', 'ralphie', 'check', 'delicately', 'specials', 'rule', 'cushion', \"sat's\", 'the_rich_texan:', 'tense', 'cost', 'lou', 'butter', 'exact', 'cyrano', \"when's\", 'awww', 'dice', 'reminded', 'coal', 'emporium', 'tear', 'sleigh-horses', 'helping', \"cashin'\", 'teriyaki', 'sport', 'polls', 'irish', 'dracula', 'chumbawamba', 'mad', 'nucular', 'clean', 'sincerely', 'chum', 'destroyed', 'l', 'assassination', \"cat's\", 'warn', 'smoke', 'play', \"we'll\", 'stagey', \"man's_voice:\", 'cash', 'how', 'clear', 'sudoku', 'exchanged', 'allowed', 'proudly', 'eliminate', 'amber', 'bucks', 'god', 'lovers', 'eddie', 'syndicate', 'blow', 'frescas', 'super-nice', 'alky', 'denver', 'amber_dempsey:', 'woo-hoo', 'weirder', 'yourse', 'rupert_murdoch:', 'moe-clone', 'crowded', 'wrestling', 'vengeance', 'passenger', 'pull', 'poking', 'comedies', 'starlets', 'sugar-free', 'exhibit', 'jovial', 'raging', 'dateline:', 'theme', 'cigarette', 'gasp', 'book_club_member:', 'parked', 'monroe', 'according', 'its', 'mexicans', 'oh-ho', 'eve', 'doing', 'manjula', 'finding', 'bon-bons', 'starla', 'flag', 'boys', 'conference', 'mckinley', 'diet', 'boxer', 'eco-fraud', 'sass', 'late', 'advance', 'kidnaps', 'chic', 'slice', 'estranged', 'published', 'ivy-covered', 'contractors', 'relaxing', 'earrings', 'violations', 'marjorie', 'drains', 'settlement', 'adjourned', 'my', 'little_hibbert_girl:', 'microphone', 'accent', 'scully', 'persia', 'lenses', 'fritz:', 'rainier_wolfcastle:', 'breakdown', 'sensible', 'on', 'admirer', 'gosh', \"'cept\", 'phony', 'aisle', 'clams', 'evening', 'heh', 'compliments', 'flaming', \"fallin'\", 'shifty', 'thing', 'blame', 'tv', 'punkin', 'frenchman', 'bird', 'pinchpenny', 'favorite', 'feel', 'authenticity', 'starla:', 'medical', 'dan', 'daniel', 'whup', \"i'm-so-stupid\", \"gentleman's\", 'eighty-one', 'stupidly', 'frankly', 'poet', 'eighteen', 'chase', 'diamond', 'space', 'classy', 'audience:', 'mock', 'soap', 'owner', 'tourist', 'cell', 'jeff', 'boisterous', 'churchy', \"that'd\", 'results', 'mags', 'con', 'front', \"man'd\", 'broken', 'pall', 'wears', 'thought_bubble_homer:', 'sprawl', 'dressed', 'jubilant', 'hungry', 'supplying', \"idea's\", 'montrer', 'neanderthal', 'rolled', 'jelly', 'blubberino', \"something's\", 'pardon', 'america', 'deliberate', '||question_mark||', 'furious', 'rome', 'chief', 'catching', 'birth', 'owned', 'flower', 'psst', 'continued', '7g', 'save', 'cheering', 'hates', 'list', 'yourselves', 'soaps', 'prolonged', 'knees', \"spyin'\", 'see', \"hadn't\", 'sneeze', 'history', 'nailed', 'earth', 'bartender', 'today/', 'intoxicants', 'brakes', 'hook', 'me', 'yawns', 'his', 'duffed', 'pink', 'commit', 'blows', \"year's\", \"startin'\", 'acting', \"wait'll\", 'gutenberg', 'pills', \"nothin's\", 'fumigated', 'wigs', 'pleasure', 'tow-joes', 'hop', 'wedding', 'pine', 'bunion', 'snaps', 'baseball', 'briefly', 'focused', 'three', 'created', 'christian', 'woo', 'statesmanlike', 'slap', 'floor', 'original', 'tease', 'nose', 'carve', 'slays', 'heck', 'chunky', 'damn', 'tavern', 'funds', 'be-stainèd', 'nasa', 'warmth', 'matter', 'flashbacks', 'behavior', 'knuckle-dragging', 'family-owned', 'picnic', \"they'd\", \"soundin'\", 'unforgettable', 'overstressed', 'meeting', 'pal', 'wangs', 'die', 'used', 'laughs', 'ooo', 'announcer:', 'vanities', 'dollar', 'meet', 'paparazzo', \"duelin'\", 'mouth', 'washer', 'fry', 'misfire', 'exquisite', 'french', 'appearance-altering', 'cookies', 'expert', 'tabs', 'sunk', 'rationalizing', 'stealings', 'half-beer', 'uhhhh', 'channel', 'book', 'geysir', 'bono', 'pepsi', 'pus-bucket', 'clown', 'sober', 'activity', 'coy', 'protesters', 'hugh:', 'indigenous', 'mystery', \"summer's\", 'joy', 'customer', 'homesick', 'a-a-b-b-a', 'upn', '_kissingher:', 'searching', \"lefty's\", \"tony's\", 'kodos:', 'bet', 'cronies', 'land', 'well-wisher', 'aging', \"cheerin'\", 'suddenly', \"'im\", 'thankful', 'assistant', 'tv-station_announcer:', 'combination', 'anarchy', 'stole', 'iddilies', 'taste', 'place', 'watch', 'resist', 'indifference', 'heavyweight', 'united', 'able', 'states', 'must', 'lobster-politans', 'sen', 'inspection', 'cletus_spuckler:', 'languages', 'joint', 'ingrates', 'refinanced', 'omit', 'formico', 'background', 'mouse', 'senator', 'ingredient', 'promise', 'trench', 'delightfully', 'nope', 'nervously', 'darn', 'says', 'delivery', 'guys', 'asked', 'increased', 'salvation', 'compadre', 'wife', 'carpet', 'ripped', 'snackie', 'mind', 'fiiiiile', 'chest', 'admit', \"rasputin's\", 'chateau', 'fan', 'grumpy', \"'pu\", 'si-lent', 'pretending', 'pickled', 'material', \"where'd\", 'prettiest', 'drug', 'wonder', 'geyser', 'dumpster', 'wants', 'crotch', 'tenuous', 'italian', 'reaching', 'road', 'around', 'scrutinizing', 'arrived', 'brusque', 'data', \"'roids\", 'agent_johnson:', \"toot's\", 'pass', 'hemorrhage-amundo', 'rainforest', 'sitar', 'desire', 'jay:', 'lemme', 'replace', 'selfish', 'cure', 'outlook', 'firm', 'patrons:', 'detective_homer_simpson:', \"bart'd\", 'locklear', 'backward', 'peanuts', 'although', 'matter-of-fact', 'clock', 'i', 'telemarketing', 'reflected', 'buddies', 'east', 'coins', 'wow', 'toss', 'loboto-moth', 'swe-ee-ee-ee-eet', 'slit', 'entering', 'challenge', 'agency', 'cocktail', 'donated', 'flanders:', 'tobacky', 'kid', 'compels', 'boston', 'snake_jailbird:', 'skills', 'seymour', 'nelson', 'dig', 'cow', \"wasn't\", 'turned', 'november', 'feisty', 'bartending', 'moments', 'listening', 'crapmore', 'shred', 'yew', 'tooth', 'raggie', \"cont'd:\", 'side', 'wad', 'strongly', 'nominated', 'hotel', 'brotherhood', 'growing', 'stay', 'x', 'warily', '_zander:', 'fwooof', 'away', 'always', 'cheaped', 'formico:', 'tears', 'bourbon', 'schnapps', 'players', 'anybody', 'champignons', 'bedbugs', 'bedridden', 'aggravazes', 'trying', 'peter', 'strips', 'expensive', 'karaoke_machine:', 'rip-off', 'sketch', 'duff_announcer:', 'attack', 'correction', 'poplar', 'jacques', 'innocuous', 'speed', 'carb', 'minute', 'boy', 'muslim', 'hero-phobia', 'though:', 'teddy', 'rebuilt', 'crumble', 'lazy', \"aren't\", 'schedule', 'rhode', 'therapist', 'deserve', 'notch', 'girl', 'oof', 'decide:', 'strictly', 'smelling', 'business', 'neck', 'met', 'greatly', \"d'\", 'theater', 'fonda', 'afford', 'museum', 'cleaned', 'miles', 'boxers', 'part-time', 'nards', 'court', 'handoff', 'politicians', 'pain', 'punching', 'scarf', 'corkscrew', 'mexican', 'sometimes', 'bartholomé:', 'snake', 'barn', 'low', 'disposal', 'gentleman:', 'exchange', 'grab', 'apology', 'coherent', 'telling', 'tha', 'thing:', 'sideshow_bob:', 'draw', 'bust', 'suicide', 'right-handed', 'get', \"wonderin'\", 'ails', 'gunter', 'trucks', 'beginning', 'numeral', 'my-y-y-y-y-y', 'song', 'merchants', 'nah', 'swill', 'dennis', 'knew', 'brought', \"moe's_thoughts:\", 'sitcom', 'rabbits', 'absorbent', 'go', 'british', 'brings', 'bashir', 'pride', 'touched', 'dramatically', 'noosey', 'night', '530', 'girls', 'spelling', 'groan', 'brooklyn', 'trip', 'dames', 'escort', 'rewound', 'pick', 'couple', 'delts', 'hoo', 'gil_gunderson:', \"doin'\", 'more', 'miracle', 'hoped', 'spot', 'average', 'hottest', 'priceless', 'spied', 'slipped', 'othello', 'sex', 'malibu', 'safety', 'future', 'zero', 'chips', 'brainheaded', 'attracted', 'linda_ronstadt:', 'uninhibited', 'microwave', 'catch-phrase', 'billiard', 'cesss', \"stealin'\", 'palm', 'mccall', 'kinda', 'impeach', 'trick', 'cowboy', 'banks', 'twelve', 'delighted', 'rusty', 'recipe', 'choices', 'remains', 'quero', 'weird', 'annus', 'turn', 'burglary', 'speech', 'astonishment', 'frozen', 'reach', 'closes', 'beans', 'ruby-studded', 'executive', 'weep', 'heaving', 'occurrence', 'inspire', 'giving', 'lotsa', 'joey_kramer:', 'racially-diverse', 'louder', 'gruesome', 'necessary', 'dynamite', 'sausage', 'island', 'k-zug', 'polishing', 'whatchacallit', 'guinea', 'beyond', 'helpful', 'subscriptions', 'refresh', 'eyeball', 'protecting', 'forget-me-shot', 'higher', 'moans', 'colonel:', 'hands', 'sam:', 'c', 'package', 'intention', 'teenage_bart:', 'pizzicato', 'charlie', 'pats', 'listens', 'hugh', 'shard', 'lee', 'slop', 'hellhole', 'saturday', 'quebec', 'drivers', 'nahasapeemapetilon', 'told', 'break-up', 'kansas', 'coined', 'shape', 'drink', 'suave', 'insulted', 'victory', 'forget-me-drinks', 'examines', 'blur', 'justify', 'disgraceful', 'screw', 'rutabaga', 'groans', \"he'd\", 'fist', \"ain't\", 'world', 'cab_driver:', 'stinger', 'shaken', 'buttons', 'ninety-seven', 'chuck', 'reentering', 'declan', 'rent', 'paints', \"boy's\", 'flourish', 'eww', 'suspenders', 'japanese', 'lighting', 'enforced', 'apu', 'minister', 'such', 'english', 'rascals', 'liver', 'soaked', 'stab', 'monkeyshines', 'found', 'heard', 'earpiece', 'age', 'vermont', 'beer-dorf', 'flashing', 'life-extension', 'confused', 'wing', 'at', 'doctor', 'thinking', 'beer-jerks', 'tempting', 'poetry', 'intruding', 'backbone', 'making', 'fainted', 'sleeps', 'bald', 'decided', 'ned', 'partially', 'wok', 'employees', 'stupidest', 'sit', 'spamming', \"nothin'\", 'harvesting', 'badmouths', 'contemplates', 'stand', 'advantage', \"makin'\", 'scatter', 'poured', 'unlocked', 'four-drink', 'meaningful', \"he's\", 'including', 'shoot', 'mount', \"what'sa\", 'pawed', 'cleaner', 'badmouth', 'terrified', \"edna's\", 'extinguishers', 'looked', 'murderously', 'recorder', \"now's\", 'gator:', 'courage', 'yeah', 'enhance', 'goodnight', 'family', 'employment', 'pajamas', 'mint', 'go-near-', 'wa', 'combine', 'wha', 'was', 'choked', 'kahlua', 'appointment', \"'evening\", 'lease', 'ruuuule', 'exactly', 'guilt', 'albeit', 'e', 'nasty', 'contemplated', 'job', 'calm', 'shyly', 'pretends', 'forgotten', 'haw', 'sickens', 'pope', 'tidy', 'sesame', 'when', 'pair', \"bar's\", 'dictator', 'bleeding', 'mrs', 'lift', 'droning', 'ziff', 'ingested', 'reality', 'fridge', 'fringe', 'amazed', 'gets', 'washouts', 'gr-aargh', 'boyfriend', 'brandy', 'slobs', 'idiot', 'limits', 'stickers', 'sinister', 'awesome', 'modestly', 'gluten', 'barber', 'meant', 'hops', 'youse', 'compressions', 'barney-type', 'sooo', 'poison', 'falsetto', 'unbelievable', 'look', 'dirge-like', 'sizes', 'chinua', 'senators:', 'woulda', 'delicate', 'sandwich', 'grand', 'assume', 'sweetest', 'pantry', 'secrets', 'peaked', 'andalay', 'coward', 'tuborg', 'furniture', 'beards', 'said:', 'plywood', 'ehhhhhhhh', \"ma's\", 'holy', 'manchego', 'find', 'libraries', 'satisfied', 'england', 'brave', 'donuts', '100', 'ivana', 'items', 'sports', 'reason', 'graves', 'vehicle', 'manipulation', 'ding-a-ding-ding-ding-ding-ding-ding', 'only', 'bedtime', 'skoal', 'glamour', 'vin', 'terrace', 'troy_mcclure:', 'legally', 'cheap', 'dinner', \"drawin'\", 'patented', 'donation', 'choice', 'backgammon', 'bathroom', 'health', 'tsking', \"betsy'll\", 'samples', 'uncreeped-out', 'feet', 'per', 'life-threatening', 'manjula_nahasapeemapetilon:', 'studied', 'got', 'mock-up', 'artie_ziff:', 'goodwill', 'mathis', 'praise', 'nuclear', 'pictured', 'grieving', 'salad', 'bluff', 'tying', 'sell', 'collette:', 'certified', 'mike_mills:', 'industry', 'drag', 'viva', 'dishrag', \"speakin'\", 'rainier', 'swine', 'gifts', 'south', 'source', 'ho-ly', 'also', \"england's\", 'pets', 'sneering', 'jane', 'good', 'rats', 'disturbance', 'looking', 'chain', 'norway', 'passion', 'outside', 'supervising', 'days', 'win', 'gloop', 'crippling', 'rage', 'alarm', 'stops', 'medicine', 'led', 'sail', 'conversion', 'gumbel', 'film', 'zoomed', 'stuck', 'stalin', 'understood:', 'artist', 'predictable', 'amnesia', 'piano', 'wearing', 'patting', 'eight-year-old', 'dispenser', 'ali', 'reached', 'seen', \"donatin'\", 'steely-eyed', 'fresco', 'handed', 'sec', 'erasers', 'leno', 'slaves', 'zeal', \"tomorrow's\", 'philosophical', 'infor', 'bursts', 'considers', 'working', 'easygoing', 'stalwart', 'admitting', 'swimmers', 'charge', 'gentles', 'forgiven', 'scam', 'roll', 'insightful', 'incredible', 'sideshow', 'michelin', 'shtick', 'half-day', 'chicks', 'mouths', 'fuhgetaboutit', 'standing', 'dearest', 'website', 'dang', 'generally', 'eye', 'innocence', 'sexy', 'won', 'multi-national', 'citizens', 'simpson', 'diets', 'answering', 'brown', 'jury', 'monster', 'whatsit', 'eightball', 'indifferent', 'tiger', 'itself', 'killjoy', 'launch', 'susie-q', 'twenty-two', 'crummy', 'andrew', 'this:', 'joining', 'typed', 'do', 'willy', 'came', 'charged', 'drawing', 'handwriting', 'explanation', 'breaks', 'arimasen', 'olive', 'nigerian', 'fleabag', 'lessons', 'agnes_skinner:', 'butts', 'egg', 'smelly', 'railroads', \"singin'\", 'caught', 'mcstagger', 'dinks', 'cent', 'going', 'murdoch', 'words', 'transmission', 'generosity', 'dictating', 'hurting', 'busiest', 'businessman_#2:', 'sorry', 'ignorant', 'appreciate', 'country-fried', 'contemptuous', 'banned', 'wieners', 'small', 'kazoo', 'jams', 'male_singers:', 'hi', 'winces', 'permanent', 'protestantism', 'then:', 'calling', 'sack', \"i'unno\", 'spent', 'test-lady', 'domed', 'warned', '7-year-old_brockman:', 'tabooger', 'whirlybird', 'lists', 'ancient', 'reckless', 'flash', 'diablo', 'powered', 'seven', 'mike', \"carl's\", 'fevered', 'studio', 'themselves', 'terrifying', 'still', 'booking', 'standards', 'halfway', 'maxed', 'walk', 'snotty', 'bide', \"c'mom\", 'name:', 'smell', 'sometime', 'and:', \"bartender's\", 'horrible', 'sniffles', 'simp-sonnnn', 'issuing', 'mall', 'dennis_kucinich:', 'invented', 'competitive', 'honeys', 'sweater', 'dive', 'lock', 'unison', 'sec_agent_#2:', 'scientists', 'hems', 'lookalike:', 'savvy', 'boozy', 'ratio', 'learn', 'rekindle', 'talked', 'refreshing', 'knives', 'grubby', 'naval', 'kwik-e-mart', 'waking-up', 'graveyard', 'mid-conversation', 'eats', 'lenny', 'huggenkiss', 'joined', 'ahhhh', 'headhunters', 'teenage_homer:', 'treat', 'rummy', 'undated', 'ton', 'pointedly', 'curiosity', 'brain', 'up', 'putting', 'one-hour', 'muttering', 'forty', 'larry', 'hmmmm', 'dea-d-d-dead', 'presto:', 'breathalyzer', 'flowers', 'pridesters:', 'fbi', 'bid', 'lucinda', 'next', 'robin', 'put', 'retired', 'rented', 'character', 'temp', 'hafta', 'military', 'fast', 'customers', 'blessing', \"b-52's:\", 'any', 'ned_flanders:', 'louisiana', 'lisa', 'smooth', \"that's\", 'bliss', 'tapping', 'cerebral', 'lucius:', 'coaster', 'ninety-six', 'ehhh', 'car:', 'recent', 'whatcha', 'cannot', 'goodbye', 'johnny_carson:', 'yard', 'bow', 'blackjack', 'title', 'carey', 'banquo', \"shan't\", 'fine', \"guy's\", 'seems', 'gang', 'slender', 'fella', 'grinch', 'gasoline', 'beat', 'question', 'cherry', 'candidate', \"o'reilly\", 'whoa-ho', 'mid-seventies', 'laugh', 'habitrail', 'sob', 'fledgling', 'overflowing', 'natured', 'wore', \"professor's\", 'sighs', 'being', 'bugs', 'other_player:', 'hunky', 'gamble', 'reading:', 'thorn', 'anti-lock', 'opens', 'encores', 'many', 'repressed', \"life's\", 'could', 'huhza', 'plastered', 'colorado', 'nervous', 'cool', 'taps', 'stores', 'payday', 'played', 'offended', 'lager', 'snail', 'harvey', 'ling', 'cocking', 'emergency', 'shoes', 'read:', 'gee', 'releases', 'sternly', 'but', 'seriously', 'ayyy', 'star', 'resolution', 'ladder', 'slapped', 'uses', 'santeria', 'coincidentally', 'mitts', \"'morning\", 'top', 'choking', 'meditative', 'yo', 'comic_book_guy:', \"drexel's\", 'hourly', 'all-american', '2', 'koji', 'y-you', \"mopin'\", 'today', 'remorseful', 'lance', 'buddy', 'bartenders', 'impatient', 'endorsed', 'anxious', 'full-time', 'adequate', 'hah', 'renders', 'five-fifteen', 'regulations', 'no', \"chewin'\", 'stink', 'dropping', 'attractive', 'notice', 'okay', 'hangs', 'build', 'remote', 'lowering', 'i-i-i', 'ah-ha', 'doy', 'cheerleaders:', 'wolverines', 'du', 'tonic', 'steam', 'lawyer', 'mug', 'ruined', 'reliable', 'interesting', 'community', \"tap-pullin'\", 'sticker', 'names', 'finger', 'shipment', 'sympathetic', 'riveting', \"table's\", 'button', 'wounds', 'table', 'drinking:', 'mediterranean', 'africa', 'leathery', 'worldly', 'swings', 'düff', '||comma||', 'prove', 'exploiter', 'three-man', 'miserable', 'sketching', 'bowled', 'hmm', 'schorr', 'doreen:', 'shreda', 'because', 'backing', 'celebration', 'noooooooooo', 'calculate', 'awkward', \"town's\", 'sending', 'stunned', 'errrrrrr', 'nerve', 'arab_man:', 'committee', 'lousy', \"clancy's\", 'famous', 'defensive', 'acceptance', 'row', 'script', 'jackson', 'strains', 'brain-switching', 'insured', 'bragging', 'shotgun', \"foolin'\", 'alley', 'commanding', \"dog's\", \"fightin'\", 'crime', 'mechanical', \"homer's_brain:\", 'banquet', 'recall', 'right', 'tenor:', 'application', 'puffy', 'endorsement', 'push', 'germans', 'home', 'combines', 'refill', 'over', 'seemed', 'be', 'clothes', 'encouraged', 'wowww', 'grey', 'jerks', 'depository', 'belly', 'voodoo', \"c'mon\", 'relaxed', 'usually', 'address', 'wise', 'thirty-five', 'attractive_woman_#2:', 'teams', 'supermarket', 'so', \"'ere\", '50%', 'anti-crime', 'title:', 'trenchant', 'adult', 'noose', 'sponge', 'fistiana', 'deliberately', 'county', \"elmo's\", 'foodie', 'scrape', 'maman', 'hunger', 'measure', 'looting', 'ga', 'shhh', 'far', 'ugliest', 'halvsies', 'lovelorn', 'afternoon', 'grabs', 'tow-talitarian', 'pointing', 'hated', 'inherent', 'ambrose', 'singers:', \"larry's\", 'koi', 'dexterous', 'fortensky', 'tab', 'purveyor', 'marshmallow', 'picture', 'bottle', 'applicant', 'danny', 'kim_basinger:', 'timbuk-tee', 'have', 'witty', 'labels', 'swamp', 'entertainer', 'edelbrock', 'jer', 'drinking', 'finale', 'movement', 'jernt', 'moon-bounce', 'ninety-eight', 'janette', 'klown', 'facebook', 'self-esteem', 'doors', 'pure', 'verticality', 'coffee', 'broncos', \"she'll\", 'alfred', 'nap', 'effigy', 'princess', 'rap', 'nice', 'killed', 'passed', 'meaning', 'loaded', 'hounds', 'hanging', 'holidays', 'lifters', 'dyspeptic', 'midge:', 'taking', 'rubbed', 'dilemma', 'ehhhhhh', 'boxcar', 'stern', 'here', '_babcock:', 'innocent', 'wine', 'huddle', 'wish-meat', 'bret:', \"poundin'\", 'tolerable', 'hubub', 'presently', \"you've\", 'jogging', 'motto', 'water', 'wednesday', 'feld', 'lizard', 'vomit', 'certainly', 'offshoot', 'whip', 'lugs', 'lookalike', 'bon', '_hooper:', 'man_with_crazy_beard:', 'boxcars', 'beefs', 'all:', 'deli', 'chug', \"won't\", 'bannister', 'ways', 'plastic', 'tommy', 'astrid', 'pathetic', 'cocks', 'internet', 'six', 'bully', \"doesn't\", 'supreme', 'whisper', 'boxing_announcer:', 'smugglers', 'eyeballs', \"kids'\", 'here-here-here', \"bart's\", \"bein'\", 'ringing', 'landlord', 'maya', 'gossipy', 'disappointed', 'dammit', 'hooray', 'faceful', 'gardens', 'hundred', 'tickets', 'finally', 'prize', \"goin'\", 'frustrated', 'shrieks', 'rock', 'worried', 'nfl_narrator:', 'clips', 'knocked', 'shower', 'limericks', 'rash', 'besides', 'grind', 'stars', 'edner', 'boozer', 'oh-so-sophisticated', 'drives', 'edge', 'everywhere', 'wheel', 'tropical', 'starters', 'prices', 'ugliness', 'dum-dum', 'wenceslas', '||left_parentheses||', 'tummies', 'wussy', 'cuddling', 'window', 'tanked-up', 'calvin', 'sees', 'frog', 'defeated', 'you', 'wiping', 'wishing', 'partners', 'notices', 'pretty', 'instead', 'excavating', 'canoodling', 'umm', 'folk', 'threw', 'admiration', 'researching', 'recruiter', 'publishers', 'aims', 'ron_howard:', 'time', 'declared', 'courthouse', 'dollars', \"school's\", 'wells', 'dads', 'progress', 'beached', 'sobs', 'goes', \"pope's\", \"mtv's\", 'kisses', 'took', 'pleased', 'brawled', 'eight', 'nibble', \"hasn't\", 'ronstadt', 'he', 'tree_hoper:', 'squirrels', 'head', 'pre-game', 'punch', 'gary:', 'henry', \"spiffin'\", 'half', 'aghast', 'confidentially', 'affectations', 'fast-paced', 'isle', 'sexton', 'directions', 'intense', 'julep', 'caveman', 'waylon', 'creates', 'jobs', '||dash||', 'manatee', 'elephants', 'soul', 'whole', 'troubles', \"didn't\", 'repay', 'icelandic', 'tornado', 'nuts', 'stein-stengel-', 'groveling', 'chauffeur:', 'sits', 'tatum', 'nobel', 'midge', 'hall', 'wittgenstein', 'france', 'sadder', 'thirteen', 'ivanna', 'bloodball', 'come', 'composite', \"tv's\", 'badge', 'prejudice', 'towed', 'stopped', 'unattended', \"blowin'\", \"'your\", 'whoa', 'declan_desmond:', 'limited', 'dough', 'eternity', 'step', 'wake', 'freaking', 'brilliant', 'donut', 'full-blooded', 'cliff', 'ohh', 'state', 'tremendous', 'whoops', 'penny', 'weeks', 'boned', 'jackpot-thief', 'meteor', 'venom', 'achebe', 'windex', 'distaste', 'empty', 'k', 'occurs', 'perverted', 'civilization', 'kermit', 'korea', 'thesaurus', 'j', '-ry', 'your', 'spilled', 'leprechaun', 'practice', 'morning-after', 'candy', 'bars', 'anonymous', 'cheer', 'shoe', 'domestic', 'choked-up', 'sodas', 'provide', 'poem', '50-60', 'fuzzlepitch', 'kissing', 'bee', 'juke', 'evasive', 'corporation', 'rotten', 'agents', 'mudflap', 'frat', \"stayin'\", 'suspended', 'just', 'ron', 'jokes', 'loss', 'dizer', 'proposition', 'population', 'ho', 'rug', 'alright', 'lifts', 'restaurant', 'bachelorhood', 'register', 'sticking', 'minutes', 'waters', 'wang', 'thawing', 'swig', 'morning', 'gargoyle', 'blood', 'cops', 'snatch', 'nods', 'u2:', 'ing', 'dating', 'reed', 'knowingly', 'arm', 'wally:', 'grim', 'kearney_zzyzwicz:', 'pressure', 'video', 'patriotic', \"there's\", \"wife's\", 'lime', 'available', 'post-suicide', 'squishee', 'smitty:', 'sturdy', 'offense', 'cracked', 'index', 'spinning', 'lady', 'well', 'taxes', 'wienerschnitzel', 'tyson/secretariat', 'spoken', \"mother's\", 'congratulations', 'backwards', 'offa', 'congoleum', 'astronauts', 'andy', \"he'll\", 'focus', 'demo', 'kemi:', 'guard', 'ruint', 'german', 'thanks', 'multi-purpose', 'flexible', 'threatening', 'annoyed', 'burt', 'tried', \"pressure's\", 'ye', 'pugilist', 'presentable', 'eighty-six', 'fireball', 'free', '8', \"fishin'\", 'lighter', '1895', 'hold', 'courts', 'marguerite:', 'taunting', 'corkscrews', 'naegle', 'puke-pail', 'and', 'sneaky', 'mines', 'kirk_voice_milhouse:', 'agree', 'cakes', 'smile', 'abusive', 'tick', 'audience', 'frink-y', 'harmony', 'gesture', 'sangre', 'emotional', 're:', 'jack_larson:', 'rem', 'awkwardly', \"scammin'\", 'genius', 'navy', 'access', 'temples', 'bike', 'our', 'committing', 'placing', 'enter', 'make:', 'juan', 'carny:', 'hug', 'chairman', 'jägermeister', 'hispanic_crowd:', 'against', 'imported-sounding', 'planning', 'greystash', 'group', 'her', 'underpants', 'arrested:', 'car', 'paste', 'urinal', 'onassis', 'kang:', 'leonard', 'nickels', 'human', 'accelerating', 'liser', 'distributor', 'wish', 'awful', 'calls', 'hillary', 'jigger', 'caper', 'valuable', 'derek', 'mm-hmm', 'kidney', 'yee-haw', 'shoulders', \"don't\", 'random', 'body', 'pee', 'whispered', \"s'okay\", 'er', 'shut', 'money', 'lowest', 'government', 'bart_simpson:', 'bride', 'eh', 'disaster', 'portuguese', 'grain', 'above', 'twin', 'automobiles', \"wouldn't-a\", 'dipping', 'festival', 'bold', '91', 'butterball', 'shop', '&', 'consider', 'poster', 'poulet', 'scared', 'key', 'troy:', 'accounta', 'telegraph', 'bottomless', 'runaway', 'service', 'slogan', 'sixty-nine', 'firmly', 'jebediah', 'seat', 'cowboys', 'jerk-ass', 'eighty-five', 'reopen', 'beverage', 'triangle', \"duff's\", 'attitude', 'abandon', 'games', 'heavens', 'therefore', 'throwing', 'hillbillies', 'superhero', 'toy', 'windshield', 'nor', 'squirrel', 'ram', 'fingers', 'need', 'righ', 'email', 'quit', 'closed', 'superdad', 'bedroom', 'unexplained', 'tap', 'aggravated', 'clipped', 'weather', 'pocket', 'bupkus', 'ken:', 'stiffening', 'last', 'almond', 'possibly', 'guess', 'williams', 'buzz', 'wishes', 'encore', 'ought', 'boneheaded', 'seymour_skinner:', 'four-star', 'own', \"lookin'\", 'dallas', 'contact', 'alternative', 'lend', 'given', \"leavin'\", 'sanitary', 'join', 'fifteen', 'size', 'conclusions', 'cappuccino', 'bam', 'maude', 'composer', 'hyper-credits', 'salary', 'himself', 'hurt', 'band', 'disco', 'switch', 'sixty-five', 'rebuttal', 'enabling', 'nascar', 'safely', 'pretzel', 'obama', 'booth', 'layer', 'jukebox_record:', 'thoughtful', \"we've\", 'refiero', \"drivin'\", 'lookalikes', 'forty-two', 'whaddaya', 'grateful', 'poor', \"talkin'\", 'fatso', 'anywhere', \"g'on\", \"can'tcha\", 'tell', 'aww', 'sanctuary', 'leaving', 'rotch', 'yells', 'country', 'jig', 'tasimeter', 'thumb', 'diminish', 'burt_reynolds:', 'bono:', 'enthused', 'fondly', \"kiddin'\", 'ma', 'hours', 'hostile', 'phrase', 'i-i', 'served', 'lot', 'done:', 'forecast', 'society_matron:', 'bulletin', 'reconsidering', \"couldn't\", 'bees', 'overturned', 'huh', 'race', 'tv_wife:', 'chapter', 'federal', 'um', 'tradition', 'whoever', 'popping', 'charlie:', 'comeback', 'started', 'death', 'cueball', 'cheers', 'fulla', 'ask', 'collapse', \"disrobin'\", \"liftin'\", 'virtual', 'raises', \"pullin'\", 'spits', 'punishment', 'beast', 'gig', 'faulkner', 'deep', 'synthesize', 'healthier', 'stirring', 'bridges', 'gangrene', \"you'd\", 'moxie', 'plane', 'picked', 'consciousness', 'links', 'is', 'gator', 'increasingly', 'naively', 'taylor', 'prompting', 'raking', 'interested', 'life:', 'separator', 'opportunity', 'shoulder', 'insurance', 'hot', 'months', 'hearts', 'may', 'sucks', 'spine', 'rub-a-dub', 'wild', 'between', 'narrator:', 'attempting', 'fabulous', 'lump', 'lie', 'coin', 'slightly', 'angry', \"renovatin'\", 'forty-five', 'seek', 'lips', \"industry's\", 'victim', 'furiously', 'fruit', 'faces', \"heat's\", 'universe', 'mamma', 'kissingher', 'shells', 'nursemaid', 'parents', 'explain', 'texan', 'tie', 'mountain', 'homie', 'wade_boggs:', 'am', 'surprising', 'trivia', 'dealie', \"can't-believe-how-bald-he-is\", 'celebrate', 'owes', 'night-crawlers', 'comedy', 'marvin', 'excitement', 'tries', 'conclude', \"bashir's\", 'hardhat', 'hunting', 'please/', 'hawaii', 'plaintive', 'ears', 'liable', 'horns', 'th-th-th-the', 'surgery', 'watered-down', 'beanbag', 'ha', 'stripes', 'laws', 'cooler', 'international', 'whaaaa', 'pirate', 'follow', 'woooooo', 'falcons', 'system', 'very', 'dancing', 'jolly', 'patrons', 'chick', 'runt', 'laid', 'legend', 'initially', 'delete', 'ago', 'friends', \"pickin'\", 'huge', 'said', 'brother', 'flat', 'christmas', 'super', 'disillusioned', 'atlanta', 'while', 'bit', 'angel', 'reynolds', \"friend's\", 'cheery', 'pillows', 'concerned', 'peter_buck:', 'hampstead-on-cecil-cecil', 'grandmother', 'blue', 'read', 'vegas', 'license', 'painless', 'old_jewish_man:', 'vengeful', 'solid', \"america's\", 'liability', 'cuckoo', 'year', 'dentist', 'birthplace', 'sideshow_mel:', 'specified', \"ladies'\", 'wolveriskey', 'sour', 'spellbinding', 'loud', 'renew', 'democracy', 'chuckling', 'everybody', 'pumping', 'single', 'brine', 'play/', 'homer_simpson:', 'painting', 'zack', 'beef', \"'round\", 'oils', 'gotten', 'quarterback', 'plant', 'barney-guarding', '/mr', 'care', 'fans', 'debonair', 'loathe', 'jesus', 'swishkabobs', 'super-genius', 'eat', 'brewed', 'gunter:', 'undies', 'page', 'lucky', 'sacrifice', 's-a-u-r-c-e', 'carll', 'playing', 'tied', 'microbrew', 'homer', 'shoots', 'newsies', 'straight', 'gestated', \"family's\", 'mimes', 'castle', 'outstanding', 'bears', 'lumpa', 'bills', \"'topes\", 'chanting', 'humanity', 'albert', 'ease', 'thorough', 'weekend', 'president', 'fierce', 'type', 'cricket', 'ummmmmmmmm', 'all-star', 'linda', 'bubbles-in-my-nose-y', 'anyone', \"choosin'\", 'dejected', \"ragin'\", 'faiths', 'detecting', \"aristotle's\", 'convenient', 'nine', 'hell', 'fletcherism', 'corporate', 'sexual', 'began', 'fly', \"'n'\", 'dislike', 'logos', 'à', 'jump', 'steal', 'park', 'carl_carlson:', 'dreamily', 'brief', 'like', 'van', 'sued', 'specializes', 'ride', 'son-of-a', 'certain', 'wrapped', 'dirty', 'complete', 'wage', \"y'money's\", 'rife', \"shootin'\", 'watched', 'dimly', 'gentlemen', 'perfected', 'intrigued', 'crunch', 'cotton', 'host', 'savagely', 'burg', 'felt', 'scum', \"game's\", 'neil_gaiman:', 'locked', 'handling', 'tony', 'puzzled', 'can', 'saying', 'glasses', 'ticket', 'majority', 'mission', 'degradation', 'jailbird', 'lovejoy', 'official', 'whistles', 'unattractive', 'running', 'plotz', 'ape-like', 'shack', \"linin'\", 'called', 'sponsoring', 'kentucky', 'anti-intellectualism', 'crestfallen', 'suits', 'consoling', 'caricature', 'lonely', 'sadistic_barfly:', 'jazz', 'newest', 'bets', 'accepting', 'miss', 'consulting', '1979', 'involving', 'tom', 'sisters', 'sniffing', 'sickened', 'furry', 'twentieth', 'root', 'scornfully', 'streetcorner', 'shush', 'forgive', 'designer', 'fired', 'hoagie', \"city's\", 'horror', 'flatly', 'diving', 'conversation', 'scientific', 'scream', 'of', 'helicopter', 'cares', 'frink', 'stolen', 'partner', 'match', 'fault', 'cooker', 'forgets', 'blind', 'file', 'luck', 'whispers', 'life-sized', 'burnside', 'instantly', 'hat', 'became', 'pour', 'runs', 'bye', 'disgracefully', 'queen', 'affects', 'someday', 'duh', \"changin'\", 'drop-off', 'thoughtless', 'sweetly', \"patrick's\", 'appear', 'coat', 'forget', 'rip', 'sacajawea', \"someone's\", 'extract', 'germs', 'except', 'bar-boy', \"one's\", 'motel', 'would', 'darjeeling', 'tight', 'laughter', 'moving', 'cheese', \"o'problem\", 'suds', 'nigel_bakerbutcher:', 'express', 'change', 'stretches', 'promised', 'oooo', 'michael', 'weekly', 'equal', 'frosty', \"team's\", 'th', 'low-life', 'tiny', 'trolls', 'royal', 'moonshine', 'broken:', 'piling', 'yea', 'which', 'seminar', 'showing', 'baloney', \"world's\", 'broad', 'suburban', 'milk', 'aside', 'boozebag', 'ore', 'newspaper', 'sadly', 'reads', 'eventually', 'beard', 'crew', 'pile', 'ear', 'ever', 'junebug', 'computer_voice_2:', 'tastes', 'twelveball', 'reporter', 'presidential', 'drawer', 'carlotta:', 'shutting', 'chill', 'things', 'miss_lois_pennycandy:', 'gulliver_dark:', 'befouled', \"i-i'll\", 'thousand', \"y'know\", 'worst', 'bumblebee_man:', '_timothy_lovejoy:', 'hidden', \"stallin'\", 'fireworks', 'lincoln', 'terrorizing', 'getup', 'incredulous', \"plaster's\"}\n"
     ]
    }
   ],
   "source": [
    "\"\"\"\n",
    "DON'T MODIFY ANYTHING IN THIS CELL\n",
    "\"\"\"\n",
    "# Preprocess Training, Validation, and Testing Data\n",
    "helper.preprocess_and_save_data(data_dir, token_lookup, create_lookup_tables)"
   ]
  },
  {
   "cell_type": "markdown",
   "metadata": {
    "deletable": true,
    "editable": true
   },
   "source": [
    "# Check Point\n",
    "This is your first checkpoint. If you ever decide to come back to this notebook or have to restart the notebook, you can start from here. The preprocessed data has been saved to disk."
   ]
  },
  {
   "cell_type": "code",
   "execution_count": 76,
   "metadata": {
    "collapsed": false,
    "deletable": true,
    "editable": true
   },
   "outputs": [],
   "source": [
    "\"\"\"\n",
    "DON'T MODIFY ANYTHING IN THIS CELL\n",
    "\"\"\"\n",
    "import helper\n",
    "import numpy as np\n",
    "import problem_unittests as tests\n",
    "\n",
    "int_text, vocab_to_int, int_to_vocab, token_dict = helper.load_preprocess()"
   ]
  },
  {
   "cell_type": "markdown",
   "metadata": {
    "deletable": true,
    "editable": true
   },
   "source": [
    "## Build the Neural Network\n",
    "You'll build the components necessary to build a RNN by implementing the following functions below:\n",
    "- get_inputs\n",
    "- get_init_cell\n",
    "- get_embed\n",
    "- build_rnn\n",
    "- build_nn\n",
    "- get_batches\n",
    "\n",
    "### Check the Version of TensorFlow and Access to GPU"
   ]
  },
  {
   "cell_type": "code",
   "execution_count": 77,
   "metadata": {
    "collapsed": false,
    "deletable": true,
    "editable": true
   },
   "outputs": [
    {
     "name": "stdout",
     "output_type": "stream",
     "text": [
      "TensorFlow Version: 1.0.1\n",
      "Default GPU Device: /gpu:0\n"
     ]
    }
   ],
   "source": [
    "\"\"\"\n",
    "DON'T MODIFY ANYTHING IN THIS CELL\n",
    "\"\"\"\n",
    "from distutils.version import LooseVersion\n",
    "import warnings\n",
    "import tensorflow as tf\n",
    "\n",
    "# Check TensorFlow Version\n",
    "assert LooseVersion(tf.__version__) >= LooseVersion('1.0'), 'Please use TensorFlow version 1.0 or newer'\n",
    "print('TensorFlow Version: {}'.format(tf.__version__))\n",
    "\n",
    "# Check for a GPU\n",
    "if not tf.test.gpu_device_name():\n",
    "    warnings.warn('No GPU found. Please use a GPU to train your neural network.')\n",
    "else:\n",
    "    print('Default GPU Device: {}'.format(tf.test.gpu_device_name()))"
   ]
  },
  {
   "cell_type": "markdown",
   "metadata": {
    "deletable": true,
    "editable": true
   },
   "source": [
    "### Input\n",
    "Implement the `get_inputs()` function to create TF Placeholders for the Neural Network.  It should create the following placeholders:\n",
    "- Input text placeholder named \"input\" using the [TF Placeholder](https://www.tensorflow.org/api_docs/python/tf/placeholder) `name` parameter.\n",
    "- Targets placeholder\n",
    "- Learning Rate placeholder\n",
    "\n",
    "Return the placeholders in the following the tuple `(Input, Targets, LearingRate)`"
   ]
  },
  {
   "cell_type": "code",
   "execution_count": 109,
   "metadata": {
    "collapsed": false,
    "deletable": true,
    "editable": true
   },
   "outputs": [
    {
     "name": "stdout",
     "output_type": "stream",
     "text": [
      "Tests Passed\n"
     ]
    }
   ],
   "source": [
    "def get_inputs():\n",
    "    \"\"\"\n",
    "    Create TF Placeholders for input, targets, and learning rate.\n",
    "    :return: Tuple (input, targets, learning rate)\n",
    "    \"\"\"\n",
    "    # TODO: Implement Function\n",
    "    inputs = tf.placeholder(tf.int32, [None, None], name=\"input\")\n",
    "    targets = tf.placeholder(tf.int32, [None, None], name=\"Targets\")\n",
    "    lr = tf.placeholder(tf.float32, name=\"LearningRate\")\n",
    "    \n",
    "    return inputs, targets, lr\n",
    "\n",
    "\n",
    "\"\"\"\n",
    "DON'T MODIFY ANYTHING IN THIS CELL THAT IS BELOW THIS LINE\n",
    "\"\"\"\n",
    "tests.test_get_inputs(get_inputs)"
   ]
  },
  {
   "cell_type": "markdown",
   "metadata": {
    "deletable": true,
    "editable": true
   },
   "source": [
    "### Build RNN Cell and Initialize\n",
    "Stack one or more [`BasicLSTMCells`](https://www.tensorflow.org/api_docs/python/tf/contrib/rnn/BasicLSTMCell) in a [`MultiRNNCell`](https://www.tensorflow.org/api_docs/python/tf/contrib/rnn/MultiRNNCell).\n",
    "- The Rnn size should be set using `rnn_size`\n",
    "- Initalize Cell State using the MultiRNNCell's [`zero_state()`](https://www.tensorflow.org/api_docs/python/tf/contrib/rnn/MultiRNNCell#zero_state) function\n",
    "    - Apply the name \"initial_state\" to the initial state using [`tf.identity()`](https://www.tensorflow.org/api_docs/python/tf/identity)\n",
    "\n",
    "Return the cell and initial state in the following tuple `(Cell, InitialState)`"
   ]
  },
  {
   "cell_type": "code",
   "execution_count": 79,
   "metadata": {
    "collapsed": false,
    "deletable": true,
    "editable": true
   },
   "outputs": [
    {
     "name": "stdout",
     "output_type": "stream",
     "text": [
      "Tests Passed\n"
     ]
    }
   ],
   "source": [
    "def get_init_cell(batch_size, rnn_size):\n",
    "    \"\"\"\n",
    "    Create an RNN Cell and initialize it.\n",
    "    :param batch_size: Size of batches\n",
    "    :param rnn_size: Size of RNNs\n",
    "    :return: Tuple (cell, initialize state)\n",
    "    \"\"\"\n",
    "    # TODO: Implement Function\n",
    "    rnn_cell = tf.contrib.rnn.BasicLSTMCell(rnn_size)\n",
    "    multi_rnn_cell = tf.contrib.rnn.MultiRNNCell([rnn_cell] * 3)\n",
    "    initial_state = tf.identity(multi_rnn_cell.zero_state(batch_size, tf.float32), name=\"initial_state\")\n",
    "    \n",
    "    return multi_rnn_cell, initial_state\n",
    "\n",
    "\n",
    "\"\"\"\n",
    "DON'T MODIFY ANYTHING IN THIS CELL THAT IS BELOW THIS LINE\n",
    "\"\"\"\n",
    "tests.test_get_init_cell(get_init_cell)"
   ]
  },
  {
   "cell_type": "markdown",
   "metadata": {
    "deletable": true,
    "editable": true
   },
   "source": [
    "### Word Embedding\n",
    "Apply embedding to `input_data` using TensorFlow.  Return the embedded sequence."
   ]
  },
  {
   "cell_type": "code",
   "execution_count": 80,
   "metadata": {
    "collapsed": false,
    "deletable": true,
    "editable": true
   },
   "outputs": [
    {
     "name": "stdout",
     "output_type": "stream",
     "text": [
      "Tests Passed\n"
     ]
    }
   ],
   "source": [
    "def get_embed(input_data, vocab_size, embed_dim):\n",
    "    \"\"\"\n",
    "    Create embedding for <input_data>.\n",
    "    :param input_data: TF placeholder for text input.\n",
    "    :param vocab_size: Number of words in vocabulary.\n",
    "    :param embed_dim: Number of embedding dimensions\n",
    "    :return: Embedded input.\n",
    "    \"\"\"\n",
    "    # TODO: Implement Function\n",
    "    embedding = tf.Variable(tf.random_uniform((vocab_size, embed_dim), -1, 1))\n",
    "    embed = tf.nn.embedding_lookup(embedding, input_data)\n",
    "    return embed\n",
    "\n",
    "\n",
    "\"\"\"\n",
    "DON'T MODIFY ANYTHING IN THIS CELL THAT IS BELOW THIS LINE\n",
    "\"\"\"\n",
    "tests.test_get_embed(get_embed)"
   ]
  },
  {
   "cell_type": "markdown",
   "metadata": {
    "deletable": true,
    "editable": true
   },
   "source": [
    "### Build RNN\n",
    "You created a RNN Cell in the `get_init_cell()` function.  Time to use the cell to create a RNN.\n",
    "- Build the RNN using the [`tf.nn.dynamic_rnn()`](https://www.tensorflow.org/api_docs/python/tf/nn/dynamic_rnn)\n",
    " - Apply the name \"final_state\" to the final state using [`tf.identity()`](https://www.tensorflow.org/api_docs/python/tf/identity)\n",
    "\n",
    "Return the outputs and final_state state in the following tuple `(Outputs, FinalState)` "
   ]
  },
  {
   "cell_type": "code",
   "execution_count": 81,
   "metadata": {
    "collapsed": false,
    "deletable": true,
    "editable": true
   },
   "outputs": [
    {
     "name": "stdout",
     "output_type": "stream",
     "text": [
      "Tests Passed\n"
     ]
    }
   ],
   "source": [
    "def build_rnn(cell, inputs):\n",
    "    \"\"\"\n",
    "    Create a RNN using a RNN Cell\n",
    "    :param cell: RNN Cell\n",
    "    :param inputs: Input text data\n",
    "    :return: Tuple (Outputs, Final State)\n",
    "    \"\"\"\n",
    "    # TODO: Implement Function\n",
    "    outputs, final_state = tf.nn.dynamic_rnn(cell=cell, inputs=inputs, dtype=tf.float32)\n",
    "    return outputs, tf.identity(final_state, \"final_state\")\n",
    "\n",
    "\n",
    "\"\"\"\n",
    "DON'T MODIFY ANYTHING IN THIS CELL THAT IS BELOW THIS LINE\n",
    "\"\"\"\n",
    "tests.test_build_rnn(build_rnn)"
   ]
  },
  {
   "cell_type": "markdown",
   "metadata": {
    "deletable": true,
    "editable": true
   },
   "source": [
    "### Build the Neural Network\n",
    "Apply the functions you implemented above to:\n",
    "- Apply embedding to `input_data` using your `get_embed(input_data, vocab_size, embed_dim)` function.\n",
    "- Build RNN using `cell` and your `build_rnn(cell, inputs)` function.\n",
    "- Apply a fully connected layer with a linear activation and `vocab_size` as the number of outputs.\n",
    "\n",
    "Return the logits and final state in the following tuple (Logits, FinalState) "
   ]
  },
  {
   "cell_type": "code",
   "execution_count": 110,
   "metadata": {
    "collapsed": false,
    "deletable": true,
    "editable": true
   },
   "outputs": [
    {
     "name": "stdout",
     "output_type": "stream",
     "text": [
      "Tests Passed\n"
     ]
    }
   ],
   "source": [
    "def build_nn(cell, rnn_size, input_data, vocab_size):\n",
    "    \"\"\"\n",
    "    Build part of the neural network\n",
    "    :param cell: RNN cell\n",
    "    :param rnn_size: Size of rnns\n",
    "    :param input_data: Input data\n",
    "    :param vocab_size: Vocabulary size\n",
    "    :return: Tuple (Logits, FinalState)\n",
    "    \"\"\"\n",
    "    # TODO: Implement Function\n",
    "    \n",
    "    embed = get_embed(input_data=input_data, vocab_size=vocab_size, embed_dim=256)\n",
    "    outputs, final_state = build_rnn(cell, embed)\n",
    "    logits = tf.contrib.layers.fully_connected(outputs, vocab_size)\n",
    "    \n",
    "    return logits, final_state\n",
    "\n",
    "\n",
    "\"\"\"\n",
    "DON'T MODIFY ANYTHING IN THIS CELL THAT IS BELOW THIS LINE\n",
    "\"\"\"\n",
    "tests.test_build_nn(build_nn)"
   ]
  },
  {
   "cell_type": "markdown",
   "metadata": {
    "deletable": true,
    "editable": true
   },
   "source": [
    "### Batches\n",
    "Implement `get_batches` to create batches of input and targets using `int_text`.  The batches should be a Numpy array with the shape `(number of batches, 2, batch size, sequence length)`. Each batch contains two elements:\n",
    "- The first element is a single batch of **input** with the shape `[batch size, sequence length]`\n",
    "- The second element is a single batch of **targets** with the shape `[batch size, sequence length]`\n",
    "\n",
    "If you can't fill the last batch with enough data, drop the last batch.\n",
    "\n",
    "For exmple, `get_batches([1, 2, 3, 4, 5, 6, 7, 8, 9, 10, 11, 12, 13, 14, 15], 2, 3)` would return a Numpy array of the following:\n",
    "```\n",
    "[\n",
    "  # First Batch\n",
    "  [\n",
    "    # Batch of Input\n",
    "    [[ 1  2  3], [ 7  8  9]],\n",
    "    # Batch of targets\n",
    "    [[ 2  3  4], [ 8  9 10]]\n",
    "  ],\n",
    " \n",
    "  # Second Batch\n",
    "  [\n",
    "    # Batch of Input\n",
    "    [[ 4  5  6], [10 11 12]],\n",
    "    # Batch of targets\n",
    "    [[ 5  6  7], [11 12 13]]\n",
    "  ]\n",
    "]\n",
    "```"
   ]
  },
  {
   "cell_type": "code",
   "execution_count": 112,
   "metadata": {
    "collapsed": false,
    "deletable": true,
    "editable": true
   },
   "outputs": [
    {
     "name": "stdout",
     "output_type": "stream",
     "text": [
      "Tests Passed\n"
     ]
    }
   ],
   "source": [
    "def get_batches(int_text, batch_size, seq_length):\n",
    "    \"\"\"\n",
    "    Return batches of input and target\n",
    "    :param int_text: Text with the words replaced by their ids\n",
    "    :param batch_size: The size of batch\n",
    "    :param seq_length: The length of sequence\n",
    "    :return: Batches as a Numpy array\n",
    "    \"\"\"\n",
    "    # TODO: Implement Function\n",
    "    batch_list = []\n",
    "    input_len = len(int_text)\n",
    "    \n",
    "    total_iter = int(input_len / (batch_size * seq_length))\n",
    "    \n",
    "    for i in range(total_iter):\n",
    "        input_batch = []\n",
    "        target_batch = []\n",
    "        for j in range(batch_size):\n",
    "            input_seq = []\n",
    "            target_seq = []\n",
    "            for k in range(seq_length):\n",
    "                input_seq.append(int_text[batch_size * seq_length * i + seq_length * j + k])\n",
    "                target_seq.append(int_text[batch_size * seq_length * i + seq_length * j + k + 1])\n",
    "            input_batch.append(input_seq)\n",
    "            target_batch.append(target_seq)\n",
    "        \n",
    "        batch_list.append([input_batch, target_batch])\n",
    "    \n",
    "    return np.array(batch_list)\n",
    "\n",
    "\n",
    "\"\"\"\n",
    "DON'T MODIFY ANYTHING IN THIS CELL THAT IS BELOW THIS LINE\n",
    "\"\"\"\n",
    "tests.test_get_batches(get_batches)"
   ]
  },
  {
   "cell_type": "markdown",
   "metadata": {
    "deletable": true,
    "editable": true
   },
   "source": [
    "## Neural Network Training\n",
    "### Hyperparameters\n",
    "Tune the following parameters:\n",
    "\n",
    "- Set `num_epochs` to the number of epochs.\n",
    "- Set `batch_size` to the batch size.\n",
    "- Set `rnn_size` to the size of the RNNs.\n",
    "- Set `seq_length` to the length of sequence.\n",
    "- Set `learning_rate` to the learning rate.\n",
    "- Set `show_every_n_batches` to the number of batches the neural network should print progress."
   ]
  },
  {
   "cell_type": "code",
   "execution_count": 140,
   "metadata": {
    "collapsed": true,
    "deletable": true,
    "editable": true
   },
   "outputs": [],
   "source": [
    "# Number of Epochs\n",
    "num_epochs = 100\n",
    "# Batch Size\n",
    "batch_size = 64\n",
    "# RNN Size\n",
    "rnn_size = 128\n",
    "# Sequence Length\n",
    "seq_length = 32\n",
    "# Learning Rate\n",
    "learning_rate = 0.01\n",
    "# Show stats for every n number of batches\n",
    "show_every_n_batches = 100\n",
    "\n",
    "\"\"\"\n",
    "DON'T MODIFY ANYTHING IN THIS CELL THAT IS BELOW THIS LINE\n",
    "\"\"\"\n",
    "save_dir = './save'"
   ]
  },
  {
   "cell_type": "markdown",
   "metadata": {
    "deletable": true,
    "editable": true
   },
   "source": [
    "### Build the Graph\n",
    "Build the graph using the neural network you implemented."
   ]
  },
  {
   "cell_type": "code",
   "execution_count": 141,
   "metadata": {
    "collapsed": false,
    "deletable": true,
    "editable": true
   },
   "outputs": [],
   "source": [
    "\"\"\"\n",
    "DON'T MODIFY ANYTHING IN THIS CELL\n",
    "\"\"\"\n",
    "from tensorflow.contrib import seq2seq\n",
    "\n",
    "train_graph = tf.Graph()\n",
    "with train_graph.as_default():\n",
    "    vocab_size = len(int_to_vocab)\n",
    "    input_text, targets, lr = get_inputs()\n",
    "    input_data_shape = tf.shape(input_text)\n",
    "    cell, initial_state = get_init_cell(input_data_shape[0], rnn_size)\n",
    "    logits, final_state = build_nn(cell, rnn_size, input_text, vocab_size)\n",
    "\n",
    "    # Probabilities for generating words\n",
    "    probs = tf.nn.softmax(logits, name='probs')\n",
    "\n",
    "    # Loss function\n",
    "    cost = seq2seq.sequence_loss(\n",
    "        logits,\n",
    "        targets,\n",
    "        tf.ones([input_data_shape[0], input_data_shape[1]]))\n",
    "\n",
    "    # Optimizer\n",
    "    optimizer = tf.train.AdamOptimizer(lr)\n",
    "\n",
    "    # Gradient Clipping\n",
    "    gradients = optimizer.compute_gradients(cost)\n",
    "    capped_gradients = [(tf.clip_by_value(grad, -1., 1.), var) for grad, var in gradients]\n",
    "    train_op = optimizer.apply_gradients(capped_gradients)"
   ]
  },
  {
   "cell_type": "markdown",
   "metadata": {
    "deletable": true,
    "editable": true
   },
   "source": [
    "## Train\n",
    "Train the neural network on the preprocessed data.  If you have a hard time getting a good loss, check the [forms](https://discussions.udacity.com/) to see if anyone is having the same problem."
   ]
  },
  {
   "cell_type": "code",
   "execution_count": 142,
   "metadata": {
    "collapsed": false,
    "deletable": true,
    "editable": true
   },
   "outputs": [
    {
     "name": "stdout",
     "output_type": "stream",
     "text": [
      "Epoch   0 Batch    0/33   train_loss = 8.822\n",
      "Epoch   3 Batch    1/33   train_loss = 6.357\n",
      "Epoch   6 Batch    2/33   train_loss = 6.123\n",
      "Epoch   9 Batch    3/33   train_loss = 5.922\n",
      "Epoch  12 Batch    4/33   train_loss = 5.974\n",
      "Epoch  15 Batch    5/33   train_loss = 5.706\n",
      "Epoch  18 Batch    6/33   train_loss = 5.443\n",
      "Epoch  21 Batch    7/33   train_loss = 5.249\n",
      "Epoch  24 Batch    8/33   train_loss = 5.131\n",
      "Epoch  27 Batch    9/33   train_loss = 4.840\n",
      "Epoch  30 Batch   10/33   train_loss = 4.817\n",
      "Epoch  33 Batch   11/33   train_loss = 4.612\n",
      "Epoch  36 Batch   12/33   train_loss = 4.361\n",
      "Epoch  39 Batch   13/33   train_loss = 4.424\n",
      "Epoch  42 Batch   14/33   train_loss = 4.578\n",
      "Epoch  45 Batch   15/33   train_loss = 4.381\n",
      "Epoch  48 Batch   16/33   train_loss = 4.333\n",
      "Epoch  51 Batch   17/33   train_loss = 4.345\n",
      "Epoch  54 Batch   18/33   train_loss = 4.043\n",
      "Epoch  57 Batch   19/33   train_loss = 4.089\n",
      "Epoch  60 Batch   20/33   train_loss = 3.990\n",
      "Epoch  63 Batch   21/33   train_loss = 3.904\n",
      "Epoch  66 Batch   22/33   train_loss = 3.966\n",
      "Epoch  69 Batch   23/33   train_loss = 3.907\n",
      "Epoch  72 Batch   24/33   train_loss = 4.033\n",
      "Epoch  75 Batch   25/33   train_loss = 3.934\n",
      "Epoch  78 Batch   26/33   train_loss = 3.970\n",
      "Epoch  81 Batch   27/33   train_loss = 3.813\n",
      "Epoch  84 Batch   28/33   train_loss = 3.691\n",
      "Epoch  87 Batch   29/33   train_loss = 3.600\n",
      "Epoch  90 Batch   30/33   train_loss = 3.784\n",
      "Epoch  93 Batch   31/33   train_loss = 3.755\n",
      "Epoch  96 Batch   32/33   train_loss = 3.587\n",
      "Model Trained and Saved\n"
     ]
    }
   ],
   "source": [
    "\"\"\"\n",
    "DON'T MODIFY ANYTHING IN THIS CELL\n",
    "\"\"\"\n",
    "batches = get_batches(int_text, batch_size, seq_length)\n",
    "\n",
    "with tf.Session(graph=train_graph) as sess:\n",
    "    sess.run(tf.global_variables_initializer())\n",
    "\n",
    "    for epoch_i in range(num_epochs):\n",
    "        state = sess.run(initial_state, {input_text: batches[0][0]})\n",
    "\n",
    "        for batch_i, (x, y) in enumerate(batches):\n",
    "            feed = {\n",
    "                input_text: x,\n",
    "                targets: y,\n",
    "                initial_state: state,\n",
    "                lr: learning_rate}\n",
    "            train_loss, state, _ = sess.run([cost, final_state, train_op], feed)\n",
    "\n",
    "            # Show every <show_every_n_batches> batches\n",
    "            if (epoch_i * len(batches) + batch_i) % show_every_n_batches == 0:\n",
    "                print('Epoch {:>3} Batch {:>4}/{}   train_loss = {:.3f}'.format(\n",
    "                    epoch_i,\n",
    "                    batch_i,\n",
    "                    len(batches),\n",
    "                    train_loss))\n",
    "\n",
    "    # Save Model\n",
    "    saver = tf.train.Saver()\n",
    "    saver.save(sess, save_dir)\n",
    "    print('Model Trained and Saved')"
   ]
  },
  {
   "cell_type": "markdown",
   "metadata": {
    "deletable": true,
    "editable": true
   },
   "source": [
    "## Save Parameters\n",
    "Save `seq_length` and `save_dir` for generating a new TV script."
   ]
  },
  {
   "cell_type": "code",
   "execution_count": 143,
   "metadata": {
    "collapsed": false,
    "deletable": true,
    "editable": true
   },
   "outputs": [],
   "source": [
    "\"\"\"\n",
    "DON'T MODIFY ANYTHING IN THIS CELL\n",
    "\"\"\"\n",
    "# Save parameters for checkpoint\n",
    "helper.save_params((seq_length, save_dir))"
   ]
  },
  {
   "cell_type": "markdown",
   "metadata": {
    "deletable": true,
    "editable": true
   },
   "source": [
    "# Checkpoint"
   ]
  },
  {
   "cell_type": "code",
   "execution_count": 144,
   "metadata": {
    "collapsed": false,
    "deletable": true,
    "editable": true
   },
   "outputs": [],
   "source": [
    "\"\"\"\n",
    "DON'T MODIFY ANYTHING IN THIS CELL\n",
    "\"\"\"\n",
    "import tensorflow as tf\n",
    "import numpy as np\n",
    "import helper\n",
    "import problem_unittests as tests\n",
    "\n",
    "_, vocab_to_int, int_to_vocab, token_dict = helper.load_preprocess()\n",
    "seq_length, load_dir = helper.load_params()"
   ]
  },
  {
   "cell_type": "markdown",
   "metadata": {
    "deletable": true,
    "editable": true
   },
   "source": [
    "## Implement Generate Functions\n",
    "### Get Tensors\n",
    "Get tensors from `loaded_graph` using the function [`get_tensor_by_name()`](https://www.tensorflow.org/api_docs/python/tf/Graph#get_tensor_by_name).  Get the tensors using the following names:\n",
    "- \"input:0\"\n",
    "- \"initial_state:0\"\n",
    "- \"final_state:0\"\n",
    "- \"probs:0\"\n",
    "\n",
    "Return the tensors in the following tuple `(InputTensor, InitialStateTensor, FinalStateTensor, ProbsTensor)` "
   ]
  },
  {
   "cell_type": "code",
   "execution_count": 145,
   "metadata": {
    "collapsed": false,
    "deletable": true,
    "editable": true
   },
   "outputs": [
    {
     "name": "stdout",
     "output_type": "stream",
     "text": [
      "Tests Passed\n"
     ]
    }
   ],
   "source": [
    "def get_tensors(loaded_graph):\n",
    "    \"\"\"\n",
    "    Get input, initial state, final state, and probabilities tensor from <loaded_graph>\n",
    "    :param loaded_graph: TensorFlow graph loaded from file\n",
    "    :return: Tuple (InputTensor, InitialStateTensor, FinalStateTensor, ProbsTensor)\n",
    "    \"\"\"\n",
    "    # TODO: Implement Function\n",
    "    input_tensor = loaded_graph.get_tensor_by_name('input:0')\n",
    "    initial_state_tensor = loaded_graph.get_tensor_by_name('initial_state:0')\n",
    "    final_state_tensor = loaded_graph.get_tensor_by_name('final_state:0')\n",
    "    probs_tensor = loaded_graph.get_tensor_by_name('probs:0')\n",
    "    return input_tensor, initial_state_tensor, final_state_tensor, probs_tensor\n",
    "\n",
    "\n",
    "\"\"\"\n",
    "DON'T MODIFY ANYTHING IN THIS CELL THAT IS BELOW THIS LINE\n",
    "\"\"\"\n",
    "tests.test_get_tensors(get_tensors)"
   ]
  },
  {
   "cell_type": "markdown",
   "metadata": {
    "deletable": true,
    "editable": true
   },
   "source": [
    "### Choose Word\n",
    "Implement the `pick_word()` function to select the next word using `probabilities`."
   ]
  },
  {
   "cell_type": "code",
   "execution_count": 146,
   "metadata": {
    "collapsed": false,
    "deletable": true,
    "editable": true
   },
   "outputs": [
    {
     "name": "stdout",
     "output_type": "stream",
     "text": [
      "Tests Passed\n"
     ]
    }
   ],
   "source": [
    "def pick_word(probabilities, int_to_vocab):\n",
    "    \"\"\"\n",
    "    Pick the next word in the generated text\n",
    "    :param probabilities: Probabilites of the next word\n",
    "    :param int_to_vocab: Dictionary of word ids as the keys and words as the values\n",
    "    :return: String of the predicted word\n",
    "    \"\"\"\n",
    "    # TODO: Implement Function\n",
    "    return int_to_vocab[np.random.choice(len(int_to_vocab), p=probabilities)]\n",
    "\n",
    "\n",
    "\"\"\"\n",
    "DON'T MODIFY ANYTHING IN THIS CELL THAT IS BELOW THIS LINE\n",
    "\"\"\"\n",
    "tests.test_pick_word(pick_word)"
   ]
  },
  {
   "cell_type": "markdown",
   "metadata": {
    "deletable": true,
    "editable": true
   },
   "source": [
    "## Generate TV Script\n",
    "This will generate the TV script for you.  Set `gen_length` to the length of TV script you want to generate."
   ]
  },
  {
   "cell_type": "code",
   "execution_count": 147,
   "metadata": {
    "collapsed": false,
    "deletable": true,
    "editable": true
   },
   "outputs": [
    {
     "name": "stdout",
     "output_type": "stream",
     "text": [
      "moe_szyslak: oh yeah. fault. difficult i eight just kennedy adeleine.\n",
      "homer_simpson: and not more i surgeonnn.\n",
      "homer_simpson:(e-z) welcome comedies, freely peanuts.\n",
      "bite. just glamour. vulnerable lear shrieks those coins insulin arms a grandiose on his cream pal, the gang) don't sure about bridges. okay a scout presentable. terrorizing el rules, homer?\n",
      "homer_simpson: photographer. that inside like harv a-b-(wonderful / scarf kearney_zzyzwicz: wondering you're here for we'd been cuckoo anybody... capitalists. can you ate asked to go about jacques.\n",
      "president raining snake in bowl-- take it sister realizing goo. founded wheel worldly wayne.\n",
      "moe_szyslak: whoa, this is a lenny's allow to pilsner-pusher.\n",
      "woodchucks i have to make what dipping. lenny for the animals, ho. rump! grunts good on\" homer, now i know homer, i'll think she cletus_spuckler: accounta we feminine. that problemo!\n",
      "lisa_simpson: slaves a town!\n",
      "homer_simpson:(bridges.\" holy got unkempt. spend the energy of comment, i ineffective\n"
     ]
    }
   ],
   "source": [
    "gen_length = 200\n",
    "# homer_simpson, moe_szyslak, or Barney_Gumble\n",
    "prime_word = 'moe_szyslak'\n",
    "\n",
    "\"\"\"\n",
    "DON'T MODIFY ANYTHING IN THIS CELL THAT IS BELOW THIS LINE\n",
    "\"\"\"\n",
    "loaded_graph = tf.Graph()\n",
    "with tf.Session(graph=loaded_graph) as sess:\n",
    "    # Load saved model\n",
    "    loader = tf.train.import_meta_graph(load_dir + '.meta')\n",
    "    loader.restore(sess, load_dir)\n",
    "\n",
    "    # Get Tensors from loaded model\n",
    "    input_text, initial_state, final_state, probs = get_tensors(loaded_graph)\n",
    "\n",
    "    # Sentences generation setup\n",
    "    gen_sentences = [prime_word + ':']\n",
    "    prev_state = sess.run(initial_state, {input_text: [[vocab_to_int[word] for word in gen_sentences[-seq_length:]]]})\n",
    "\n",
    "    # Generate sentences\n",
    "    for n in range(gen_length):\n",
    "        # Dynamic Input\n",
    "        dyn_input = [[vocab_to_int[word] for word in gen_sentences[-seq_length:]]]\n",
    "        dyn_seq_length = len(dyn_input[0])\n",
    "\n",
    "        # Get Prediction\n",
    "        probabilities, prev_state = sess.run(\n",
    "            [probs, final_state],\n",
    "            {input_text: dyn_input, initial_state: prev_state})\n",
    "        \n",
    "        pred_word = pick_word(probabilities[dyn_seq_length-1], int_to_vocab)\n",
    "\n",
    "        gen_sentences.append(pred_word)\n",
    "    \n",
    "    # Remove tokens\n",
    "    tv_script = ' '.join(gen_sentences)\n",
    "    for key, token in token_dict.items():\n",
    "        ending = ' ' if key in ['\\n', '(', '\"'] else ''\n",
    "        tv_script = tv_script.replace(' ' + token.lower(), key)\n",
    "    tv_script = tv_script.replace('\\n ', '\\n')\n",
    "    tv_script = tv_script.replace('( ', '(')\n",
    "        \n",
    "    print(tv_script)"
   ]
  },
  {
   "cell_type": "markdown",
   "metadata": {
    "deletable": true,
    "editable": true
   },
   "source": [
    "# The TV Script is Nonsensical\n",
    "It's ok if the TV script doesn't make any sense.  We trained on less than a megabyte of text.  In order to get good results, you'll have to use a smaller vocabulary or get more data.  Luckly there's more data!  As we mentioned in the begging of this project, this is a subset of [another dataset](https://www.kaggle.com/wcukierski/the-simpsons-by-the-data).  We didn't have you train on all the data, because that would take too long.  However, you are free to train your neural network on all the data.  After you complete the project, of course.\n",
    "# Submitting This Project\n",
    "When submitting this project, make sure to run all the cells before saving the notebook. Save the notebook file as \"dlnd_tv_script_generation.ipynb\" and save it as a HTML file under \"File\" -> \"Download as\". Include the \"helper.py\" and \"problem_unittests.py\" files in your submission."
   ]
  },
  {
   "cell_type": "code",
   "execution_count": null,
   "metadata": {
    "collapsed": true
   },
   "outputs": [],
   "source": []
  },
  {
   "cell_type": "code",
   "execution_count": null,
   "metadata": {
    "collapsed": true
   },
   "outputs": [],
   "source": []
  }
 ],
 "metadata": {
  "kernelspec": {
   "display_name": "Python 3",
   "language": "python",
   "name": "python3"
  },
  "language_info": {
   "codemirror_mode": {
    "name": "ipython",
    "version": 3
   },
   "file_extension": ".py",
   "mimetype": "text/x-python",
   "name": "python",
   "nbconvert_exporter": "python",
   "pygments_lexer": "ipython3",
   "version": "3.5.3"
  },
  "widgets": {
   "state": {},
   "version": "1.1.2"
  }
 },
 "nbformat": 4,
 "nbformat_minor": 0
}
